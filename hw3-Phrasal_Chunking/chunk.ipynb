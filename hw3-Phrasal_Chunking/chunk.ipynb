{
 "cells": [
  {
   "cell_type": "markdown",
   "metadata": {},
   "source": [
    "# Homework: Phrasal Chunking"
   ]
  },
  {
   "cell_type": "markdown",
   "metadata": {},
   "source": [
    "This is your documentation for the chunker homework."
   ]
  },
  {
   "cell_type": "code",
   "execution_count": 24,
   "metadata": {},
   "outputs": [
    {
     "name": "stderr",
     "output_type": "stream",
     "text": [
      "reading data ...\n",
      "done.\n"
     ]
    },
    {
     "name": "stdout",
     "output_type": "stream",
     "text": [
      "Mistakes in epoch : 0  are:  16465\n",
      "Mistakes in epoch : 1  are:  9087\n",
      "Mistakes in epoch : 2  are:  5850\n",
      "Mistakes in epoch : 3  are:  4217\n",
      "Mistakes in epoch : 4  are:  3144\n",
      "Mistakes in epoch : 5  are:  2705\n",
      "Mistakes in epoch : 6  are:  2060\n",
      "Mistakes in epoch : 7  are:  1652\n",
      "Mistakes in epoch : 8  are:  1463\n",
      "Mistakes in epoch : 9  are:  1192\n",
      "wrote model to disk\n"
     ]
    }
   ],
   "source": [
    "import perc\n",
    "import default\n",
    "import sys\n",
    "from collections import defaultdict\n",
    "\n",
    "feat_vec = {}\n",
    "tagset = []\n",
    "train_data = []\n",
    "\n",
    "# The following code was written to implement http://www.cs.sfu.ca/~anoop/papers/pdf/ai05.pdf but it took a very long time\n",
    "# so we had to drop this implementation.\n",
    "\n",
    "# def specilization(train_data, tagset, istrain=False):\n",
    "#     words={}\n",
    "#     for i in train_data:\n",
    "#         for j in i[0]:\n",
    "#             if j in words.keys():\n",
    "#                 words[j]+=1\n",
    "#             else:\n",
    "#                 words[j]=1\n",
    "#     Ws=list()\n",
    "#     for key,value in words.items():\n",
    "#         if value>=100:\n",
    "#             Ws.append(key)\n",
    "#         else:\n",
    "#             h=key.split()\n",
    "#             if(h[1] in ['NP','VP','PP','ADVP']):\n",
    "#                 if value>=50:\n",
    "#                     Ws.append(key)\n",
    "#     words_list=[]\n",
    "#     for word in Ws:\n",
    "#         words_list.append(word.split()[0])\n",
    "#     new_train=[]\n",
    "#     for i in train_data:\n",
    "#         temp_list=[]\n",
    "#         for j in i[0]:\n",
    "#             if j.split()[0] in words_list:\n",
    "#                 temp_list.append(j.split()[0]+' '+j.split()[0]+'-'+j.split()[1]+' '+j.split()[0]+'-'+j.split()[1]+'-'+j.split()[2])\n",
    "#                 tag=j.split()[0]+'-'+j.split()[1]+'-'+j.split()[2]\n",
    "#                 if istrain:\n",
    "#                     if tag not in tagset:\n",
    "#                         tagset.append(tag)\n",
    "#             else:\n",
    "#                 temp_list.append(j.split()[0]+' '+j.split()[1]+' '+j.split()[1]+'-'+j.split()[2])\n",
    "#                 tag=j.split()[1]+'-'+j.split()[2]\n",
    "#                 if istrain:\n",
    "#                     if tag not in tagset:\n",
    "#                         tagset.append(tag)\n",
    "#         new_train.append((temp_list,i[1]))\n",
    "#     return new_train, tagset\n",
    "\n",
    "\n",
    "def perc_train(train_data, tagset,numepochs):\n",
    "    feat_vec = defaultdict(int)\n",
    "    sigma = defaultdict(int)\n",
    "    mistakes=0\n",
    "    # For each epoch we go through all the sentences in the training set.\n",
    "    for epoch in range(numepochs):\n",
    "        mistakes=0\n",
    "        # Each sentence is passed through the viterbi to get the argmax output of the labels.\n",
    "        for sentence in train_data:\n",
    "            # The prediction from viterbi is stored in pred.\n",
    "            pred=perc.perc_test(feat_vec,sentence[0],sentence[1],tagset,tagset[0])\n",
    "            true=[word.split()[2] for word in sentence[0]]\n",
    "            count=0\n",
    "            # Each label returned from the result of viterbi is checked with the true label.\n",
    "            for i in range(len(pred)):\n",
    "                count+=20\n",
    "                if(pred[i]!=true[i]): \n",
    "                    # Record the mistakes in all epochs\n",
    "                    mistakes+=1\n",
    "                    # For features of each of the word in the sentence, we make the updates in weight vector.\n",
    "                    for j in range(count-20,count):\n",
    "                        # We give a -1 update to the features of the wrong label.\n",
    "                        if (sentence[1][j],pred[i]) in feat_vec.keys():\n",
    "                            feat_vec[(sentence[1][j],pred[i])]-=1\n",
    "                        else:\n",
    "                            feat_vec[(sentence[1][j],pred[i])]=-1\n",
    "                        # We give a +1 update to the features of the true label.\n",
    "                        if (sentence[1][j],true[i]) in feat_vec.keys():\n",
    "                            feat_vec[(sentence[1][j],true[i])]+=1\n",
    "                        else:\n",
    "                            feat_vec[(sentence[1][j],true[i])]=1\n",
    "                    if i>0:\n",
    "                        # Similarly, we give -1 update to the wrong bigram features and \n",
    "                        # +1 update to bigram features in true label.\n",
    "                        if (\"B:\"+pred[i-1],pred[i]) in feat_vec.keys():\n",
    "                            feat_vec[(\"B:\"+pred[i-1],pred[i])]-=1\n",
    "                        else:\n",
    "                            feat_vec[(\"B:\"+pred[i-1],pred[i])]=-1\n",
    "                        if (\"B:\"+true[i-1],true[i]) in feat_vec.keys():\n",
    "                            feat_vec[(\"B:\"+true[i-1],true[i])]+=1\n",
    "                        else:\n",
    "                            feat_vec[(\"B:\"+true[i-1],true[i])]=1\n",
    "            # After going through each sentence, we aggregate the weights for all the features as mentioned in \n",
    "            # http://www.cs.sfu.ca/~anoop/papers/pdf/syntax-parsing-survey-2011.pdf\n",
    "            for feat,weight in feat_vec.items():\n",
    "                if feat in sigma.keys():\n",
    "                    sigma[feat]+=weight\n",
    "                else:\n",
    "                    sigma[feat]=weight\n",
    "                \n",
    "        print('Mistakes in epoch :',epoch,' are: ',mistakes)\n",
    "        \n",
    "    # We average the weight parameter using the formula γ = σ/(mT) mentioned in the above mentioned paper.\n",
    "    for feat,weight in sigma.items():\n",
    "        sigma[feat]=weight/(len(train_data)*numepochs)\n",
    "                       \n",
    "    # insert your code here\n",
    "    # please limit the number of iterations of training to n iterations\n",
    "    return sigma\n",
    "\n",
    "tagset = perc.read_tagset(\"data/tagset.txt\")\n",
    "print(\"reading data ...\", file=sys.stderr)\n",
    "train_data = perc.read_labeled_data(\"data/train.txt.gz\", \"data/train.feats.gz\", verbose=False)\n",
    "# train_data, tagset = specilization(train_data, tagset, istrain=True)\n",
    "print(\"done.\", file=sys.stderr)\n",
    "feat_vec = perc_train(train_data, tagset,10)\n",
    "perc.perc_write_to_file(feat_vec, \"default.model\")\n",
    "print(\"wrote model to disk\")"
   ]
  },
  {
   "cell_type": "markdown",
   "metadata": {},
   "source": [
    "# Baseline and Weighted Average Implementation\n",
    "\n",
    "The above code is an implementation of the baseline, which gave us an F-score of around <b>92.3</b>.\n",
    "The baseline was implemented by taking reference from <i>Michael Collins. Discriminative Training Methods for Hidden Markov Models: Theory and Experiments with Perceptron Algorithms. EMNLP 2002.</i>\n",
    "\n",
    "Following this, we implemented the averaged perceptron algorithm. This algorithm was referenced from <i>http://www.cs.sfu.ca/~anoop/papers/pdf/syntax-parsing-survey-2011.pdf</i>. After completing this implementation, we got an <b>F-score</b> of <b>93.61</b> with training on <b>10 iterations</b>. This the current model that we are using."
   ]
  },
  {
   "cell_type": "markdown",
   "metadata": {},
   "source": [
    "# Specialized Representations\n",
    "\n",
    "The team also tried to implement specialized reperesentations for the input. We took reference from <i>http://www.cs.sfu.ca/~anoop/papers/pdf/ai05.pdf</i> in order to tranform the input into new <b>pos tags</b> and <b>chunk labels</b>.\n",
    "\n",
    "We managed to transform the input and created new chunk tags as mentioned in the paper. We had <b>175</b> words in the <b>Ws</b> set which is used to produce various kinds of lexicalized models.\n",
    "\n",
    "Also, the tagset increased from <b>22</b> to <b>975</b>. But, we couldn't go through with this implementation because we had limited computing resources and the code took a very long time and kept on running without producing results."
   ]
  },
  {
   "cell_type": "code",
   "execution_count": null,
   "metadata": {},
   "outputs": [
    {
     "name": "stderr",
     "output_type": "stream",
     "text": [
      "reading test data ...\n",
      "done.\n"
     ]
    }
   ],
   "source": [
    "%%capture --no-stderr output\n",
    "print(\"reading test data ...\", file=sys.stderr)\n",
    "test_data = perc.read_labeled_data(\"data/dev.txt\", \"data/dev.feats\", verbose=False)\n",
    "print(\"done.\", file=sys.stderr)\n",
    "feat_vec = perc.perc_read_from_file(\"default.model\")\n",
    "perc.perc_testall(feat_vec, test_data, tagset)"
   ]
  },
  {
   "cell_type": "code",
   "execution_count": 26,
   "metadata": {},
   "outputs": [
    {
     "name": "stdout",
     "output_type": "stream",
     "text": [
      "processed 500 sentences with 10375 tokens and 5783 phrases; found phrases: 5789; correct phrases: 5416\n",
      "             ADJP: precision:  73.20%; recall:  71.72%; F1:  72.45; found:     97; correct:     99\n",
      "             ADVP: precision:  78.37%; recall:  80.69%; F1:  79.51; found:    208; correct:    202\n",
      "            CONJP: precision: 100.00%; recall:  60.00%; F1:  75.00; found:      3; correct:      5\n",
      "             INTJ: precision:   0.00%; recall:   0.00%; F1:   0.00; found:      0; correct:      1\n",
      "               NP: precision:  94.33%; recall:  94.05%; F1:  94.19; found:   3017; correct:   3026\n",
      "               PP: precision:  96.76%; recall:  97.95%; F1:  97.35; found:   1236; correct:   1221\n",
      "              PRT: precision:  80.95%; recall:  77.27%; F1:  79.07; found:     21; correct:     22\n",
      "             SBAR: precision:  84.62%; recall:  82.24%; F1:  83.41; found:    104; correct:    107\n",
      "               VP: precision:  93.56%; recall:  93.82%; F1:  93.69; found:   1103; correct:   1100\n",
      "accuracy:  95.56%; precision:  93.56%; recall:  93.65%; F1:  93.61\n",
      "Score: 93.61\n"
     ]
    }
   ],
   "source": [
    "import score_chunks\n",
    "boundary = \"-X-\" # something to use as boundary between sentences\n",
    "outside = \"O\" # tag used to mark the outside of any chunk\n",
    "conlleval = False # use conlleval (should be False for most use cases)\n",
    "numfeats = 2 # number of columns to consider as features, typically \"word POStag\"\n",
    "(test, _) = score_chunks.readTestFile(str(output), boundary, outside, conlleval, numfeats)\n",
    "with open(\"data/reference500.txt\") as f:\n",
    "    (reference, _) = score_chunks.readTestFile(f.read(), boundary, outside, conlleval, numfeats)\n",
    "print(\"Score: %.2f\" % score_chunks.corpus_fmeasure(reference, test, False))"
   ]
  }
 ],
 "metadata": {
  "kernelspec": {
   "display_name": "Python 3",
   "language": "python",
   "name": "python3"
  },
  "language_info": {
   "codemirror_mode": {
    "name": "ipython",
    "version": 3
   },
   "file_extension": ".py",
   "mimetype": "text/x-python",
   "name": "python",
   "nbconvert_exporter": "python",
   "pygments_lexer": "ipython3",
   "version": "3.6.0"
  }
 },
 "nbformat": 4,
 "nbformat_minor": 2
}
