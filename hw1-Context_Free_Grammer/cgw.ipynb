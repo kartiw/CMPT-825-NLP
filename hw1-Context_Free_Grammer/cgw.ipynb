{
 "cells": [
  {
   "cell_type": "markdown",
   "metadata": {},
   "source": [
    "# Homework 1: Competitive Grammar Writing\n",
    "\n",
    "## 1. Tagged the allowed words\n",
    "\n",
    "In this step, we tag all the words present in allowed_words.txt with self generated tags.\n",
    "\n",
    "##  2. Replaced all the word tags in devset.trees\n",
    "\n",
    "The second step replaces the default given tag in devset.trees with self generated tags.\n",
    "\n",
    "## 3. Generated grammar rules\n",
    "\n",
    "We applied 3 different approaches to generate the grammar files.\n",
    "\n",
    "## 4. Tested grammar files\n",
    "\n",
    "We tested the S1.gr, S2.gr and Vocab.gr on one sentence, example_sentences.txt, and devset.txt"
   ]
  },
  {
   "cell_type": "markdown",
   "metadata": {},
   "source": [
    "## 1. Tagged all allowed_words manually combined with nltk\n",
    "\n",
    "We did not use <b>NLTK</b> directly to tag all the words because NLTK tags were giving us inconsistent grammar rules and were not in accordance to the tags given in original <b>Vocab.gr</b>."
   ]
  },
  {
   "cell_type": "code",
   "execution_count": null,
   "metadata": {
    "collapsed": true
   },
   "outputs": [],
   "source": [
    "\"\"\"Mapping dictionary from NLTK tags to Vocab tags\"\"\"\n",
    "pos_mappings = {\"PRP\": \"PRP\",\n",
    "        \"NNS\": \"Nouns\",\n",
    "        \"RB\": \"Adv\",\n",
    "        \"WP$\": \"Wh_prop\",\n",
    "        \"MD\": \"MD\",\n",
    "        \"CD\": \"Number\",\n",
    "        \")\": \"Punc\",\n",
    "        \"(\": \"Punc\",\n",
    "        \":\": \"Punc\",\n",
    "        \"``\": \"Punc\",\n",
    "        \"''\": \"Punc\",\n",
    "        \"\\\"\": \"Punc\",\n",
    "        \".\": \"Pause\",\n",
    "        \",\": \"Punc\",\n",
    "        \"TO\": \"TO\",\n",
    "        \"EX\": \"Adv\",\n",
    "        \"PRP$\": \"Poss_pron\",\n",
    "        \"VB\": \"VB\",\n",
    "        \"CC\": \"CC\",\n",
    "        \"VBP\": \"VBP\",\n",
    "        \"JJS\": \"AdjS\",\n",
    "        \"RBR\": \"RBR\",\n",
    "        \"VBN\": \"VBN\",\n",
    "        \"JJR\": \"Adjc\",\n",
    "        \"IN\": [\"CONJ\", \"Prep\"],\n",
    "        \"VBG\": \"VBG\",\n",
    "        \"VBD\": \"VBD\",\n",
    "        \"NN\": \"Noun\",\n",
    "        \"UH\": \"UH\",\n",
    "        \"POS\": \"POS\",\n",
    "        \"WP\": \"Wh_pro\",\n",
    "        \"NNP\": \"Proper\",\n",
    "        \"WRB\": \"Qword\",\n",
    "        \"VBZ\": \"VerbT\",\n",
    "        \"JJ\": \"Adj\",\n",
    "        \"DT\": \"Det\"     \n",
    "        }"
   ]
  },
  {
   "cell_type": "markdown",
   "metadata": {},
   "source": [
    "The following code runs through the vocabulary file which contains the original words from <b>Vocab.gr</b> as well as the words from <b>allowed_words.txt</b> and tags words that have a <b>Misc</b> tag. This is done by using NLTK to tag words which are then mapped using the <b>pos_mappings</b> dictionary above. Improving vocabulary tags from <b>Misc</b> to a more fitting tag is likely help to generate better grammars."
   ]
  },
  {
   "cell_type": "code",
   "execution_count": null,
   "metadata": {
    "collapsed": true
   },
   "outputs": [],
   "source": [
    "with open(\"Vocab_old.gr\") as fo:\n",
    "    with open(\"Vocab_new.gr\", \"w\") as fn:\n",
    "        for line in fo:\n",
    "            line_tokens = line.strip().split(\"\\t\")\n",
    "            if len(line_tokens) == 3 and line_tokens[1] == \"Misc\":\n",
    "                nltk_tag = nltk.tag.pos_tag([line_tokens[2]])\n",
    "                real_tag = pos_mappings.get(nltk_tag[0][1])\n",
    "                if type(real_tag) == list:\n",
    "                    # in the case of many possible tags\n",
    "                    for i in real_tag:\n",
    "                        multi_tag = line\n",
    "                        multi_tag = multi_tag.replace(\"Misc\", i)\n",
    "                        fn.write(multi_tag)\n",
    "                else:\n",
    "                    line = line.replace(\"Misc\", real_tag)\n",
    "                    fn.write(line)\n",
    "            else:\n",
    "                fn.write(line)"
   ]
  },
  {
   "cell_type": "markdown",
   "metadata": {},
   "source": [
    "## 2. Replaced all the word tags in devset.trees\n",
    "From our observations, we decided to create our own tags for the grammar to create better and more detailed grammar."
   ]
  },
  {
   "cell_type": "code",
   "execution_count": null,
   "metadata": {
    "collapsed": true
   },
   "outputs": [],
   "source": [
    "from pcfg_parse_gen import Pcfg, PcfgGenerator, CkyParse\n",
    "import nltk\n",
    "from nltk import Tree\n",
    "from collections import Counter\n",
    "import re\n",
    "\n",
    "def print_tree(tree_string):\n",
    "    tree_string = tree_string.strip()\n",
    "    tree = nltk.Tree.fromstring(tree_string)\n",
    "    tree.pretty_print()\n",
    "\n",
    "def draw_tree(tree_string):\n",
    "    tree_string = tree_string.strip()\n",
    "    tree = nltk.Tree.fromstring(tree_string)\n",
    "    tree.draw()"
   ]
  },
  {
   "cell_type": "markdown",
   "metadata": {},
   "source": [
    "The following function takes the a <b>tree</b> file and parses it into a string that can be understood by the nltk <b>fromstring</b> method. The second task done by this function is to extract the start tags"
   ]
  },
  {
   "cell_type": "code",
   "execution_count": null,
   "metadata": {
    "collapsed": true
   },
   "outputs": [],
   "source": [
    "def parse_trees(filenames):\n",
    "    all_trees = list()\n",
    "    new_tree=\" \"\n",
    "    start_symbol_tree=list() #used for getting the first symbol that S1 points to\n",
    "    \n",
    "    for filename in filenames:\n",
    "        with open(filename, 'r') as f:\n",
    "            lines=f.readlines()\n",
    "\n",
    "\n",
    "        for line in lines:\n",
    "            if line.startswith(' '):\n",
    "                new_tree = new_tree + str(line).strip()\n",
    "            else:\n",
    "                all_trees.append(new_tree.strip())\n",
    "                new_tree = \" \"\n",
    "                new_tree = new_tree + str(line).strip()\n",
    "\n",
    "                start_symbol_tree.append(line)\n",
    "\n",
    "    parsed_trees=all_trees[1:]        \n",
    "            \n",
    "    return parsed_trees, start_symbol_tree"
   ]
  },
  {
   "cell_type": "markdown",
   "metadata": {},
   "source": [
    "The <b>check_parentheses</b> and <b>find_parentheses</b> functions are mainly used to find leaf nodes of the tree so we can substitute the tags with our tags. These functions were important as we couldn't find or are unaware of existing python functions. The function was obtained from the following source: https://scipython.com/blog/parenthesis-matching-in-python/ "
   ]
  },
  {
   "cell_type": "code",
   "execution_count": null,
   "metadata": {
    "collapsed": true
   },
   "outputs": [],
   "source": [
    "def check_parentheses(s):\n",
    "    \"\"\" Return True if the parentheses in string s match, otherwise False. \"\"\"\n",
    "    j = 0\n",
    "    for c in s:\n",
    "        if c == ')':\n",
    "            j -= 1\n",
    "            if j < 0:\n",
    "                return False\n",
    "        elif c == '(':\n",
    "            j += 1\n",
    "    return j == 0\n",
    "\n",
    "def find_parentheses(s):\n",
    "    \"\"\" Find and return the location of the matching parentheses pairs in s.\n",
    "\n",
    "    Given a string, s, return a dictionary of start: end pairs giving the\n",
    "    indexes of the matching parentheses in s. Suitable exceptions are\n",
    "    raised if s contains unbalanced parentheses.\n",
    "\n",
    "    \"\"\"\n",
    "\n",
    "    # The indexes of the open parentheses are stored in a stack, implemented\n",
    "    # as a list\n",
    "\n",
    "    stack = []\n",
    "    parentheses_locs = {}\n",
    "    for i, c in enumerate(s):\n",
    "        if c == '(':\n",
    "            stack.append(i)\n",
    "        elif c == ')':\n",
    "            try:\n",
    "                parentheses_locs[stack.pop()] = i\n",
    "            except IndexError:\n",
    "                raise IndexError('Too many close parentheses at index {}'\n",
    "                                                                .format(i))\n",
    "    if stack:\n",
    "        raise IndexError('No matching close parenthesis to open parenthesis '\n",
    "                         'at index {}'.format(stack.pop()))\n",
    "    return parentheses_locs\n",
    "\n",
    "def convert_locs(parentheses_locs):\n",
    "    return sorted([(k,v) for k, v in parentheses_locs.items()])"
   ]
  },
  {
   "cell_type": "code",
   "execution_count": 2,
   "metadata": {},
   "outputs": [],
   "source": [
    "with open(\"Vocab.gr\",\"r\") as f:\n",
    "    vocab = f.readlines()"
   ]
  },
  {
   "cell_type": "markdown",
   "metadata": {},
   "source": [
    "The following code creates a dictionary of words as key and its tag as value. This will be used later to cross check with <b>allowed_words</b> and generate our own tags."
   ]
  },
  {
   "cell_type": "code",
   "execution_count": null,
   "metadata": {},
   "outputs": [],
   "source": [
    "stripped_vocab=[]\n",
    "tags=dict()\n",
    "\n",
    "for v in vocab:\n",
    "    if str(v).startswith(\"#\") or str(v).startswith(\"\\n\"):\n",
    "        continue\n",
    "    else:\n",
    "        word=\"\"\n",
    "        tag=\"\"\n",
    "        try:\n",
    "            tag = str(v).split(\"\\t\")[1].strip()\n",
    "            word = str(v).split(\"\\t\")[2].strip()\n",
    "        except:\n",
    "            print(v)\n",
    "            continue\n",
    "        tags[word]=tag\n",
    "        stripped_vocab.append(word)\n",
    "\n",
    "tags[\".\"]=\"Punc\"\n",
    "tags[\"do\"]=\"VB\"\n",
    "tags[\"does\"]=\"VB\"\n",
    "tags[\"is\"]=\"VBP\""
   ]
  },
  {
   "cell_type": "code",
   "execution_count": null,
   "metadata": {
    "collapsed": true
   },
   "outputs": [],
   "source": [
    "vocab,starts_sym=parse_trees([\"devset.trees\"])"
   ]
  },
  {
   "cell_type": "markdown",
   "metadata": {},
   "source": [
    "The below code actual conversion of the old tags with our tags using the dictionary and the functions in the above cells."
   ]
  },
  {
   "cell_type": "code",
   "execution_count": null,
   "metadata": {
    "collapsed": true
   },
   "outputs": [],
   "source": [
    "new_vocab=[]\n",
    "for v in vocab:\n",
    "    if not check_parentheses(v):\n",
    "        print(v)\n",
    "    parentheses_locs = find_parentheses(v)\n",
    "    locs=convert_locs(parentheses_locs)\n",
    "    \n",
    "    old_words=[]\n",
    "    new_words=[]\n",
    "    \n",
    "    for loc in locs:\n",
    "        tag_word_list=v[loc[0]+1:loc[1]].split(\" \")\n",
    "        \n",
    "        if len(tag_word_list) != 2:\n",
    "            continue\n",
    "        else:\n",
    "            old_words.append(tag_word_list[0]+\" \"+ tag_word_list[1])\n",
    "            tag_word_list[0]=tags[tag_word_list[1]] #replace old tags with our tags\n",
    "            new_words.append(tag_word_list[0]+\" \"+ tag_word_list[1])\n",
    "            \n",
    "            \n",
    "    for num in range(0,len(old_words)):\n",
    "        v = v.replace(old_words[num],new_words[num])\n",
    "    \n",
    "    new_vocab.append(v)\n"
   ]
  },
  {
   "cell_type": "markdown",
   "metadata": {},
   "source": [
    "## 3. Generated grammar rules\n",
    "\n",
    "Three different approaches used to create the grammars:\n",
    "\n",
    "### 3.1 Generated grammar rules based on devset.trees\n",
    "We parsed the trees in the devset.trees file. After that we extracted all the grammar rules from the parsed trees.\n",
    "\n",
    "### 3.2 Manually generated grammar rules\n",
    "Some of the rules were generated manually in order to bring correctness into our grammar.\n",
    "\n",
    "### 3.3 Generated self rules for S2\n",
    "S2 rules were created through code which covers how often a word follows another word in devset.txt"
   ]
  },
  {
   "cell_type": "markdown",
   "metadata": {},
   "source": [
    "The <b>generate_grammer</b> function uses the output from the parse_tree function to generate the new grammar, it outputs the grammar in <b>Chomsky Normal Form</b> along with weights for each rule. We also obtain weights for the terminal nodes which is used to generate Vocab.gr"
   ]
  },
  {
   "cell_type": "code",
   "execution_count": null,
   "metadata": {
    "collapsed": true
   },
   "outputs": [],
   "source": [
    "def generate_grammers(trees):\n",
    "    #generates non-terminal (s1) and terminal (vocab) grammer\n",
    "    \n",
    "    grammar=dict()\n",
    "    \n",
    "    for tree in trees:\n",
    "        t = Tree.fromstring(tree)\n",
    "        t.chomsky_normal_form()\n",
    "        productions = t.productions()\n",
    "        for production in productions:\n",
    "            has_quotes = str(production).find(\"\\'\")\n",
    "            if has_quotes == -1:\n",
    "                if production in grammar:\n",
    "                    grammar[production] += 1\n",
    "                else:\n",
    "                    grammar[production] = 1\n",
    "\n",
    "    return grammar"
   ]
  },
  {
   "cell_type": "markdown",
   "metadata": {},
   "source": [
    "The generate_start_symbols functions creates the initial rules <b>(of the type S1 -> tags)</b>"
   ]
  },
  {
   "cell_type": "code",
   "execution_count": null,
   "metadata": {
    "collapsed": true
   },
   "outputs": [],
   "source": [
    "def generate_start_symbols(start_symb):\n",
    "    start_symb_dict=dict()\n",
    "    symbol_list=list()\n",
    "\n",
    "    for one_line in start_symb:\n",
    "        symbol_list.append(str(one_line).split(\"(\")[1].strip())\n",
    "\n",
    "    start_symb_dict=Counter(symbol_list)\n",
    "    return start_symb_dict\n"
   ]
  },
  {
   "cell_type": "markdown",
   "metadata": {},
   "source": [
    "The below function is used to generate tags for <b>Vocab.gr</b> from the devset trees. After that we check whether those words are present in <b>allowed_words</b> and add them to the <b>Vocab.gr</b>."
   ]
  },
  {
   "cell_type": "code",
   "execution_count": null,
   "metadata": {
    "collapsed": true
   },
   "outputs": [],
   "source": [
    "def generate_vocab(vocab):\n",
    "    F=open('allowed_words.txt','r')\n",
    "    wordsList = []\n",
    "    for line in F:\n",
    "        wordsList.append(line.strip('\\n'))\n",
    "    tags=nltk.tag.pos_tag(wordsList) #Creating tags for words in allowed_words.txt\n",
    "    vocabFile=open('Vocab.gr','r')\n",
    "    vocabList = []\n",
    "    for line in vocabFile:\n",
    "        vocabList.append(line.strip('\\n'))\n",
    "    present_words=dict()\n",
    "    for i in vocabList: #Creating dictionary present_words of type (word,tag):weight in vocab.gr file\n",
    "        if(i.startswith('1')):\n",
    "            x=i.split(' ')\n",
    "            elements= list(filter(None,x))\n",
    "            present_words[(elements[2],elements[1])]=1\n",
    "    new_words=dict(tags) #Creating dictionary new_words of type (word,tag):weight for allowed_words.txt file\n",
    "    for key in new_words:\n",
    "        present_words[(key,new_words[key])]=1 #Including new_words dictionary elements in present_words dictionary\n",
    "    wordsDevset=dict()\n",
    "    for key in vocab.keys():\n",
    "        word=str(key).split(' ')[-1]\n",
    "        a=word.strip(\"\\'\")\n",
    "        wordsDevset[(a,str(key).split(' ')[0])]=vocab[key] #Creating dictionary wordsDevset of type (word,tag):weight for devset.txt file\n",
    "    difference=set(dict(wordsDevset.keys()).keys())-(set(dict(present_words.keys()).keys())) #Excluding words from devset that are not in allowed_words.txt\n",
    "\n",
    "    wordsDevset={key: wordsDevset[key] for key in wordsDevset if key[0] not in difference}\n",
    "\n",
    "    for key in wordsDevset:\n",
    "        present_words[key]=wordsDevset[key] #Including wordsDevset dictionary elements in present_words dictionary\n",
    "\n",
    "    present_words={key: present_words[key] for key in present_words if key[0] != [\"Misc\",\"Noun\",\"Proper\",\"VerbT\"]}\n",
    "    \n",
    "    for key in present_words: #Writing the new Vocab file\n",
    "        cfg=str(present_words[key])+\"\\t\"+key[1]+\"\\t\"+key[0]\n",
    "        with open('Vocab.gr', 'a') as f:\n",
    "           f.write(cfg)\n",
    "           f.write(\"\\n\")\n",
    "    return"
   ]
  },
  {
   "cell_type": "markdown",
   "metadata": {},
   "source": [
    "The <b>write_ss</b> and <b>generate_s1</b> are functions to write the generated grammars to <b>S1.gr</b> and <b>S2.gr</b>"
   ]
  },
  {
   "cell_type": "code",
   "execution_count": null,
   "metadata": {
    "collapsed": true
   },
   "outputs": [],
   "source": [
    "def generate_s1(grammar):\n",
    "    for key, value in grammar.items():\n",
    "\n",
    "        cfg=\"\"\n",
    "\n",
    "        split_key = str(key).split(\"->\")\n",
    "\n",
    "        split_non_terminal=split_key[1].split()\n",
    "\n",
    "        try:\n",
    "            cfg=str(value)+\"\\t\"+str(split_key[0]).strip()+\"\\t\"+str(split_non_terminal[0]).strip()+\" \"+str(split_non_terminal[1]).strip()\n",
    "            \n",
    "            with open('S2.gr', 'a') as f:\n",
    "                f.write(cfg)\n",
    "                f.write(\"\\n\") \n",
    "        except:\n",
    "            cfg=str(value)+\"\\t\"+str(split_key[0]).strip()+\"\\t\"+str(split_non_terminal[0]).strip()\n",
    "            with open('S2.gr', 'a') as f:\n",
    "                f.write(cfg)\n",
    "                f.write(\"\\n\") \n",
    "            \n",
    "\n",
    "def write_ss(ss):\n",
    "    for key, value in ss.items(): \n",
    "        to_write=str(value)+\"\\tS2\\t\"+str(key)\n",
    "        with open('S2.gr', 'a') as f:\n",
    "                f.write(to_write)\n",
    "                f.write(\"\\n\")\n",
    "    return"
   ]
  },
  {
   "cell_type": "markdown",
   "metadata": {},
   "source": [
    "The following code is a function to create the <b>S2</b> rules and takes as input the S2 sentences along with dictionary of all the words present in <b>Vocab.gr</b>. It appends the S2 grammar with the new rule generated. It generates general rules of a word following another for back-off ."
   ]
  },
  {
   "cell_type": "code",
   "execution_count": null,
   "metadata": {
    "collapsed": true
   },
   "outputs": [],
   "source": [
    "def create_S2_rules(sent,present_words):\n",
    "    sentence=sent.rstrip()\n",
    "    words=sentence.split(\" \")\n",
    "    words.reverse()\n",
    "    print(words)\n",
    "    for i in range(len(words)):\n",
    "        print(words[i],present_words[words[i]])\n",
    "        with open('S2.gr', 'a') as f:\n",
    "            if(i==len(words)-1):\n",
    "                line=\"1   \"+\"S2 \"+present_words[words[i]]+\" _\"+present_words[words[i-1]]\n",
    "            elif(i==0):\n",
    "                line='1   _'+present_words[words[i]]+\" \"+present_words[words[i]]\n",
    "            else:\n",
    "                line='1   _'+present_words[words[i]]+\" \"+present_words[words[i]]+\" _\"+present_words[words[i-1]]\n",
    "            f.write(line)\n",
    "            f.write(\"\\n\")"
   ]
  },
  {
   "cell_type": "markdown",
   "metadata": {},
   "source": [
    "The below code reads the Vocab file and creates a dictionary of form <b>(word,tag)</b>. This dictionary along with sentences from devset are passed to the <b>create_S2_rules</b> function."
   ]
  },
  {
   "cell_type": "code",
   "execution_count": null,
   "metadata": {
    "collapsed": true
   },
   "outputs": [],
   "source": [
    "vocabFile=open('Vocab.gr','r')\n",
    "vocabList = []\n",
    "for line in vocabFile:\n",
    "    vocabList.append(line.strip('\\n'))\n",
    "present_words=dict()\n",
    "for i in vocabList: #Creating dictionary present_words of type (word,tag):weight in vocab.gr file\n",
    "    if(i.startswith('1')):\n",
    "        x=i.split(' ')\n",
    "        elements= list(filter(None,x))\n",
    "        present_words[elements[2]]=elements[1]\n",
    "with open(\"devset.txt\") as f:\n",
    "    for line in f:\n",
    "        print(line)\n",
    "        create_S2_rules(line,present_words) "
   ]
  },
  {
   "cell_type": "code",
   "execution_count": null,
   "metadata": {},
   "outputs": [],
   "source": [
    "new_vocab[2]"
   ]
  },
  {
   "cell_type": "code",
   "execution_count": null,
   "metadata": {},
   "outputs": [],
   "source": [
    "s1=generate_grammers(new_vocab)\n",
    "generate_s1(s1)"
   ]
  },
  {
   "cell_type": "code",
   "execution_count": null,
   "metadata": {
    "collapsed": true
   },
   "outputs": [],
   "source": [
    "ss=generate_start_symbols(starts_sym)\n",
    "\n",
    "write_ss(ss)\n"
   ]
  },
  {
   "cell_type": "markdown",
   "metadata": {},
   "source": [
    "## 4. Tested the grammar files"
   ]
  },
  {
   "cell_type": "markdown",
   "metadata": {},
   "source": [
    "### 4.1 Tested on a sentences"
   ]
  },
  {
   "cell_type": "code",
   "execution_count": 6,
   "metadata": {},
   "outputs": [
    {
     "name": "stdout",
     "output_type": "stream",
     "text": [
      "(TOP (S1 (VBN_Det (_VBN (Proper Arthur) (VBN suggested)) (_Det (Det that) (NP_VBD (NP (NP (Det the) (Noun castle)) (VP (VB be) )) (_VBD (VBD carried) (Punc .))))) ) )\n",
      "-cross entropy: -10.600491674906678\n",
      "                             TOP                                      \n",
      "                              |                                        \n",
      "                              S1                                      \n",
      "                              |                                        \n",
      "                           VBN_Det                                    \n",
      "         _____________________|__________                              \n",
      "        |                               _Det                          \n",
      "        |               _________________|______                       \n",
      "        |              |                      NP_VBD                  \n",
      "        |              |                  ______|_____________         \n",
      "        |              |                 NP                   |       \n",
      "        |              |             ____|______              |        \n",
      "       _VBN            |            NP          VP           _VBD     \n",
      "   _____|_______       |       _____|____       |        _____|____    \n",
      "Proper         VBN    Det    Det        Noun    VB     VBD        Punc\n",
      "  |             |      |      |          |      |       |          |   \n",
      "Arthur      suggested that   the       castle   be   carried       .  \n",
      "\n"
     ]
    },
    {
     "name": "stderr",
     "output_type": "stream",
     "text": [
      "#reading grammar file: S1.gr\n",
      "#reading grammar file: S2.gr\n",
      "#Ignored cycle NP -> NP\n",
      "#Ignored cycle NP -> NP\n",
      "#reading grammar file: Vocab.gr\n",
      "#parsing: ['Arthur', 'suggested', 'that', 'the', 'castle', 'be', 'carried', '.']\n",
      "#-cross entropy (bits/word): -10.6005\n"
     ]
    }
   ],
   "source": [
    "parse_gram = Pcfg([\"S1.gr\",\"S2.gr\",\"Vocab.gr\"])\n",
    "parser = CkyParse(parse_gram, beamsize=0.00001)\n",
    "ce, trees = parser.parse_sentences([\"Arthur suggested that the castle be carried .\"])\n",
    "print(\"-cross entropy: {}\".format(ce))\n",
    "for tree_string in trees:\n",
    "    print_tree(tree_string)"
   ]
  },
  {
   "cell_type": "markdown",
   "metadata": {},
   "source": [
    "### 4.2 Tested on example_sentences.txt"
   ]
  },
  {
   "cell_type": "code",
   "execution_count": 4,
   "metadata": {},
   "outputs": [
    {
     "name": "stderr",
     "output_type": "stream",
     "text": [
      "#reading grammar file: S1.gr\n",
      "#reading grammar file: S2.gr\n",
      "#Ignored cycle NP -> NP\n",
      "#Ignored cycle NP -> NP\n",
      "#reading grammar file: Vocab.gr\n",
      "#parsing: ['Arthur', 'is', 'the', 'king', '.']\n",
      "#parsing: ['Arthur', 'rides', 'the', 'horse', 'near', 'the', 'castle', '.']\n",
      "#parsing: ['riding', 'to', 'Camelot', 'is', 'hard', '.']\n",
      "#parsing: ['do', 'coconuts', 'speak', '?']\n",
      "#parsing: ['what', 'does', 'Arthur', 'ride', '?']\n",
      "#parsing: ['who', 'does', 'Arthur', 'suggest', 'she', 'carry', '?']\n",
      "#parsing: ['why', 'does', 'England', 'have', 'a', 'king', '?']\n",
      "#parsing: ['are', 'they', 'suggesting', 'Arthur', 'ride', 'to', 'Camelot', '?']\n"
     ]
    },
    {
     "name": "stdout",
     "output_type": "stream",
     "text": [
      "(TOP (S2 (S (NP (Proper Arthur) ) (S|<VP-Punc> (VP (VBP is) (NP (Det the) (Noun king))) (Punc .))) ) )\n",
      "(TOP (S2 (S (NP (Proper Arthur) ) (S|<VP-Punc> (VP (VerbT rides) (NP (NP (Det the) (Noun horse)) (PP (Prep near) (NP (Det the) (Noun castle))))) (Punc .))) ) )\n",
      "(TOP (S1 (VP (VBG riding) (PP (TO to) (NP (NNP Camelot) ))) (_VP (VP (VBP is) (ADJP (Adj hard) )) (Punc .))) )\n",
      "(TOP (S1 (Qst (_Aux (Aux do) (_Nouns (Nouns coconuts) (VB speak))) ) (Qmark ?)) )\n",
      "(TOP (S1 (Qst (Qword what) (_Aux (Aux does) (_Proper (Proper Arthur) (VBP ride)))) (Qmark ?)) )\n",
      "(TOP (S2 (SBARQ (WHNP (Wh_pro who) ) (SBARQ|<SQ-Qmark> (SQ (VB does) (SQ|<NP-VP> (NP (Proper Arthur) ) (VP (VB suggest) (S (NP (PRP she) ) (VP (VB carry) ))))) (Qmark ?))) ) )\n",
      "(TOP (S2 (SBARQ (WHNP (Qword why) ) (SBARQ|<SQ-Qmark> (SQ (VB does) (SQ|<NP-VP> (NP (NNP England) ) (VP (VB have) (NP (Det a) (Noun king))))) (Qmark ?))) ) )\n",
      "(TOP (S1 (Qst (_VBP (VBP are) (_PRP (PRP they) (_VBG (VBG suggesting) (_Proper (Proper Arthur) (_VBP (VBP ride) (_TO (TO to) (NNP Camelot))))))) ) (Qmark ?)) )\n"
     ]
    },
    {
     "name": "stderr",
     "output_type": "stream",
     "text": [
      "#parsing: ['five', 'strangers', 'are', 'at', 'the', 'Round', 'Table', '.']\n",
      "#parsing: ['Guinevere', 'might', 'have', 'known', '.']\n",
      "#parsing: ['Guinevere', 'should', 'be', 'riding', 'with', 'Patsy', '.']\n",
      "#parsing: ['it', 'is', 'Sir', 'Lancelot', 'who', 'knows', 'Zoot', '!']\n",
      "#parsing: ['either', 'Arthur', 'knows', 'or', 'Patsy', 'does', '.']\n",
      "#parsing: ['neither', 'Sir', 'Lancelot', 'nor', 'Guinevere', 'will', 'speak', 'of', 'it', '.']\n"
     ]
    },
    {
     "name": "stdout",
     "output_type": "stream",
     "text": [
      "(TOP (S2 (S (NP (Number five) (Nouns strangers)) (S|<VP-Punc> (VP (VBP are) (PP (Prep at) (NP (Det the) (NP|<Noun-Noun> (Noun Round) (Noun Table))))) (Punc .))) ) )\n",
      "(TOP (S2 (S (NP (Proper Guinevere) ) (S|<VP-Punc> (VP (MD might) (VP (VB have) (VP (VBN known) ))) (Punc .))) ) )\n",
      "(TOP (S2 (S (NP (Proper Guinevere) ) (S|<VP-Punc> (VP (MD should) (VP (VB be) (VP (VBG riding) (PP (Prep with) (NP (Proper Patsy) ))))) (Punc .))) ) )\n",
      "(TOP (S1 (NP (PRP it) ) (_VP (_VerbT (VerbT is) (_Proper (Proper Sir) (_Noun (Noun Lancelot) (_Wh_pro (Wh_pro who) (_VBS (VBS knows) (_Proper (Proper Zoot) )))))) (Punc !))) )\n",
      "(TOP (S1 (_CC_either (CC_either either) (_CC_balance_either (_Proper (Proper Arthur) (_VBS (VBS knows) )) (_CC_end_either (CC_or or) (_Proper (Proper Patsy) (_Aux (Aux does) (Punc .)))))) ) )\n",
      "(TOP (S1 (S1 (_CC_neither (CC_neither neither) (_CC_balance_neither (_Proper (Proper Sir) (_Noun (Noun Lancelot) )) (_CC_end_neither (CC_nor nor) (_Proper (Proper Guinevere) )))) ) (VP_Punc (VP (MD will) (VP (VB speak) (PP (Prep of) (NP (PRP it) )))) (Punc .))) )\n"
     ]
    },
    {
     "name": "stderr",
     "output_type": "stream",
     "text": [
      "#parsing: ['the', 'Holy', 'Grail', 'was', 'covered', 'by', 'a', 'yellow', 'fruit', '.']\n",
      "#parsing: ['Zoot', 'might', 'have', 'been', 'carried', 'by', 'a', 'swallow', '.']\n",
      "#parsing: ['Arthur', 'rode', 'to', 'Camelot', 'and', 'drank', 'from', 'his', 'chalice', '.']\n",
      "#parsing: ['they', 'migrate', 'precisely', 'because', 'they', 'know', 'they', 'will', 'grow', '.']\n"
     ]
    },
    {
     "name": "stdout",
     "output_type": "stream",
     "text": [
      "(TOP (S2 (S (NP (Det the) (NP|<Proper-Noun> (Proper Holy) (Noun Grail))) (S|<VP-Punc> (VP (VBD was) (VP (VBN covered) (PP (Prep by) (NP (Det a) (NP|<Adj-Noun> (Adj yellow) (Noun fruit)))))) (Punc .))) ) )\n",
      "(TOP (S2 (S (NP (Proper Zoot) ) (S|<VP-Punc> (VP (MD might) (VP (VB have) (VP (VBN been) (VP (VBN carried) (PP (Prep by) (NP (Det a) (Noun swallow))))))) (Punc .))) ) )\n",
      "(TOP (S2 (S (NP (Proper Arthur) ) (S|<VP-Punc> (VP (VP (VBD rode) (PP (TO to) (NP (NNP Camelot) ))) (VP|<CC-VP> (CC and) (VP (VBD drank) (PP (Prep from) (NP (Poss_pron his) (Noun chalice)))))) (Punc .))) ) )\n",
      "(TOP (S1 (NP (PRP they) ) (VP (VP (VB migrate) (ADVP (ADV precisely) )) (SBAR (CONJ because) (S (NP (PRP they) ) (S|<VP-Punc> (VP (VB know) (S (NP (PRP they) ) (VP (MD will) (VP (VB grow) )))) (Punc .)))))) )\n",
      "(TOP (S1 (VP (VB do) (ADVP (ADV not) )) (_VP (VP (VB speak) ) (Punc !))) )\n",
      "(TOP (S2 (S (NP (Proper Arthur) ) (S|<VP-Punc> (VP (MD will) (VP (VB have) (VP (VBN been) (VP (VBG riding) (PP (Prep for) (NP (Number eight) (Nouns nights))))))) (Punc .))) ) )\n"
     ]
    },
    {
     "name": "stderr",
     "output_type": "stream",
     "text": [
      "#parsing: ['do', 'not', 'speak', '!']\n",
      "#parsing: ['Arthur', 'will', 'have', 'been', 'riding', 'for', 'eight', 'nights', '.']\n",
      "#parsing: ['Arthur', ',', 'sixty', 'inches', ',', 'is', 'a', 'tiny', 'king', '.']\n",
      "#parsing: ['Arthur', 'knows', 'Patsy', ',', 'the', 'trusty', 'servant', '.']\n",
      "#parsing: ['Arthur', 'and', 'Guinevere', 'migrate', 'frequently', '.']\n",
      "#parsing: ['he', 'knows', 'what', 'they', 'are', 'covering', 'with', 'that', 'story', '.']\n",
      "#parsing: ['Arthur', 'suggested', 'that', 'the', 'castle', 'be', 'carried', '.']\n"
     ]
    },
    {
     "name": "stdout",
     "output_type": "stream",
     "text": [
      "(TOP (S2 (S (NP (NP (Proper Arthur) ) (NP|<Pause-NP-Pause> (Pause ,) (NP|<NP-Pause> (NP (Number sixty) (Nouns inches)) (Pause ,)))) (S|<VP-Punc> (VP (VBP is) (NP (Det a) (NP|<Adj-Noun> (Adj tiny) (Noun king)))) (Punc .))) ) )\n",
      "(TOP (S2 (S (NP (Proper Arthur) ) (S|<VP-Punc> (VP (VBS knows) (S1 (NP (NP (Proper Patsy) ) (NP|<Pause-NP> (Pause ,) (NP (Det the) (NP|<Adj-Noun> (Adj trusty) (Noun servant))))) )) (Punc .))) ) )\n",
      "(TOP (S2 (S (NP (Proper Arthur) (CC_Proper (CC and) (Proper Guinevere))) (S|<VP-Punc> (VP (VB migrate) (ADVP (ADV frequently) )) (Punc .))) ) )\n",
      "(TOP (S2 (PRP he) (_VBS (VBS knows) (_Wh_pro (Wh_pro what) (_NP (NP (PRP they) ) (VP (VBP are) (NP (NP (VBG covering) ) (PP (Prep with) (NP (Det that) (NP|<Noun-Punc> (Noun story) (Punc .)))))))))) )\n",
      "(TOP (S1 (VBN_Det (_VBN (Proper Arthur) (VBN suggested)) (_Det (Det that) (NP_VBD (NP (NP (Det the) (Noun castle)) (VP (VB be) )) (_VBD (VBD carried) (Punc .))))) ) )\n",
      "(TOP (S2 (S (NP (Det the) (Noun king)) (S|<VP-Punc> (VP (VBD drank) (S (PP (TO to) (NP (Det the) (Noun castle))) (S|<NP-VP> (NP (Det that) ) (VP (VBD was) (NP (Poss_pron his) (Noun home)))))) (Punc .))) ) )\n",
      "(TOP (S1 (_Wh_pro_Proper (_Wh_pro_ (_Wh_pro (Wh_pro when) (_Det (Det the) (_Noun (Noun king) (_VerbT (VerbT drinks) )))) (Pause ,)) (_Proper (Proper Patsy) (_VerbT (VerbT drinks) (Punc .)))) ) )\n",
      "-cross entropy: -9.53778285812631\n"
     ]
    },
    {
     "name": "stderr",
     "output_type": "stream",
     "text": [
      "#parsing: ['the', 'king', 'drank', 'to', 'the', 'castle', 'that', 'was', 'his', 'home', '.']\n",
      "#parsing: ['when', 'the', 'king', 'drinks', ',', 'Patsy', 'drinks', '.']\n",
      "#-cross entropy (bits/word): -9.53778\n"
     ]
    }
   ],
   "source": [
    "parse_gram = Pcfg([\"S1.gr\",\"S2.gr\",\"Vocab.gr\"])\n",
    "parser = CkyParse(parse_gram, beamsize=0.00001)\n",
    "ce, trees = parser.parse_file('example_sentences.txt')\n",
    "print(\"-cross entropy: {}\".format(ce))"
   ]
  },
  {
   "cell_type": "markdown",
   "metadata": {},
   "source": [
    "### Tested on devset.txt"
   ]
  },
  {
   "cell_type": "code",
   "execution_count": 3,
   "metadata": {},
   "outputs": [
    {
     "name": "stderr",
     "output_type": "stream",
     "text": [
      "#reading grammar file: S1.gr\n",
      "#reading grammar file: S2.gr\n",
      "#Ignored cycle NP -> NP\n",
      "#Ignored cycle NP -> NP\n",
      "#reading grammar file: Vocab.gr\n",
      "#parsing: ['Whoa', 'there', '!']\n",
      "#parsing: ['Halt', '!']\n",
      "#parsing: ['Who', 'goes', 'there', '?']\n",
      "#parsing: ['It', 'is', 'I', ',', 'Arthur', ',', 'son', 'of', 'Uther', 'Pendragon', ',', 'from', 'the', 'castle', 'of', 'Camelot', '.']\n"
     ]
    },
    {
     "name": "stdout",
     "output_type": "stream",
     "text": [
      "(TOP (S2 (INTJ (Noun Whoa) (INTJ|<ADVP-Punc> (ADVP (Adv there) ) (Punc !))) ) )\n",
      "(TOP (S1 (NP (Noun Halt) (Punc !)) ) )\n",
      "(TOP (S2 (SBARQ (WHNP (Wh_pro Who) ) (SBARQ|<SQ-Qmark> (SQ (VP (VBS goes) (ADVP (Adv there) )) ) (Qmark ?))) ) )\n",
      "(TOP (S2 (S (NP (PRP It) ) (S|<VP-Punc> (VP (VBP is) (NP (NP (NP (NP (PRP I) ) (NP|<Pause-NP-Pause-NP-Pause> (Pause ,) (NP|<NP-Pause-NP-Pause> (NP (Proper Arthur) ) (NP|<Pause-NP-Pause> (Pause ,) (NP|<NP-Pause> (NP (NP (Noun son) ) (PP (Prep of) (NP (Noun Uther) (Noun Pendragon)))) (Pause ,)))))) (PP (Prep from) (NP (Det the) (Noun castle)))) (PP (Prep of) (NP (NNP Camelot) )))) (Punc .))) ) )\n"
     ]
    },
    {
     "name": "stderr",
     "output_type": "stream",
     "text": [
      "#parsing: ['King', 'of', 'the', 'Britons', ',', 'defeator', 'of', 'the', 'Saxons', ',', 'sovereign', 'of', 'all', 'England', '!']\n"
     ]
    },
    {
     "name": "stdout",
     "output_type": "stream",
     "text": [
      "(TOP (S1 (VP (VBG King) (PP (Prep of) (NP (NP (Det the) (NNPS Britons)) (NP|<Pause-NP-Pause-ADJP-Punc> (Pause ,) (NP|<NP-Pause-ADJP-Punc> (NP (NP (Noun defeator) ) (PP (Prep of) (NP (Det the) (Nouns Saxons)))) (NP|<Pause-ADJP-Punc> (Pause ,) (NP|<ADJP-Punc> (ADJP (Noun sovereign) (PP (Prep of) (NP (Det all) (Nbar (NNP England) )))) (Punc !)))))))) ) )\n",
      "(TOP (S2 (S (VP (Noun Pull) (NP (Det the) (NP|<Adj-PRP> (Adj other) (PRP one)))) (Punc !)) ) )\n",
      "(TOP (S2 (S (NP (PRP I) ) (S|<VP-Punc> (VP (VBP am) ) (Punc .))) ) )\n",
      "(TOP (S2 (FRAG (CC And) (FRAG|<NP-NP-Punc> (NP (Det this) ) (FRAG|<NP-Punc> (NP (Poss_pron my) (NP|<Adj-Noun-Proper> (Adj trusty) (NP|<Noun-Proper> (Noun servant) (Proper Patsy)))) (Punc .)))) ) )\n"
     ]
    },
    {
     "name": "stderr",
     "output_type": "stream",
     "text": [
      "#parsing: ['Pull', 'the', 'other', 'one', '!']\n",
      "#parsing: ['I', 'am', '.']\n",
      "#parsing: ['And', 'this', 'my', 'trusty', 'servant', 'Patsy', '.']\n",
      "#parsing: ['We', 'have', 'ridden', 'the', 'length', 'and', 'breadth', 'of', 'the', 'land', 'in', 'search', 'of', 'knights', 'who', 'will', 'join', 'me', 'in', 'my', 'court', 'of', 'Camelot', '.']\n"
     ]
    },
    {
     "name": "stdout",
     "output_type": "stream",
     "text": [
      "(TOP (S1 (NP (PRP We) ) (VP (VB have) (VP (VBN ridden) (VP|<NP-PP> (NP (NP (NP (Det the) (NP|<Noun-CC-Noun> (Noun length) (NP|<CC-Noun> (CC and) (Noun breadth)))) (PP (Prep of) (NP (Det the) (Noun land)))) (PP (Prep in) (NP (Noun search) ))) (PP (Prep of) (NP (NP (Nouns knights) ) (SBAR (WHNP (Wh_pro who) ) (S (VP (MD will) (VP (Noun join) (VP|<NP-PP> (NP (NP (PRP me) ) (PP (Prep in) (NP (Poss_pron my) (Noun court)))) (PP (Prep of) (NP (NNP Camelot) ))))) (Punc .))))))))) )\n",
      "(TOP (S2 (S (NP (PRP I) ) (S|<VP-Punc> (VP (MD must) (VP (VB speak) (PP (Prep with) (NP (Poss_pron your) (NP|<Noun-CC-Noun> (Noun lord) (NP|<CC-Noun> (CC and) (Noun master))))))) (Punc .))) ) )\n",
      "(TOP (S2 (SBARQ (WHNP (Qword What) ) (SBARQ|<Pause-VP-Qmark> (Pause ,) (SBARQ|<VP-Qmark> (VP (VBN ridden) (PP (Prep on) (NP (Det a) (Noun horse)))) (Qmark ?)))) ) )\n",
      "(TOP (S2 (INTJ (UH Yes) (Punc !)) ) )\n",
      "(TOP (S2 (S (NP (Noun You're) ) (S|<VP-Punc> (VP (VBG using) (NP (Nouns coconuts) )) (Punc !))) ) )\n",
      "(TOP (S2 (FRAG (Qword What) (Qmark ?)) ) )\n"
     ]
    },
    {
     "name": "stderr",
     "output_type": "stream",
     "text": [
      "#parsing: ['I', 'must', 'speak', 'with', 'your', 'lord', 'and', 'master', '.']\n",
      "#parsing: ['What', ',', 'ridden', 'on', 'a', 'horse', '?']\n",
      "#parsing: ['Yes', '!']\n",
      "#parsing: [\"You're\", 'using', 'coconuts', '!']\n",
      "#parsing: ['What', '?']\n",
      "#parsing: [\"You've\", 'got', 'two', 'empty', 'halves', 'of', 'coconut', 'and', 'you', \"'re\", 'bangin', \"'em\", 'together', '.']\n"
     ]
    },
    {
     "name": "stdout",
     "output_type": "stream",
     "text": [
      "(TOP (S2 (S (S (NP (Noun You've) ) (VP (VBD got) (VP|<NP-PP> (NP (Number two) (NP|<Adj-Nouns> (Adj empty) (Nouns halves))) (PP (Prep of) (NP (Noun coconut) ))))) (S|<CC-S-Punc> (CC and) (S|<S-Punc> (S (NP (PRP you) ) (VP (OTH 're) (VP|<Noun-NP-ADVP> (Noun bangin) (VP|<NP-ADVP> (NP (OTH 'em) ) (ADVP (Adv together) ))))) (Punc .)))) ) )\n",
      "(TOP (S2 (_So So) (Qmark ?)) )\n"
     ]
    },
    {
     "name": "stderr",
     "output_type": "stream",
     "text": [
      "#parsing: ['So', '?']\n",
      "#parsing: ['We', 'have', 'ridden', 'since', 'the', 'snows', 'of', 'winter', 'covered', 'this', 'land', ',', 'through', 'the', 'kingdom', 'of', 'Mercea', ',', 'through', '--']\n"
     ]
    },
    {
     "name": "stdout",
     "output_type": "stream",
     "text": [
      "(TOP (S2 (S (NP (PRP We) ) (S|<VP-Pause> (VP (VB have) (VP (VBN ridden) (VP|<SBAR-Pause-PP-Pause-PP> (SBAR (Prep since) (S (NP (NP (Det the) (Nouns snows)) (PP (Prep of) (NP (Noun winter) ))) (VP (VBD covered) (NP (Det this) (Noun land))))) (VP|<Pause-PP-Pause-PP> (Pause ,) (VP|<PP-Pause-PP> (PP (Prep through) (NP (NP (Det the) (Noun kingdom)) (PP (Prep of) (NP (Noun Mercea) )))) (VP|<Pause-PP> (Pause ,) (PP (Prep through) ))))))) (Pause --))) ) )\n",
      "(TOP (S2 (SBARQ (WHNP (Qword Where) ) (SBARQ|<SQ-Qmark> (SQ (OTH 'd) (SQ|<NP-VP> (NP (PRP you) ) (VP (VB get) (NP (Det the) (Noun coconut))))) (Qmark ?))) ) )\n",
      "(TOP (S2 (S (NP (PRP We) ) (S|<VP-Punc> (VP (Noun found) (NP (PRP them) )) (Punc .))) ) )\n",
      "(TOP (S1 (PP (Prep Found) (PP|<NP-Qmark> (NP (PRP them) ) (Qmark ?))) ) )\n",
      "(TOP (S1 (PP (Prep In) (PP|<NP-Qmark> (NP (Noun Mercea) ) (Qmark ?))) ) )\n",
      "(TOP (S2 (S (NP (Det The) (Noun coconut)) (S|<VP-Punc> (VP (OTH 's) (ADJP (Adj tropical) )) (Punc !))) ) )\n",
      "(TOP (S2 (SBARQ (WHNP (Qword What) ) (SBARQ|<SQ-Qmark> (SQ (VB do) (SQ|<NP-VP> (NP (PRP you) ) (VP (Noun mean) ))) (Qmark ?))) ) )\n",
      "(TOP (S2 (S (INTJ (Adv Well) ) (S|<Pause-NP-VP-Punc> (Pause ,) (S|<NP-VP-Punc> (NP (Det this) ) (S|<VP-Punc> (VP (VBP is) (NP (Det a) (NP|<Adj-Noun> (Adj temperate) (Noun zone)))) (Punc .))))) ) )\n"
     ]
    },
    {
     "name": "stderr",
     "output_type": "stream",
     "text": [
      "#parsing: ['Where', \"'d\", 'you', 'get', 'the', 'coconut', '?']\n",
      "#parsing: ['We', 'found', 'them', '.']\n",
      "#parsing: ['Found', 'them', '?']\n",
      "#parsing: ['In', 'Mercea', '?']\n",
      "#parsing: ['The', 'coconut', \"'s\", 'tropical', '!']\n",
      "#parsing: ['What', 'do', 'you', 'mean', '?']\n",
      "#parsing: ['Well', ',', 'this', 'is', 'a', 'temperate', 'zone', '.']\n",
      "#parsing: ['The', 'swallow', 'may', 'fly', 'south', 'with', 'the', 'sun', 'or', 'the', 'house', 'martin', 'or', 'the', 'plumber', 'may', 'seek', 'warmer', 'climes', 'in', 'winter', 'yet', 'these', 'are', 'not', 'strangers', 'to', 'our', 'land', '.']\n"
     ]
    },
    {
     "name": "stdout",
     "output_type": "stream",
     "text": [
      "(TOP (S1 (NP (Det The) (Noun swallow)) (VP (MD may) (VP (Noun fly) (VP|<ADVP-SBAR> (ADVP (ADV south) ) (SBAR (Prep with) (S (NP (NP (NP (Det the) (Noun sun)) (NP|<CC_or-NP> (CC_or or) (NP (Det the) (NP|<Noun-Noun> (Noun house) (Noun martin))))) (NP|<CC_or-NP> (CC_or or) (NP (Det the) (Noun plumber)))) (VP (MD may) (VP (Noun seek) (VP|<NP-PP-S> (NP (Noun warmer) (Nouns climes)) (VP|<PP-S> (PP (Prep in) (NP (Noun winter) )) (S (ADVP (Adv yet) ) (S|<NP-VP-Punc> (NP (Det these) ) (S|<VP-Punc> (VP (VBP are) (VP|<ADV-NP> (ADV not) (NP (NP (Nouns strangers) ) (PP (TO to) (NP (Poss_pron our) (Noun land)))))) (Punc .)))))))))))))) )\n",
      "(TOP (S1 (Qst (_VBP (VBP Are) (_PRP (PRP you) (_VBG (VBG suggesting) (_Nouns (Nouns coconuts) (VB migrate))))) ) (Qmark ?)) )\n",
      "(TOP (S2 (S (ADVP (Adv Not) (ADVP|<Prep-Det> (Prep at) (Det all))) (S|<Pause-NP-VP-Punc> (Pause ,) (S|<NP-VP-Punc> (NP (PRP they) ) (S|<VP-Punc> (VP (MD could) (VP (VB be) (VP (VBD carried) ))) (Punc .))))) ) )\n",
      "(TOP (S2 (SBARQ (WHNP (Qword What) ) (SBARQ|<Pause-S-Qmark> (Pause --) (SBARQ|<S-Qmark> (S (NP (Det a) (Noun swallow)) (VP (VBG carrying) (NP (Det a) (Noun coconut)))) (Qmark ?)))) ) )\n",
      "(TOP (S2 (S (NP (PRP It) ) (S|<VP-Punc> (VP (MD could) (VP (Noun grip) (VP|<NP-PP> (NP (PRP it) ) (PP (Prep by) (NP (Det the) (Noun husk)))))) (Punc !))) ) )\n",
      "(TOP (S1 (NP (PRP It) ) (VP (OTH 's) (VP|<ADV-NP-PP> (ADV not) (VP|<NP-PP> (NP (Det a) (Noun question)) (PP (Prep of) (SBAR (WHNP (Qword where) ) (S (NP (PRP he) ) (S|<VP-Punc> (VP (Nouns grips) (NP (PRP it) )) (Punc !))))))))) )\n"
     ]
    },
    {
     "name": "stderr",
     "output_type": "stream",
     "text": [
      "#parsing: ['Are', 'you', 'suggesting', 'coconuts', 'migrate', '?']\n",
      "#parsing: ['Not', 'at', 'all', ',', 'they', 'could', 'be', 'carried', '.']\n",
      "#parsing: ['What', '--', 'a', 'swallow', 'carrying', 'a', 'coconut', '?']\n",
      "#parsing: ['It', 'could', 'grip', 'it', 'by', 'the', 'husk', '!']\n",
      "#parsing: ['It', \"'s\", 'not', 'a', 'question', 'of', 'where', 'he', 'grips', 'it', '!']\n",
      "#parsing: ['It', \"'s\", 'a', 'simple', 'question', 'of', 'weight', 'ratios', '!']\n"
     ]
    },
    {
     "name": "stdout",
     "output_type": "stream",
     "text": [
      "(TOP (S2 (S (NP (PRP It) ) (S|<VP-Punc> (VP (OTH 's) (NP (NP (Det a) (NP|<Adj-Noun> (Adj simple) (Noun question))) (PP (Prep of) (NP (Noun weight) (Nouns ratios))))) (Punc !))) ) )\n",
      "(TOP (S2 (S (NP (Det A) (NP|<ADJP-Noun> (ADJP (Number five) (Noun ounce)) (Noun bird))) (S|<VP-Punc> (VP (MD could) (VP|<ADV-VP> (ADV not) (VP (VB carry) (NP (Det a) (NP|<ADJP-Noun> (ADJP (Number 1) (Noun pound)) (Noun coconut)))))) (Punc .))) ) )\n",
      "(TOP (S2 (S (INTJ (Adv Well) ) (S|<Pause-NP-VP-Punc> (Pause ,) (S|<NP-VP-Punc> (NP (PRP it) ) (S|<VP-Punc> (VP (VB does) (VP|<Adv-VP> (Adv n't) (VP (Noun matter) ))) (Punc .))))) ) )\n"
     ]
    },
    {
     "name": "stderr",
     "output_type": "stream",
     "text": [
      "#parsing: ['A', 'five', 'ounce', 'bird', 'could', 'not', 'carry', 'a', '1', 'pound', 'coconut', '.']\n",
      "#parsing: ['Well', ',', 'it', 'does', \"n't\", 'matter', '.']\n",
      "#parsing: ['Will', 'you', 'go', 'and', 'tell', 'your', 'master', 'that', 'Arthur', 'from', 'the', 'Court', 'of', 'Camelot', 'is', 'here', '.']\n"
     ]
    },
    {
     "name": "stdout",
     "output_type": "stream",
     "text": [
      "(TOP (S2 (SQ (MD Will) (SQ|<NP-VP-Punc> (NP (PRP you) ) (SQ|<VP-Punc> (VP (VP (VB go) ) (VP|<CC-VP> (CC and) (VP (Noun tell) (VP|<NP-S> (NP (Poss_pron your) (Noun master)) (S (NP (NP (NP (Det that) (Proper Arthur)) (PP (Prep from) (NP (Det the) (Proper Court)))) (PP (Prep of) (NP (NNP Camelot) ))) (VP (VBP is) (Adv here))))))) (Punc .)))) ) )\n"
     ]
    },
    {
     "name": "stderr",
     "output_type": "stream",
     "text": [
      "#parsing: ['Listen', ',', 'in', 'order', 'to', 'maintain', 'air', '-', 'speed', 'velocity', ',', 'a', 'swallow', 'needs', 'to', 'beat', 'its', 'wings', '43', 'times', 'every', 'second', ',', 'right', '?']\n"
     ]
    },
    {
     "name": "stdout",
     "output_type": "stream",
     "text": [
      "(TOP (S2 (S (VB Listen) (S|<Pause-SBAR-Pause-NP-VP-Qmark> (Pause ,) (S|<SBAR-Pause-NP-VP-Qmark> (SBAR (Prep in) (S (NP (Noun order) ) (VP (TO to) (VP (Noun maintain) (NP (NP (Noun air) ) (NP|<OTH-NP> (OTH -) (NP (Noun speed) (Noun velocity)))))))) (S|<Pause-NP-VP-Qmark> (Pause ,) (S|<NP-VP-Qmark> (NP (Det a) (NP|<Noun-Nouns> (Noun swallow) (Nouns needs))) (S|<VP-Qmark> (VP (TO to) (VP (Noun beat) (VP|<NP-NP-Pause-INTJ> (NP (NP (Poss_pron its) (Nouns wings)) (NP (Number 43) (Nouns times))) (VP|<NP-Pause-INTJ> (NP (Det every) (Adj second)) (VP|<Pause-INTJ> (Pause ,) (INTJ (Noun right) )))))) (Qmark ?))))))) ) )\n",
      "(TOP (S2 (S (VP (VB Please) ) (Punc !)) ) )\n",
      "(TOP (S2 (SQ (OTH Am) (SQ|<NP-ADJP-Qmark> (NP (PRP I) ) (SQ|<ADJP-Qmark> (ADJP (Noun right) ) (Qmark ?)))) ) )\n",
      "(TOP (S2 (S (VP (Noun I'm) (ADJP (ADV not) (Adj interested))) (Punc !)) ) )\n",
      "(TOP (S2 (S (NP (PRP It) ) (S|<VP-Punc> (VP (MD could) (VP (VB be) (VP (VBN carried) (PP (Prep by) (NP (Det an) (NP|<Adj-Noun> (Adj African) (Noun swallow))))))) (Punc !))) ) )\n"
     ]
    },
    {
     "name": "stderr",
     "output_type": "stream",
     "text": [
      "#parsing: ['Please', '!']\n",
      "#parsing: ['Am', 'I', 'right', '?']\n",
      "#parsing: [\"I'm\", 'not', 'interested', '!']\n",
      "#parsing: ['It', 'could', 'be', 'carried', 'by', 'an', 'African', 'swallow', '!']\n",
      "#parsing: ['Oh', ',', 'yeah', ',', 'an', 'African', 'swallow', 'maybe', ',', 'but', 'not', 'a', 'European', 'swallow', ',', 'that', \"'s\", 'my', 'point', '.']\n"
     ]
    },
    {
     "name": "stdout",
     "output_type": "stream",
     "text": [
      "(TOP (S2 (S (INTJ (UH Oh) ) (S|<Pause-INTJ-Pause-CC-ADV-NP-Pause-NP-VP-Punc> (Pause ,) (S|<INTJ-Pause-CC-ADV-NP-Pause-NP-VP-Punc> (INTJ (INTJ (Noun yeah) ) (INTJ|<Pause-NP-ADVP> (Pause ,) (INTJ|<NP-ADVP> (NP (Det an) (NP|<Adj-Noun> (Adj African) (Noun swallow))) (ADVP (Adv maybe) )))) (S|<Pause-CC-ADV-NP-Pause-NP-VP-Punc> (Pause ,) (S|<CC-ADV-NP-Pause-NP-VP-Punc> (CC but) (S|<ADV-NP-Pause-NP-VP-Punc> (ADV not) (S|<NP-Pause-NP-VP-Punc> (NP (Det a) (NP|<Adj-Noun> (Adj European) (Noun swallow))) (S|<Pause-NP-VP-Punc> (Pause ,) (S|<NP-VP-Punc> (NP (Det that) ) (S|<VP-Punc> (VP (OTH 's) (NP (Poss_pron my) (Noun point))) (Punc .))))))))))) ) )\n",
      "(TOP (S2 (S (INTJ (UH Oh) ) (S|<Pause-INTJ-Pause-NP-VP-Punc> (Pause ,) (S|<INTJ-Pause-NP-VP-Punc> (INTJ (Noun yeah) ) (S|<Pause-NP-VP-Punc> (Pause ,) (S|<NP-VP-Punc> (NP (PRP I) ) (S|<VP-Punc> (VP (Noun agree) (PP (Prep with) (NP (Det that) ))) (Punc ...))))))) ) )\n"
     ]
    },
    {
     "name": "stderr",
     "output_type": "stream",
     "text": [
      "#parsing: ['Oh', ',', 'yeah', ',', 'I', 'agree', 'with', 'that', '...']\n",
      "#parsing: ['Will', 'you', 'ask', 'your', 'master', 'if', 'he', 'wants', 'to', 'join', 'my', 'court', 'at', 'Camelot', '?', '!']\n"
     ]
    },
    {
     "name": "stdout",
     "output_type": "stream",
     "text": [
      "(TOP (S2 (SQ (MD Will) (SQ|<NP-VP-Qmark-Punc> (NP (PRP you) ) (SQ|<VP-Qmark-Punc> (VP (Noun ask) (VP|<NP-SBAR> (NP (Poss_pron your) (Noun master)) (SBAR (CONJ if) (S (NP (PRP he) ) (VP (VerbT wants) (VP (TO to) (VP (Noun join) (VP|<NP-PP> (NP (Poss_pron my) (Noun court)) (PP (Prep at) (NP (NNP Camelot) )))))))))) (SQ|<Qmark-Punc> (Qmark ?) (Punc !))))) ) )\n",
      "(TOP (S2 (S (CC But) (S|<ADVP-PP-NP-VP-Punc> (ADVP (Adv then) ) (S|<PP-NP-VP-Punc> (PP (Prep of) (NP (Noun course) )) (S|<NP-VP-Punc> (NP (Adj African) (Nouns swallows)) (S|<VP-Punc> (VP (VBP are) (VP|<ADV-ADJP> (ADV not) (ADJP (Noun migratory) ))) (Punc .)))))) ) )\n",
      "(TOP (S2 (FRAG (INTJ (UH Oh) ) (FRAG|<Pause-INTJ-Punc> (Pause ,) (FRAG|<INTJ-Punc> (INTJ (Noun yeah) ) (Punc ...)))) ) )\n",
      "(TOP (S2 (S (_So So) (S|<NP-VP-Punc> (NP (PRP they) ) (S|<VP-Punc> (VP (MD could) (VP|<Adv-VP> (Adv n't) (VP (Noun bring) (VP|<NP-ADVP-ADVP> (NP (Det a) (Noun coconut)) (VP|<ADVP-ADVP> (ADVP (Adv back) ) (ADVP (Adv anyway) )))))) (Punc ...)))) ) )\n"
     ]
    },
    {
     "name": "stderr",
     "output_type": "stream",
     "text": [
      "#parsing: ['But', 'then', 'of', 'course', 'African', 'swallows', 'are', 'not', 'migratory', '.']\n",
      "#parsing: ['Oh', ',', 'yeah', '...']\n",
      "#parsing: ['So', 'they', 'could', \"n't\", 'bring', 'a', 'coconut', 'back', 'anyway', '...']\n",
      "#parsing: ['Wait', 'a', 'minute', '--', 'supposing', 'two', 'swallows', 'carried', 'it', 'together', '?']\n"
     ]
    },
    {
     "name": "stdout",
     "output_type": "stream",
     "text": [
      "(TOP (S2 (SQ (Noun Wait) (SQ|<NP-VP-Qmark> (NP (NP (Det a) (Noun minute)) (NP|<Pause-VP> (Pause --) (VP (VBG supposing) (NP (Number two) (Nouns swallows))))) (SQ|<VP-Qmark> (VP (VBN carried) (VP|<NP-ADVP> (NP (PRP it) ) (ADVP (Adv together) ))) (Qmark ?)))) ) )\n",
      "(TOP (S2 (S (INTJ (Det No) ) (S|<Pause-NP-VP-Punc> (Pause ,) (S|<NP-VP-Punc> (NP (PRP they) ) (S|<VP-Punc> (VP (OTH 'd) (VP (VB have) (VP (TO to) (VP (VB have) (VP|<NP-PP> (NP (PRP it) ) (PP (Prep on) (NP (Det a) (Noun line)))))))) (Punc .))))) ) )\n",
      "(TOP (S2 (FRAG (INTJ (Adv Well) ) (FRAG|<Pause-ADJP-Punc> (Pause ,) (FRAG|<ADJP-Punc> (ADJP (Adj simple) ) (Punc !)))) ) )\n",
      "(TOP (S2 (S (NP (PRP They) ) (S|<VP-Punc> (VP (OTH 'd) (VP|<ADVP-VP> (ADVP (Adv just) ) (VP (Noun use) (NP (Det a) (NP|<Noun-Noun> (Noun standard) (Noun creeper)))))) (Punc !))) ) )\n"
     ]
    },
    {
     "name": "stderr",
     "output_type": "stream",
     "text": [
      "#parsing: ['No', ',', 'they', \"'d\", 'have', 'to', 'have', 'it', 'on', 'a', 'line', '.']\n",
      "#parsing: ['Well', ',', 'simple', '!']\n",
      "#parsing: ['They', \"'d\", 'just', 'use', 'a', 'standard', 'creeper', '!']\n",
      "#parsing: ['What', ',', 'held', 'under', 'the', 'dorsal', 'guiding', 'feathers', '?']\n"
     ]
    },
    {
     "name": "stdout",
     "output_type": "stream",
     "text": [
      "(TOP (S2 (SBARQ (WHNP (Qword What) ) (SBARQ|<Pause-VP-Qmark> (Pause ,) (SBARQ|<VP-Qmark> (VP (Noun held) (PP (Prep under) (NP (Det the) (NP|<Noun-VBG-Nouns> (Noun dorsal) (NP|<VBG-Nouns> (VBG guiding) (Nouns feathers)))))) (Qmark ?)))) ) )\n",
      "(TOP (S2 (FRAG (INTJ (Adv Well) ) (FRAG|<Pause-WHADVP-ADV-Qmark> (Pause ,) (FRAG|<WHADVP-ADV-Qmark> (WHADVP (Qword why) ) (FRAG|<ADV-Qmark> (ADV not) (Qmark ?))))) ) )\n",
      "(TOP (S2 (S (VP (VB Bring) (PP (Prep out) (NP (Poss_pron your) (Adj dead)))) (Punc !)) ) )\n",
      "(TOP (S2 (S (Adv Here) (S|<VP-Punc> (VP (OTH 's) (NP (NP (PRP one) ) (NP|<Pause-NP> (Pause --) (NP (Number nine) (Noun pence))))) (Punc .))) ) )\n",
      "(TOP (S2 (S (VP (Noun I'm) (ADJP (ADV not) (Adj dead))) (Punc !)) ) )\n",
      "(TOP (S2 (FRAG (Qword What) (Qmark ?)) ) )\n",
      "(TOP (S2 (S (INTJ (Noun Nothing) ) (S|<Pause-NP-VP-Punc> (Pause --) (S|<NP-VP-Punc> (NP (Adv here) ) (S|<VP-Punc> (VP (OTH 's) (NP (Poss_pron your) (NP|<Number-Noun> (Number nine) (Noun pence)))) (Punc .))))) ) )\n",
      "(TOP (S2 (S (VP (Noun I'm) (ADJP (ADV not) (Adj dead))) (Punc !)) ) )\n",
      "(TOP (S2 (S (INTJ (Adv Here) ) (S|<Pause-NP-VP-Punc> (Pause --) (S|<NP-VP-Punc> (NP (PRP he) ) (S|<VP-Punc> (VP (VerbT says) (S (NP (PRP he) ) (VP (OTH 's) (ADJP (ADV not) (Adj dead))))) (Punc !))))) ) )\n",
      "(TOP (S2 (S (INTJ (UH Yes) ) (S|<Pause-NP-VP-Punc> (Pause ,) (S|<NP-VP-Punc> (NP (PRP he) ) (S|<VP-Punc> (VP (VBP is) ) (Punc .))))) ) )\n",
      "(TOP (S2 (INTJ (Noun I'm) (INTJ|<ADV-Punc> (ADV not) (Punc !))) ) )\n",
      "(TOP (S2 (S (NP (PRP He) ) (S|<VP-Punc> (VP (VBP is) (Adv n't)) (Punc .))) ) )\n"
     ]
    },
    {
     "name": "stderr",
     "output_type": "stream",
     "text": [
      "#parsing: ['Well', ',', 'why', 'not', '?']\n",
      "#parsing: ['Bring', 'out', 'your', 'dead', '!']\n",
      "#parsing: ['Here', \"'s\", 'one', '--', 'nine', 'pence', '.']\n",
      "#parsing: [\"I'm\", 'not', 'dead', '!']\n",
      "#parsing: ['What', '?']\n",
      "#parsing: ['Nothing', '--', 'here', \"'s\", 'your', 'nine', 'pence', '.']\n",
      "#parsing: [\"I'm\", 'not', 'dead', '!']\n",
      "#parsing: ['Here', '--', 'he', 'says', 'he', \"'s\", 'not', 'dead', '!']\n",
      "#parsing: ['Yes', ',', 'he', 'is', '.']\n",
      "#parsing: [\"I'm\", 'not', '!']\n",
      "#parsing: ['He', 'is', \"n't\", '.']\n",
      "#parsing: ['Well', ',', 'he', 'will', 'be', 'soon', ',', 'he', \"'s\", 'very', 'ill', '.']\n"
     ]
    },
    {
     "name": "stdout",
     "output_type": "stream",
     "text": [
      "(TOP (S2 (S (INTJ (Adv Well) ) (S|<Pause-S-Pause-S-Punc> (Pause ,) (S|<S-Pause-S-Punc> (S (NP (PRP he) ) (VP (MD will) (VP (VB be) (ADVP (Adv soon) )))) (S|<Pause-S-Punc> (Pause ,) (S|<S-Punc> (S (NP (PRP he) ) (VP (OTH 's) (ADJP (Adv very) (Noun ill)))) (Punc .)))))) ) )\n",
      "(TOP (S2 (S (NP (Noun I'm) ) (S|<VP-Punc> (VP (VBG getting) (ADJP (RBR better) )) (Punc !))) ) )\n",
      "(TOP (S2 (S (INTJ (Det No) ) (S|<Pause-S-Pause-S-Punc> (Pause ,) (S|<S-Pause-S-Punc> (S (NP (PRP you) ) (VP (OTH 're) (ADV not))) (S|<Pause-S-Punc> (Pause --) (S|<S-Punc> (S (NP (PRP you) ) (VP (OTH 'll) (VP (VB be) (VP|<ADJP-PP> (ADJP (Noun stone) (Adj dead)) (PP (Prep in) (NP (Det a) (Noun moment))))))) (Punc .)))))) ) )\n"
     ]
    },
    {
     "name": "stderr",
     "output_type": "stream",
     "text": [
      "#parsing: [\"I'm\", 'getting', 'better', '!']\n",
      "#parsing: ['No', ',', 'you', \"'re\", 'not', '--', 'you', \"'ll\", 'be', 'stone', 'dead', 'in', 'a', 'moment', '.']\n",
      "#parsing: ['Oh', ',', 'I', \"can't\", 'take', 'him', 'like', 'that', '--', 'it', \"'s\", 'against', 'regulations', '.']\n"
     ]
    },
    {
     "name": "stdout",
     "output_type": "stream",
     "text": [
      "(TOP (S2 (S (INTJ (UH Oh) ) (S|<Pause-S-Pause-S-Punc> (Pause ,) (S|<S-Pause-S-Punc> (S (NP (PRP I) ) (VP (Noun can't) (VP (VB take) (VP|<NP-PP> (NP (PRP him) ) (PP (Prep like) (NP (Det that) )))))) (S|<Pause-S-Punc> (Pause --) (S|<S-Punc> (S (NP (PRP it) ) (VP (OTH 's) (PP (Prep against) (NP (Nouns regulations) )))) (Punc .)))))) ) )\n",
      "(TOP (S2 (S (NP (PRP I) ) (S|<VP-Punc> (VP (VB do) (VP|<Adv-VP> (Adv n't) (VP (Noun want) (VP (TO to) (VP (VB go) (PP (Prep in) (NP (Det the) (Noun cart)))))))) (Punc !))) ) )\n",
      "(TOP (S2 (S (INTJ (UH Oh) ) (S|<Pause-VP-Punc> (Pause ,) (S|<VP-Punc> (VP (VB do) (VP|<Adv-VP> (Adv n't) (VP (VB be) (NP (Adj such) (NP|<Det-Noun> (Det a) (Noun baby)))))) (Punc .)))) ) )\n",
      "(TOP (S2 (S (NP (PRP I) ) (S|<VP-Punc> (VP (Noun can't) (VP (VB take) (NP (PRP him) ))) (Punc ...))) ) )\n",
      "(TOP (S2 (S (NP (PRP I) ) (S|<VP-Punc> (VP (Noun feel) (NP (Noun fine) )) (Punc !))) ) )\n",
      "(TOP (S2 (S (INTJ (UH Oh) ) (S|<Pause-VP-Punc> (Pause ,) (S|<VP-Punc> (VP (VB do) (VP|<NP-NP> (NP (PRP us) ) (NP (Det a) (Noun favor)))) (Punc ...)))) ) )\n",
      "(TOP (S2 (S (NP (PRP I) ) (S|<VP-Punc> (VP (Noun can't) ) (Punc .))) ) )\n"
     ]
    },
    {
     "name": "stderr",
     "output_type": "stream",
     "text": [
      "#parsing: ['I', 'do', \"n't\", 'want', 'to', 'go', 'in', 'the', 'cart', '!']\n",
      "#parsing: ['Oh', ',', 'do', \"n't\", 'be', 'such', 'a', 'baby', '.']\n",
      "#parsing: ['I', \"can't\", 'take', 'him', '...']\n",
      "#parsing: ['I', 'feel', 'fine', '!']\n",
      "#parsing: ['Oh', ',', 'do', 'us', 'a', 'favor', '...']\n",
      "#parsing: ['I', \"can't\", '.']\n",
      "#parsing: ['Well', ',', 'can', 'you', 'hang', 'around', 'a', 'couple', 'of', 'minutes', '?']\n"
     ]
    },
    {
     "name": "stdout",
     "output_type": "stream",
     "text": [
      "(TOP (S2 (SQ (INTJ (Adv Well) ) (SQ|<Pause-MD-NP-VP-Qmark> (Pause ,) (SQ|<MD-NP-VP-Qmark> (MD can) (SQ|<NP-VP-Qmark> (NP (PRP you) ) (SQ|<VP-Qmark> (VP (Noun hang) (PP (Prep around) (NP (NP (Det a) (Noun couple)) (PP (Prep of) (NP (Nouns minutes) ))))) (Qmark ?)))))) ) )\n",
      "(TOP (S2 (S (NP (PRP He) ) (S|<VP-Punc> (VP (MD wo) (VP|<Adv-VP> (Adv n't) (VP (VB be) (ADVP (Adv long) )))) (Punc .))) ) )\n"
     ]
    },
    {
     "name": "stderr",
     "output_type": "stream",
     "text": [
      "#parsing: ['He', 'wo', \"n't\", 'be', 'long', '.']\n",
      "#parsing: ['Naaah', ',', 'I', 'got', 'to', 'go', 'on', 'to', 'Robinson', \"'s\", '--', 'they', \"'ve\", 'lost', 'nine', 'today', '.']\n"
     ]
    },
    {
     "name": "stdout",
     "output_type": "stream",
     "text": [
      "(TOP (S2 (S (INTJ (Noun Naaah) ) (S|<Pause-S-Pause-S-Punc> (Pause ,) (S|<S-Pause-S-Punc> (S (NP (PRP I) ) (VP (VBD got) (VP (TO to) (VP (VB go) (VP|<PRT-PP> (PRT (Prep on) ) (PP (TO to) (NP (Noun Robinson) (OTH 's)))))))) (S|<Pause-S-Punc> (Pause --) (S|<S-Punc> (S (NP (PRP they) ) (VP (OTH 've) (VP (VBN lost) (ADJP (Number nine) (Noun today))))) (Punc .)))))) ) )\n",
      "(TOP (S2 (SBARQ (ADVP (Adv Well) ) (SBARQ|<Pause-WHADVP-SQ-Qmark> (Pause ,) (SBARQ|<WHADVP-SQ-Qmark> (WHADVP (Qword when) ) (SBARQ|<SQ-Qmark> (SQ (VBP is) (NP (Poss_pron your) (NP|<Adj-Noun> (Adj next) (Noun round)))) (Qmark ?))))) ) )\n",
      "(TOP (S1 (_Proper (Proper Thursday) (Punc .)) ) )\n",
      "(TOP (S1 (NP (PRP I) ) (VP (Noun think) (S (NP (PRP I) ) (S|<VP-Punc> (VP (OTH 'll) (VP (VB go) (PP (Prep for) (NP (Det a) (Noun walk))))) (Punc .))))) )\n",
      "(TOP (S2 (FRAG (Noun You're) (FRAG|<ADV-NP-Punc> (ADV not) (FRAG|<NP-Punc> (NP (NP (Noun fooling) (NP|<Noun-Noun> (Noun anyone) (Noun y'))) (VP (VB know) )) (Punc .)))) ) )\n"
     ]
    },
    {
     "name": "stderr",
     "output_type": "stream",
     "text": [
      "#parsing: ['Well', ',', 'when', 'is', 'your', 'next', 'round', '?']\n",
      "#parsing: ['Thursday', '.']\n",
      "#parsing: ['I', 'think', 'I', \"'ll\", 'go', 'for', 'a', 'walk', '.']\n",
      "#parsing: [\"You're\", 'not', 'fooling', 'anyone', \"y'\", 'know', '.']\n",
      "#parsing: ['Look', ',', 'is', \"n't\", 'there', 'something', 'you', 'can', 'do', '?']\n"
     ]
    },
    {
     "name": "stdout",
     "output_type": "stream",
     "text": [
      "(TOP (S2 (SQ (VB Look) (SQ|<Pause-VBP-Adv-NP-NP-Qmark> (Pause ,) (SQ|<VBP-Adv-NP-NP-Qmark> (VBP is) (SQ|<Adv-NP-NP-Qmark> (Adv n't) (SQ|<NP-NP-Qmark> (NP (Adv there) ) (SQ|<NP-Qmark> (NP (NP (Noun something) ) (SBAR (S (NP (PRP you) ) (VP (MD can) (VP (VB do) ))) )) (Qmark ?))))))) ) )\n",
      "(TOP (S2 (S (NP (PRP I) ) (S|<VP-Punc> (VP (Noun feel) (ADJP (Adj happy) )) (Punc ...))) ) )\n",
      "(TOP (S2 (S (NP (PRP I) ) (S|<VP-Punc> (VP (Noun feel) (ADJP (Adj happy) )) (Punc .))) ) )\n",
      "(TOP (S2 (FRAG (INTJ (OTH Ah) ) (FRAG|<Pause-NP-ADVP-Punc> (Pause ,) (FRAG|<NP-ADVP-Punc> (NP (Nouns thanks) ) (FRAG|<ADVP-Punc> (ADVP (Adv very) (Adj much)) (Punc .))))) ) )\n",
      "(TOP (S2 (FRAG (Adv Not) (FRAG|<Prep-Det-Punc> (Prep at) (FRAG|<Det-Punc> (Det all) (Punc .)))) ) )\n",
      "(TOP (S2 (S (VP (VB See) (VP|<NP-PP> (NP (PRP you) ) (PP (Prep on) (NP (Proper Thursday) )))) (Punc .)) ) )\n",
      "(TOP (S2 (INTJ (Adv Right) (Punc .)) ) )\n",
      "(TOP (S2 (SBARQ (WHNP (Wh_pro Who) ) (SBARQ|<SQ-Qmark> (SQ (OTH 's) (SQ|<NP-ADVP> (NP (Det that) ) (ADVP (Adv then) ))) (Qmark ?))) ) )\n",
      "(TOP (S2 (S (NP (PRP I) ) (S|<VP-Punc> (VP (VB do) (VP|<Adv-VP> (Adv n't) (VP (VB know) ))) (Punc .))) ) )\n",
      "(TOP (S2 (S (NP (Noun Must) ) (S|<VP-Punc> (VP (VB be) (NP (Det a) (Noun king))) (Punc .))) ) )\n",
      "(TOP (S2 (FRAG (Qword Why) (Qmark ?)) ) )\n",
      "(TOP (S2 (S (NP (PRP He) ) (S|<VP-Punc> (VP (VerbT has) (VP|<Adv-VP> (Adv n't) (VP (VBD got) (VP (Noun shit) (VP|<NP-PP> (NP (Det all) ) (PP (Prep over) (NP (PRP him) ))))))) (Punc .))) ) )\n",
      "(TOP (S1 (NP (Noun Old) (NP|<Noun-Punc> (Noun woman) (Punc !))) ) )\n",
      "(TOP (S1 (NP (Noun Man) (Punc !)) ) )\n",
      "(TOP (S2 (FRAG (INTJ (Noun Old) (Noun Man)) (FRAG|<Pause-INTJ-Punc> (Pause ,) (FRAG|<INTJ-Punc> (INTJ (Noun sorry) ) (Punc .)))) ) )\n"
     ]
    },
    {
     "name": "stderr",
     "output_type": "stream",
     "text": [
      "#parsing: ['I', 'feel', 'happy', '...']\n",
      "#parsing: ['I', 'feel', 'happy', '.']\n",
      "#parsing: ['Ah', ',', 'thanks', 'very', 'much', '.']\n",
      "#parsing: ['Not', 'at', 'all', '.']\n",
      "#parsing: ['See', 'you', 'on', 'Thursday', '.']\n",
      "#parsing: ['Right', '.']\n",
      "#parsing: ['Who', \"'s\", 'that', 'then', '?']\n",
      "#parsing: ['I', 'do', \"n't\", 'know', '.']\n",
      "#parsing: ['Must', 'be', 'a', 'king', '.']\n",
      "#parsing: ['Why', '?']\n",
      "#parsing: ['He', 'has', \"n't\", 'got', 'shit', 'all', 'over', 'him', '.']\n",
      "#parsing: ['Old', 'woman', '!']\n",
      "#parsing: ['Man', '!']\n",
      "#parsing: ['Old', 'Man', ',', 'sorry', '.']\n",
      "#parsing: ['What', 'knight', 'live', 'in', 'that', 'castle', 'over', 'there', '?']\n"
     ]
    },
    {
     "name": "stdout",
     "output_type": "stream",
     "text": [
      "(TOP (S2 (SBARQ (WHNP (Qword What) (Noun knight)) (SBARQ|<SQ-Qmark> (SQ (VP (Adj live) (VP|<PP-PP> (PP (Prep in) (NP (Det that) (Noun castle))) (PP (Prep over) (NP (Adv there) )))) ) (Qmark ?))) ) )\n",
      "(TOP (S2 (S (VP (Noun I'm) (NP (Noun thirty) (Number seven))) (Punc .)) ) )\n",
      "(TOP (S2 (FRAG (Qword What) (Qmark ?)) ) )\n",
      "(TOP (S1 (VP (Noun I'm) (VP|<NP-Pause-S> (NP (Noun thirty) (Number seven)) (VP|<Pause-S> (Pause --) (S (VP (Noun I'm) (ADJP (ADV not) (Adj old))) (Punc !))))) ) )\n",
      "(TOP (S2 (S (INTJ (Adv Well) ) (S|<Pause-NP-VP-Punc> (Pause ,) (S|<NP-VP-Punc> (NP (PRP I) ) (S|<VP-Punc> (VP (Noun can't) (VP|<ADVP-VP> (ADVP (Adv just) ) (VP (Noun call) (S (NP (PRP you) ) (S|<Punc-NP-OTH> (Punc `) (S|<NP-OTH> (NP (Noun Man) ) (OTH '))))))) (Punc .))))) ) )\n"
     ]
    },
    {
     "name": "stderr",
     "output_type": "stream",
     "text": [
      "#parsing: [\"I'm\", 'thirty', 'seven', '.']\n",
      "#parsing: ['What', '?']\n",
      "#parsing: [\"I'm\", 'thirty', 'seven', '--', \"I'm\", 'not', 'old', '!']\n",
      "#parsing: ['Well', ',', 'I', \"can't\", 'just', 'call', 'you', '`', 'Man', \"'\", '.']\n",
      "#parsing: ['Well', ',', 'you', 'could', 'say', '`', 'Dennis', \"'\", '.']\n"
     ]
    },
    {
     "name": "stdout",
     "output_type": "stream",
     "text": [
      "(TOP (S2 (S (INTJ (Adv Well) ) (S|<Pause-NP-VP-Punc> (Pause ,) (S|<NP-VP-Punc> (NP (PRP you) ) (S|<VP-Punc> (VP (MD could) (VP (VB say) (VP|<Punc-NP-OTH> (Punc `) (VP|<NP-OTH> (NP (Proper Dennis) ) (OTH '))))) (Punc .))))) ) )\n",
      "(TOP (S2 (S (INTJ (Adv Well) ) (S|<Pause-NP-VP-Punc-OTH> (Pause ,) (S|<NP-VP-Punc-OTH> (NP (PRP I) ) (S|<VP-Punc-OTH> (VP (VBD did) (VP|<Adv-VP> (Adv n't) (VP (VB know) (S (NP (PRP you) ) (VP (VBD were) (VP (VBN called) (S (Punc `) (NP (Proper Dennis) )))))))) (S|<Punc-OTH> (Punc .) (OTH ')))))) ) )\n"
     ]
    },
    {
     "name": "stderr",
     "output_type": "stream",
     "text": [
      "#parsing: ['Well', ',', 'I', 'did', \"n't\", 'know', 'you', 'were', 'called', '`', 'Dennis', '.', \"'\"]\n",
      "#parsing: ['Well', ',', 'you', 'did', \"n't\", 'bother', 'to', 'find', 'out', ',', 'did', 'you', '?']\n"
     ]
    },
    {
     "name": "stdout",
     "output_type": "stream",
     "text": [
      "(TOP (S2 (S (INTJ (Adv Well) ) (S|<Pause-NP-VP-Qmark> (Pause ,) (S|<NP-VP-Qmark> (NP (PRP you) ) (S|<VP-Qmark> (VP (VBD did) (VP|<Adv-VP> (Adv n't) (VP (Noun bother) (VP|<S-Pause-SQ> (S (VP (TO to) (VP (VB find) (PRT (Prep out) ))) ) (VP|<Pause-SQ> (Pause ,) (SQ (VBD did) (NP (PRP you) ))))))) (Qmark ?))))) ) )\n"
     ]
    },
    {
     "name": "stderr",
     "output_type": "stream",
     "text": [
      "#parsing: ['I', 'did', 'say', 'sorry', 'about', 'the', '`', 'old', 'woman', ',', \"'\", 'but', 'from', 'the', 'behind', 'you', 'looked', '--']\n"
     ]
    },
    {
     "name": "stdout",
     "output_type": "stream",
     "text": [
      "(TOP (S2 (S (S (NP (PRP I) ) (VP (VBD did) (VP (VB say) (VP|<NP-PP> (NP (Noun sorry) ) (PP (Prep about) (NP (Det the) (NP|<Punc-Adj-Noun> (Punc `) (NP|<Adj-Noun> (Adj old) (Noun woman))))))))) (S|<Pause-OTH-CC-S-Pause> (Pause ,) (S|<OTH-CC-S-Pause> (OTH ') (S|<CC-S-Pause> (CC but) (S|<S-Pause> (S (PP (Prep from) (NP (Det the) (Prep behind))) (S|<NP-VP> (NP (PRP you) ) (VP (VBD looked) ))) (Pause --)))))) ) )\n",
      "(TOP (S2 (S (SBAR (WHNP (Qword What) ) (S (NP (PRP I) ) (VP (Noun object) (VP (TO to) (VP (VBP is) (NP (PRP you) )))))) (S|<VP-Punc> (VP (ADVP (Adv automatically) ) (VP|<Noun-NP-PP> (Noun treat) (VP|<NP-PP> (NP (PRP me) ) (PP (Prep like) (NP (Det an) (Noun inferior)))))) (Punc !))) ) )\n"
     ]
    },
    {
     "name": "stderr",
     "output_type": "stream",
     "text": [
      "#parsing: ['What', 'I', 'object', 'to', 'is', 'you', 'automatically', 'treat', 'me', 'like', 'an', 'inferior', '!']\n",
      "#parsing: ['Well', ',', 'I', 'AM', 'king', '...']\n"
     ]
    },
    {
     "name": "stdout",
     "output_type": "stream",
     "text": [
      "(TOP (S2 (S (INTJ (Adv Well) ) (S|<Pause-NP-VP-Punc> (Pause ,) (S|<NP-VP-Punc> (NP (PRP I) ) (S|<VP-Punc> (VP (VBP AM) (NP (Noun king) )) (Punc ...))))) ) )\n",
      "(TOP (S2 (FRAG (INTJ (UH Oh) (Noun king)) (FRAG|<Pause-INTJ-Pause-ADJP-Punc> (Pause ,) (FRAG|<INTJ-Pause-ADJP-Punc> (INTJ (Noun eh) ) (FRAG|<Pause-ADJP-Punc> (Pause ,) (FRAG|<ADJP-Punc> (ADJP (Adv very) (Adj nice)) (Punc .)))))) ) )\n",
      "(TOP (S2 (SBARQ (WHADVP (Det An) (WHADVP|<OTH-WHADVP> (OTH ') (WHADVP (Qword how) ))) (SBARQ|<SQ-Qmark> (SQ (SQ (OTH 'd) (SQ|<NP-VP> (NP (PRP you) ) (VP (VB get) (NP (Det that) )))) (SQ|<Pause-INTJ> (Pause ,) (INTJ (Noun eh) ))) (Qmark ?))) ) )\n"
     ]
    },
    {
     "name": "stderr",
     "output_type": "stream",
     "text": [
      "#parsing: ['Oh', 'king', ',', 'eh', ',', 'very', 'nice', '.']\n",
      "#parsing: ['An', \"'\", 'how', \"'d\", 'you', 'get', 'that', ',', 'eh', '?']\n",
      "#parsing: ['By', 'exploitin', \"'\", 'the', 'workers', '--', 'by', \"'\", 'angin', \"'\", 'on', 'to', 'outdated', 'imperialist', 'dogma', 'which', 'perpetuates', 'the', 'economic', 'an', \"'\", 'social', 'differences', 'in', 'our', 'society', '!']\n"
     ]
    },
    {
     "name": "stdout",
     "output_type": "stream",
     "text": [
      "(TOP (S2 (SINV (ADVP (Prep By) ) (SINV|<VP-NP-Punc> (VP (Noun exploitin) (VP|<OTH-NP-Pause-Prep-OTH-Noun-OTH-PP> (OTH ') (VP|<NP-Pause-Prep-OTH-Noun-OTH-PP> (NP (Det the) (Nouns workers)) (VP|<Pause-Prep-OTH-Noun-OTH-PP> (Pause --) (VP|<Prep-OTH-Noun-OTH-PP> (Prep by) (VP|<OTH-Noun-OTH-PP> (OTH ') (VP|<Noun-OTH-PP> (Noun angin) (VP|<OTH-PP> (OTH ') (PP (Prep on) (PP (TO to) (NP (NP (VBN outdated) (NP|<Noun-Noun> (Noun imperialist) (Noun dogma))) (NP (Det which) (Nouns perpetuates))))))))))))) (SINV|<NP-Punc> (NP (NP (Det the) (NP|<Adj-Det-OTH-Adj-Nouns> (Adj economic) (NP|<Det-OTH-Adj-Nouns> (Det an) (NP|<OTH-Adj-Nouns> (OTH ') (NP|<Adj-Nouns> (Adj social) (Nouns differences)))))) (PP (Prep in) (NP (Poss_pron our) (Noun society)))) (Punc !)))) ) )\n",
      "(TOP (S1 (PP (Prep If) (S (NP (Adv there) ) (S|<VP-Pause> (VP (OTH 's) (VP|<ADVP-VP> (ADVP (Adv ever) ) (VP (VBG going) (VP (TO to) (VP (VB be) (NP (Det any) (Noun progress))))))) (Pause --)))) ) )\n"
     ]
    },
    {
     "name": "stderr",
     "output_type": "stream",
     "text": [
      "#parsing: ['If', 'there', \"'s\", 'ever', 'going', 'to', 'be', 'any', 'progress', '--']\n",
      "#parsing: ['Dennis', ',', 'there', \"'s\", 'some', 'lovely', 'filth', 'down', 'here', '.']\n"
     ]
    },
    {
     "name": "stdout",
     "output_type": "stream",
     "text": [
      "(TOP (S2 (SINV (NP (Proper Dennis) ) (SINV|<Pause-ADVP-VP-NP-Punc> (Pause ,) (SINV|<ADVP-VP-NP-Punc> (ADVP (Adv there) ) (SINV|<VP-NP-Punc> (VP (OTH 's) (VP|<NP-ADVP> (NP (Det some) (NP|<Adv-Noun> (Adv lovely) (Noun filth))) (ADVP (Adv down) ))) (SINV|<NP-Punc> (NP (Adv here) ) (Punc .)))))) ) )\n",
      "(TOP (S2 (FRAG (INTJ (UH Oh) ) (FRAG|<Pause-WHADVP-SQ-Qmark> (Pause --) (FRAG|<WHADVP-SQ-Qmark> (WHADVP (Qword how) ) (FRAG|<SQ-Qmark> (SQ (Noun d') (SQ|<NP-VP> (NP (PRP you) ) (VP (VB do) ))) (Qmark ?))))) ) )\n",
      "(TOP (S2 (SBARQ (SBAR (WHADVP (Qword How) ) (SQ (VB do) (SQ|<NP-VP> (NP (PRP you) ) (VP (VB do) )))) (SBARQ|<Pause-NP-Punc> (Pause ,) (SBARQ|<NP-Punc> (NP (Adj good) (Noun lady)) (Punc .)))) ) )\n",
      "(TOP (S2 (S (S (NP (PRP I) ) (VP (VBP am) (NP (Proper Arthur) ))) (S|<Pause-S-Punc> (Pause ,) (S|<S-Punc> (S (VP (VBG King) (PP (Prep of) (NP (Det the) (NNPS Britons)))) ) (Punc .)))) ) )\n",
      "(TOP (S2 (SBARQ (WHNP (Wh_pro Who) ) (SBARQ|<SQ-Qmark> (SQ (OTH 's) (SQ|<NP-SQ> (NP (Noun castle) ) (SQ (VBP is) (NP (Det that) )))) (Qmark ?))) ) )\n",
      "(TOP (S2 (S (VP (VBG King) (PP (Prep of) (NP (Det the) (Wh_pro who)))) (Qmark ?)) ) )\n",
      "(TOP (S1 (NP (Det The) (NP|<NNPS-Punc> (NNPS Britons) (Punc .))) ) )\n",
      "(TOP (S2 (SBARQ (WHNP (Wh_pro Who) ) (SBARQ|<SQ-Qmark> (SQ (VBP are) (NP (Det the) (NNPS Britons))) (Qmark ?))) ) )\n",
      "(TOP (S2 (S (INTJ (Adv Well) ) (S|<Pause-NP-VP-Punc> (Pause ,) (S|<NP-VP-Punc> (NP (NP (PRP we) ) (NP (Det all) )) (S|<VP-Punc> (VP (VBP are) ) (Punc .))))) ) )\n",
      "(TOP (S2 (S (S (VP (Noun we're) (NP (Det all) (NNPS Britons))) ) (S|<CC-S-Punc> (CC and) (S|<S-Punc> (S (NP (PRP I) ) (VP (VBP am) (NP (Poss_pron your) (Noun king)))) (Punc .)))) ) )\n"
     ]
    },
    {
     "name": "stderr",
     "output_type": "stream",
     "text": [
      "#parsing: ['Oh', '--', 'how', \"d'\", 'you', 'do', '?']\n",
      "#parsing: ['How', 'do', 'you', 'do', ',', 'good', 'lady', '.']\n",
      "#parsing: ['I', 'am', 'Arthur', ',', 'King', 'of', 'the', 'Britons', '.']\n",
      "#parsing: ['Who', \"'s\", 'castle', 'is', 'that', '?']\n",
      "#parsing: ['King', 'of', 'the', 'who', '?']\n",
      "#parsing: ['The', 'Britons', '.']\n",
      "#parsing: ['Who', 'are', 'the', 'Britons', '?']\n",
      "#parsing: ['Well', ',', 'we', 'all', 'are', '.']\n",
      "#parsing: [\"we're\", 'all', 'Britons', 'and', 'I', 'am', 'your', 'king', '.']\n",
      "#parsing: ['I', 'did', \"n't\", 'know', 'we', 'had', 'a', 'king', '.']\n",
      "#parsing: ['I', 'thought', 'we', 'were', 'an', 'autonomous', 'collective', '.']\n"
     ]
    },
    {
     "name": "stdout",
     "output_type": "stream",
     "text": [
      "(TOP (S1 (NP (PRP I) ) (VP (VBD did) (VP|<Adv-VP> (Adv n't) (VP (VB know) (S (NP (PRP we) ) (S|<VP-Punc> (VP (VBD had) (NP (Det a) (Noun king))) (Punc .))))))) )\n",
      "(TOP (S1 (NP (PRP I) ) (VP (Noun thought) (S (NP (PRP we) ) (S|<VP-Punc> (VP (VBD were) (NP (Det an) (NP|<Adj-Noun> (Adj autonomous) (Noun collective)))) (Punc .))))) )\n",
      "(TOP (S2 (S (NP (Noun You're) ) (S|<VP-Punc> (VP (Noun fooling) (NP (PRP yourself) )) (Punc .))) ) )\n",
      "(TOP (S2 (S (NP (Noun We're) ) (S|<VP-Punc> (VP (Noun living) (PP (Prep in) (NP (Det a) (Noun dictatorship)))) (Punc .))) ) )\n"
     ]
    },
    {
     "name": "stderr",
     "output_type": "stream",
     "text": [
      "#parsing: [\"You're\", 'fooling', 'yourself', '.']\n",
      "#parsing: [\"We're\", 'living', 'in', 'a', 'dictatorship', '.']\n",
      "#parsing: ['A', 'self', '-', 'perpetuating', 'autocracy', 'in', 'which', 'the', 'working', 'classes', '--']\n"
     ]
    },
    {
     "name": "stdout",
     "output_type": "stream",
     "text": [
      "(TOP (S2 (S (NP (Det A) (Noun self)) (S|<VP-Pause> (VP (OTH -) (VP (VBG perpetuating) (VP (Noun autocracy) (SBAR (WHPP (Prep in) (WHNP (Qword which) )) (NP (Det the) (NP|<VBG-Nouns> (VBG working) (Nouns classes))))))) (Pause --))) ) )\n",
      "(TOP (S2 (S (UH Oh) (S|<ADVP-NP-VP-Punc> (ADVP (Adv there) ) (S|<NP-VP-Punc> (NP (PRP you) ) (S|<VP-Punc> (VP (VP (VB go) ) (VP|<Pause-VP> (Pause ,) (VP (VBG bringing) (VP|<NP-PP-ADVP> (NP (Noun class) ) (VP|<PP-ADVP> (PP (Prep into) (NP (PRP it) )) (ADVP (ADV again) )))))) (Punc .))))) ) )\n",
      "(TOP (S2 (SBAR (WHADVP (Det That) (WHADVP|<OTH-WHADVP> (OTH 's) (WHADVP (Qword what) ))) (S (NP (PRP it) ) (VP (OTH 's) (VP|<PP-SBAR> (PP (Det all) (Prep about)) (SBAR (CONJ if) (SBAR|<Adv-S> (Adv only) (S (NP (Nouns people) ) (S|<VP-Pause> (VP (MD would) ) (Pause --))))))))) ) )\n",
      "(TOP (S1 (VP (VB Please) (VP|<Pause-NP> (Pause ,) (NP (Noun please) ))) (_VP (VP (Adj good) (Nouns people)) (Punc .))) )\n",
      "(TOP (S2 (S (NP (PRP I) ) (S|<VP-Punc> (VP (VBP am) (PP (Prep in) (NP (Noun haste) ))) (Punc .))) ) )\n"
     ]
    },
    {
     "name": "stderr",
     "output_type": "stream",
     "text": [
      "#parsing: ['Oh', 'there', 'you', 'go', ',', 'bringing', 'class', 'into', 'it', 'again', '.']\n",
      "#parsing: ['That', \"'s\", 'what', 'it', \"'s\", 'all', 'about', 'if', 'only', 'people', 'would', '--']\n",
      "#parsing: ['Please', ',', 'please', 'good', 'people', '.']\n",
      "#parsing: ['I', 'am', 'in', 'haste', '.']\n",
      "#parsing: ['Who', 'lives', 'in', 'that', 'castle', '?']\n"
     ]
    },
    {
     "name": "stdout",
     "output_type": "stream",
     "text": [
      "(TOP (S2 (SBARQ (WHNP (Wh_pro Who) ) (SBARQ|<SQ-Qmark> (SQ (VP (Nouns lives) (PP (Prep in) (NP (Det that) (Noun castle)))) ) (Qmark ?))) ) )\n",
      "(TOP (S2 (S (NP (Det No) (PRP one)) (S|<VP-Punc> (VP (Adj live) (ADVP (Adv there) )) (Punc .))) ) )\n",
      "(TOP (S2 (SBARQ (ADVP (Adv Then) ) (SBARQ|<WHNP-SQ-Qmark> (WHNP (Wh_pro who) ) (SBARQ|<SQ-Qmark> (SQ (VBP is) (NP (Poss_pron your) (Noun lord))) (Qmark ?)))) ) )\n",
      "(TOP (S2 (S (NP (PRP We) ) (S|<VP-Punc> (VP (VB do) (VP|<Adv-VP> (Adv n't) (VP (VB have) (NP (Det a) (Noun lord))))) (Punc .))) ) )\n",
      "(TOP (S2 (FRAG (Qword What) (Qmark ?)) ) )\n",
      "(TOP (S2 (S (NP (PRP I) ) (S|<VP-Punc> (VP (Noun told) (NP (PRP you) )) (Punc .))) ) )\n",
      "(TOP (S1 (VP (Noun We're) (NP (Det an) (Noun anarcho))) (_VP (VP (OTH -) (NP (Noun syndicalist) (Noun commune))) (Punc .))) )\n"
     ]
    },
    {
     "name": "stderr",
     "output_type": "stream",
     "text": [
      "#parsing: ['No', 'one', 'live', 'there', '.']\n",
      "#parsing: ['Then', 'who', 'is', 'your', 'lord', '?']\n",
      "#parsing: ['We', 'do', \"n't\", 'have', 'a', 'lord', '.']\n",
      "#parsing: ['What', '?']\n",
      "#parsing: ['I', 'told', 'you', '.']\n",
      "#parsing: [\"We're\", 'an', 'anarcho', '-', 'syndicalist', 'commune', '.']\n",
      "#parsing: ['We', 'take', 'it', 'in', 'turns', 'to', 'act', 'as', 'a', 'sort', 'of', 'executive', 'officer', 'for', 'the', 'week', '.']\n"
     ]
    },
    {
     "name": "stdout",
     "output_type": "stream",
     "text": [
      "(TOP (S1 (NP (PRP We) ) (VP (VB take) (S (NP (NP (PRP it) ) (PP (Prep in) (NP (Nouns turns) ))) (S|<VP-Punc> (VP (TO to) (VP (Noun act) (PP (Prep as) (NP (NP (NP (Det a) (Noun sort)) (PP (Prep of) (NP (Noun executive) (Noun officer)))) (PP (Prep for) (NP (Det the) (Noun week))))))) (Punc .))))) )\n",
      "(TOP (S2 (INTJ (UH Yes) (Punc .)) ) )\n"
     ]
    },
    {
     "name": "stderr",
     "output_type": "stream",
     "text": [
      "#parsing: ['Yes', '.']\n",
      "#parsing: ['But', 'all', 'the', 'decision', 'of', 'that', 'officer', 'have', 'to', 'be', 'ratified', 'at', 'a', 'special', 'biweekly', 'meeting', '.']\n"
     ]
    },
    {
     "name": "stdout",
     "output_type": "stream",
     "text": [
      "(TOP (S2 (S (CC But) (S|<NP-VP-Punc> (NP (NP (Det all) (NP|<Det-Noun> (Det the) (Noun decision))) (PP (Prep of) (NP (Det that) (Noun officer)))) (S|<VP-Punc> (VP (VB have) (VP (TO to) (VP (VB be) (VP (VBN ratified) (PP (Prep at) (NP (Det a) (NP|<Adj-Noun-Noun> (Adj special) (NP|<Noun-Noun> (Noun biweekly) (Noun meeting))))))))) (Punc .)))) ) )\n",
      "(TOP (S2 (S (INTJ (UH Yes) ) (S|<Pause-NP-VP-Punc> (Pause ,) (S|<NP-VP-Punc> (NP (PRP I) ) (S|<VP-Punc> (VP (VB see) ) (Punc .))))) ) )\n"
     ]
    },
    {
     "name": "stderr",
     "output_type": "stream",
     "text": [
      "#parsing: ['Yes', ',', 'I', 'see', '.']\n",
      "#parsing: ['By', 'a', 'simple', 'majority', 'in', 'the', 'case', 'of', 'purely', 'internal', 'affairs', ',', '--']\n"
     ]
    },
    {
     "name": "stdout",
     "output_type": "stream",
     "text": [
      "(TOP (S2 (FRAG (Prep By) (FRAG|<NP-Pause-Pause> (NP (NP (NP (Det a) (NP|<Adj-Noun> (Adj simple) (Noun majority))) (PP (Prep in) (NP (Det the) (Noun case)))) (PP (Prep of) (NP (ADJP (Adv purely) (Adj internal)) (Nouns affairs)))) (FRAG|<Pause-Pause> (Pause ,) (Pause --)))) ) )\n",
      "(TOP (S2 (S (VP (VB Be) (ADJP (Adj quiet) )) (Punc !)) ) )\n",
      "(TOP (S2 (FRAG (Pause --) (FRAG|<CC-PP-PP-Pause> (CC but) (FRAG|<PP-PP-Pause> (PP (Prep by) (NP (NP (Det a) (NP|<ADJP-Noun> (ADJP (Number two) (ADJP|<OTH-Nouns> (OTH -) (Nouns thirds))) (Noun majority))) (PP (Prep in) (NP (Det the) (Noun case))))) (FRAG|<PP-Pause> (PP (Prep of) (NP (RBR more) )) (Pause --))))) ) )\n",
      "(TOP (S2 (S (VP (VB Be) (ADJP (Adj quiet) )) (Punc !)) ) )\n"
     ]
    },
    {
     "name": "stderr",
     "output_type": "stream",
     "text": [
      "#parsing: ['Be', 'quiet', '!']\n",
      "#parsing: ['--', 'but', 'by', 'a', 'two', '-', 'thirds', 'majority', 'in', 'the', 'case', 'of', 'more', '--']\n",
      "#parsing: ['Be', 'quiet', '!']\n",
      "#parsing: ['I', 'order', 'you', 'to', 'be', 'quiet', '!']\n"
     ]
    },
    {
     "name": "stdout",
     "output_type": "stream",
     "text": [
      "(TOP (S1 (NP (PRP I) ) (VP (Noun order) (S (NP (PRP you) ) (S|<VP-Punc> (VP (TO to) (VP (VB be) (ADJP (Adj quiet) ))) (Punc !))))) )\n",
      "(TOP (S2 (SBARQ (INTJ (INTJ (Noun Order) ) (INTJ|<Pause-NP> (Pause ,) (NP (Noun eh) ))) (SBARQ|<Pause-WHNP-SQ-Qmark> (Pause --) (SBARQ|<WHNP-SQ-Qmark> (WHNP (Wh_pro who) ) (SBARQ|<SQ-Qmark> (SQ (VB does) (SQ|<NP-VP> (NP (PRP he) ) (VP (Noun think) (S (NP (PRP he) ) (VP (VBP is) ))))) (Qmark ?))))) ) )\n",
      "(TOP (S2 (S (NP (PRP I) ) (S|<VP-Punc> (VP (VBP am) (NP (Poss_pron your) (Noun king))) (Punc !))) ) )\n",
      "(TOP (S2 (S (INTJ (Adv Well) ) (S|<Pause-NP-VP-Punc> (Pause ,) (S|<NP-VP-Punc> (NP (PRP I) ) (S|<VP-Punc> (VP (VBD did) (VP|<Adv-VP> (Adv n't) (VP (Noun vote) (PP (Prep for) (NP (PRP you) ))))) (Punc .))))) ) )\n",
      "(TOP (S2 (S (NP (PRP You) ) (S|<VP-Punc> (VP (VB do) (VP|<Adv-VP> (Adv n't) (VP (Noun vote) (PP (Prep for) (NP (Nouns kings) ))))) (Punc .))) ) )\n"
     ]
    },
    {
     "name": "stderr",
     "output_type": "stream",
     "text": [
      "#parsing: ['Order', ',', 'eh', '--', 'who', 'does', 'he', 'think', 'he', 'is', '?']\n",
      "#parsing: ['I', 'am', 'your', 'king', '!']\n",
      "#parsing: ['Well', ',', 'I', 'did', \"n't\", 'vote', 'for', 'you', '.']\n",
      "#parsing: ['You', 'do', \"n't\", 'vote', 'for', 'kings', '.']\n",
      "#parsing: ['Well', ',', \"'\", 'ow', 'did', 'you', 'become', 'king', 'then', '?']\n"
     ]
    },
    {
     "name": "stdout",
     "output_type": "stream",
     "text": [
      "(TOP (S2 (SQ (INTJ (Adv Well) ) (SQ|<Pause-OTH-WHADVP-SQ-Qmark> (Pause ,) (SQ|<OTH-WHADVP-SQ-Qmark> (OTH ') (SQ|<WHADVP-SQ-Qmark> (WHADVP (Noun ow) ) (SQ|<SQ-Qmark> (SQ (VBD did) (SQ|<NP-VP> (NP (PRP you) ) (VP (Noun become) (VP|<NP-ADVP> (NP (Noun king) ) (ADVP (Adv then) ))))) (Qmark ?)))))) ) )\n",
      "(TOP (S1 (NP (NP (Det The) (Noun Lady)) (NP|<PP-Pause> (PP (Prep of) (NP (Det the) (VB Lake))) (Pause ,))) ) )\n"
     ]
    },
    {
     "name": "stderr",
     "output_type": "stream",
     "text": [
      "#parsing: ['The', 'Lady', 'of', 'the', 'Lake', ',']\n",
      "#parsing: ['her', 'arm', 'clad', 'in', 'the', 'purest', 'shimmering', 'samite', ',', 'held', 'aloft', 'Excalibur', 'from', 'the', 'bosom', 'of', 'the', 'water', 'signifying', 'by', 'Divine', 'Providence', 'that', 'I', ',', 'Arthur', ',', 'was', 'to', 'carry', 'Excalibur', '.']\n"
     ]
    },
    {
     "name": "stdout",
     "output_type": "stream",
     "text": [
      "(TOP (S2 (S (S (NP (Poss_pron her) (Noun arm)) (VP (Noun clad) (PP (Prep in) (NP (Det the) (NP|<Noun-VBG-Noun> (Noun purest) (NP|<VBG-Noun> (VBG shimmering) (Noun samite))))))) (S|<Pause-S-Punc> (Pause ,) (S|<S-Punc> (S (NP (NP (NP (NP (Noun held) ) (ADJP (Adv aloft) (Noun Excalibur))) (PP (Prep from) (NP (Det the) (Noun bosom)))) (PP (Prep of) (NP (Det the) (Noun water)))) (VP (VBG signifying) (VP|<PP-S> (PP (Prep by) (NP (Noun Divine) (Noun Providence))) (S (NP (NP (Det that) (PRP I)) (NP|<Pause-NP-Pause> (Pause ,) (NP|<NP-Pause> (NP (Proper Arthur) ) (Pause ,)))) (VP (VBD was) (VP (TO to) (VP (VB carry) (NP (Noun Excalibur) )))))))) (Punc .)))) ) )\n",
      "(TOP (S1 (NP (Det That) ) (VP (VBP is) (SBAR (WHNP (Qword why) ) (S (NP (PRP I) ) (S|<VP-Punc> (VP (VBP am) (NP (Poss_pron your) (Noun king))) (Punc !)))))) )\n"
     ]
    },
    {
     "name": "stderr",
     "output_type": "stream",
     "text": [
      "#parsing: ['That', 'is', 'why', 'I', 'am', 'your', 'king', '!']\n",
      "#parsing: ['Listen', '--', 'strange', 'women', 'lying', 'in', 'ponds', 'distributing', 'swords', 'is', 'no', 'basis', 'for', 'a', 'system', 'of', 'government', '.']\n"
     ]
    },
    {
     "name": "stdout",
     "output_type": "stream",
     "text": [
      "(TOP (S1 (VP (VB Listen) (VP|<Pause-NP> (Pause --) (NP (Noun strange) (Nouns women)))) (_VP (VP (VBG lying) (VP|<PP-S> (PP (Prep in) (NP (Nouns ponds) )) (S (VP (VBG distributing) (S (NP (Nouns swords) ) (VP (VBP is) (NP (NP (NP (Det no) (Noun basis)) (PP (Prep for) (NP (Det a) (Noun system)))) (PP (Prep of) (NP (Noun government) )))))) ))) (Punc .))) )\n"
     ]
    },
    {
     "name": "stderr",
     "output_type": "stream",
     "text": [
      "#parsing: ['Supreme', 'executive', 'power', 'derives', 'from', 'a', 'mandate', 'from', 'the', 'masses', ',', 'not', 'from', 'some', 'farcical', 'aquatic', 'ceremony', '.']\n"
     ]
    },
    {
     "name": "stdout",
     "output_type": "stream",
     "text": [
      "(TOP (S2 (S (NP (Proper Supreme) (NP|<Noun-Noun> (Noun executive) (Noun power))) (S|<VP-Punc> (VP (Nouns derives) (PP (PP (Prep from) (NP (NP (Det a) (Noun mandate)) (PP (Prep from) (NP (Det the) (Nouns masses))))) (PP|<Pause-ADV-PP> (Pause ,) (PP|<ADV-PP> (ADV not) (PP (Prep from) (NP (Det some) (NP|<Adj-Adj-Noun> (Adj farcical) (NP|<Adj-Noun> (Adj aquatic) (Noun ceremony))))))))) (Punc .))) ) )\n",
      "(TOP (S2 (S (VP (VB Be) (ADJP (Adj quiet) )) (Punc !)) ) )\n"
     ]
    },
    {
     "name": "stderr",
     "output_type": "stream",
     "text": [
      "#parsing: ['Be', 'quiet', '!']\n",
      "#parsing: ['Well', 'you', \"can't\", 'expect', 'to', 'wield', 'supreme', 'executive', 'power', 'just', \"'\", 'cause', 'some', 'watery', 'tart', 'threw', 'a', 'sword', 'at', 'you', '!']\n"
     ]
    },
    {
     "name": "stdout",
     "output_type": "stream",
     "text": [
      "(TOP (S2 (S (ADVP (Adv Well) ) (S|<NP-VP-Punc> (NP (PRP you) ) (S|<VP-Punc> (VP (Noun can't) (VP (VB expect) (VP|<S-Noun-SBAR> (S (VP (TO to) (VP (S (NP (Noun wield) (NP|<Noun-Noun> (Noun supreme) (Noun executive))) (VP (Noun power) )) (VP|<Adv-OTH> (Adv just) (OTH ')))) ) (VP|<Noun-SBAR> (Noun cause) (SBAR (S (NP (Det some) (NP|<Noun-Noun> (Noun watery) (Noun tart))) (VP (Noun threw) (VP|<NP-PP> (NP (Det a) (Noun sword)) (PP (Prep at) (NP (PRP you) ))))) ))))) (Punc !)))) ) )\n",
      "(TOP (S2 (INTJ (Noun Shut) (INTJ|<ADVP-Punc> (ADVP (Adv up) ) (Punc !))) ) )\n"
     ]
    },
    {
     "name": "stderr",
     "output_type": "stream",
     "text": [
      "#parsing: ['Shut', 'up', '!']\n",
      "#parsing: ['I', 'mean', ',', 'if', 'I', 'went', 'around', 'sayin', \"'\", 'I', 'was', 'an', 'empereror', 'just', 'because', 'some', 'moistened', 'bint', 'had', 'lobbed', 'a', 'scimitar', 'at', 'me', 'they', \"'d\", 'put', 'me', 'away', '!']\n"
     ]
    },
    {
     "name": "stdout",
     "output_type": "stream",
     "text": [
      "(TOP (S1 (NP (PRP I) ) (VP (Noun mean) (VP|<Pause-S> (Pause ,) (S (SBAR (CONJ if) (S (NP (PRP I) ) (VP (VBD went) (PP (Prep around) (NP (Noun sayin) (OTH ')))))) (S|<NP-VP> (NP (PRP I) ) (VP (VBD was) (NP (NP (Det an) (Noun empereror)) (SBAR (Adv just) (SBAR|<CONJ-S> (CONJ because) (S (NP (Det some) (NP|<VBN-Noun> (VBN moistened) (Noun bint))) (VP (VBD had) (VP (Noun lobbed) (VP|<NP-PP-S> (NP (Det a) (Noun scimitar)) (VP|<PP-S> (PP (Prep at) (NP (PRP me) )) (S (NP (PRP they) ) (S|<VP-Punc> (VP (OTH 'd) (VP|<Noun-NP-ADVP> (Noun put) (VP|<NP-ADVP> (NP (PRP me) ) (ADVP (Adv away) )))) (Punc !))))))))))))))))) )\n",
      "(TOP (S2 (INTJ (Noun Shut) (INTJ|<ADVP-Punc> (ADVP (Adv up) ) (Punc !))) ) )\n",
      "(TOP (S2 (SQ (MD Will) (SQ|<NP-VP-Punc> (NP (PRP you) ) (SQ|<VP-Punc> (VP (Noun shut) (PRT (Adv up) )) (Punc !)))) ) )\n"
     ]
    },
    {
     "name": "stderr",
     "output_type": "stream",
     "text": [
      "#parsing: ['Shut', 'up', '!']\n",
      "#parsing: ['Will', 'you', 'shut', 'up', '!']\n",
      "#parsing: ['Ah', ',', 'now', 'we', 'see', 'the', 'violence', 'inherent', 'in', 'the', 'system', '.']\n"
     ]
    },
    {
     "name": "stdout",
     "output_type": "stream",
     "text": [
      "(TOP (S2 (S (INTJ (OTH Ah) ) (S|<Pause-ADVP-NP-VP-Punc> (Pause ,) (S|<ADVP-NP-VP-Punc> (ADVP (Adv now) ) (S|<NP-VP-Punc> (NP (PRP we) ) (S|<VP-Punc> (VP (VB see) (VP|<NP-PP> (NP (Det the) (NP|<Noun-Noun> (Noun violence) (Noun inherent))) (PP (Prep in) (NP (Det the) (Noun system))))) (Punc .)))))) ) )\n",
      "(TOP (S2 (INTJ (Noun Shut) (INTJ|<ADVP-Punc> (ADVP (Adv up) ) (Punc !))) ) )\n",
      "(TOP (S2 (INTJ (UH Oh) (Punc !)) ) )\n",
      "(TOP (S1 (VP (VB Come) (VP|<CC-VB-NP> (CC and) (VP|<VB-NP> (VB see) (NP (Det the) (Noun violence))))) (_VP (VP (Noun inherent) (PP (Prep in) (NP (Det the) (Noun system)))) (Punc !))) )\n",
      "(TOP (S1 (NP (Noun HELP) (Punc !)) ) )\n",
      "(TOP (S2 (S (NP (Noun I'm) ) (S|<VP-Punc> (VP (VBG being) (VP (VBN repressed) )) (Punc !))) ) )\n",
      "(TOP (S1 (NP (Noun Bloody) (NP|<Noun-Punc> (Noun peasant) (Punc !))) ) )\n",
      "(TOP (S2 (FRAG (INTJ (UH Oh) ) (FRAG|<Pause-WHNP-NP-PRT-Punc> (Pause ,) (FRAG|<WHNP-NP-PRT-Punc> (WHNP (Wh_pro what) ) (FRAG|<NP-PRT-Punc> (NP (Det a) (VB give)) (FRAG|<PRT-Punc> (PRT (Adv away) ) (Punc .)))))) ) )\n"
     ]
    },
    {
     "name": "stderr",
     "output_type": "stream",
     "text": [
      "#parsing: ['Shut', 'up', '!']\n",
      "#parsing: ['Oh', '!']\n",
      "#parsing: ['Come', 'and', 'see', 'the', 'violence', 'inherent', 'in', 'the', 'system', '!']\n",
      "#parsing: ['HELP', '!']\n",
      "#parsing: [\"I'm\", 'being', 'repressed', '!']\n",
      "#parsing: ['Bloody', 'peasant', '!']\n",
      "#parsing: ['Oh', ',', 'what', 'a', 'give', 'away', '.']\n",
      "#parsing: ['Did', 'you', 'here', 'that', ',', 'did', 'you', 'here', 'that', ',', 'eh', '?']\n"
     ]
    },
    {
     "name": "stdout",
     "output_type": "stream",
     "text": [
      "(TOP (S2 (SQ (Noun Did) (SQ|<NP-ADVP-NP-Qmark> (NP (NP (PRP you) ) (NP|<ADVP-Pause-VBD-NP> (ADVP (ADVP (Adv here) ) (NP (Det that) )) (NP|<Pause-VBD-NP> (Pause ,) (NP|<VBD-NP> (VBD did) (NP (PRP you) ))))) (SQ|<ADVP-NP-Qmark> (ADVP (Adv here) ) (SQ|<NP-Qmark> (NP (NP (Det that) ) (NP|<Pause-NP> (Pause ,) (NP (Noun eh) ))) (Qmark ?))))) ) )\n"
     ]
    },
    {
     "name": "stderr",
     "output_type": "stream",
     "text": [
      "#parsing: ['That', \"'s\", 'what', \"I'm\", 'on', 'about', '--', 'did', 'you', 'see', 'him', 'repressing', 'me', ',', 'you', 'saw', 'it', 'did', \"n't\", 'you', '?']\n"
     ]
    },
    {
     "name": "stdout",
     "output_type": "stream",
     "text": [
      "(TOP (S2 (S (S (NP (Det That) ) (VP (OTH 's) (NP (NP (Det what) (Noun I'm)) (PP (Prep on) (PP (Prep about) ))))) (S|<Pause-SINV-Pause-S-Qmark> (Pause --) (S|<SINV-Pause-S-Qmark> (SINV (VBD did) (SINV|<NP-VP> (NP (PRP you) ) (VP (VB see) (S (NP (PRP him) ) (VP (VBG repressing) (NP (PRP me) )))))) (S|<Pause-S-Qmark> (Pause ,) (S|<S-Qmark> (S (NP (PRP you) ) (VP (Noun saw) (S (NP (PRP it) ) (VP (VBD did) (VP|<Adv-NP> (Adv n't) (NP (PRP you) )))))) (Qmark ?)))))) ) )\n"
     ]
    },
    {
     "name": "stderr",
     "output_type": "stream",
     "text": [
      "#parsing: ['You', 'fight', 'with', 'the', 'strength', 'of', 'many', 'men', ',', 'Sir', 'knight', '.']\n"
     ]
    },
    {
     "name": "stdout",
     "output_type": "stream",
     "text": [
      "(TOP (S2 (S (NP (PRP You) ) (S|<VP-Punc> (VP (Noun fight) (PP (Prep with) (NP (NP (NP (Det the) (Noun strength)) (PP (Prep of) (NP (Adj many) (Nouns men)))) (NP|<Pause-NP> (Pause ,) (NP (Proper Sir) (Noun knight)))))) (Punc .))) ) )\n",
      "(TOP (S2 (S (S (NP (PRP I) ) (VP (VBP am) (NP (Proper Arthur) ))) (S|<Pause-S-Punc> (Pause ,) (S|<S-Punc> (S (VP (VBG King) (PP (Prep of) (NP (Det the) (NNPS Britons)))) ) (Punc .)))) ) )\n"
     ]
    },
    {
     "name": "stderr",
     "output_type": "stream",
     "text": [
      "#parsing: ['I', 'am', 'Arthur', ',', 'King', 'of', 'the', 'Britons', '.']\n",
      "#parsing: ['I', 'seek', 'the', 'finest', 'and', 'the', 'bravest', 'knights', 'in', 'the', 'land', 'to', 'join', 'me', 'in', 'my', 'Court', 'of', 'Camelot', '.']\n"
     ]
    },
    {
     "name": "stdout",
     "output_type": "stream",
     "text": [
      "(TOP (S1 (NP (PRP I) ) (VP (Noun seek) (VP|<NP-SBAR> (NP (Det the) (NP|<ADJP-Nouns> (ADJP (ADJP (AdjS finest) ) (ADJP|<CC-Det-Noun> (CC and) (ADJP|<Det-Noun> (Det the) (Noun bravest)))) (Nouns knights))) (SBAR (Prep in) (S (NP (Det the) (Noun land)) (S|<VP-Punc> (VP (TO to) (VP (Noun join) (VP|<NP-PP> (NP (NP (PRP me) ) (PP (Prep in) (NP (Poss_pron my) (Proper Court)))) (PP (Prep of) (NP (NNP Camelot) ))))) (Punc .))))))) )\n",
      "(TOP (S2 (SQ (S (NP (PRP You) ) (VP (VB have) (VP (VBN proved) (NP (PRP yourself) )))) (SQ (INTJ (Noun worthy) ) (SQ|<Pause-MD-NP-VP-Qmark> (Pause ;) (SQ|<MD-NP-VP-Qmark> (MD will) (SQ|<NP-VP-Qmark> (NP (PRP you) ) (SQ|<VP-Qmark> (VP (Noun join) (NP (PRP me) )) (Qmark ?))))))) ) )\n",
      "(TOP (S2 (S (NP (PRP You) ) (S|<VP-Punc> (VP (VB make) (VP|<NP-NP> (NP (PRP me) ) (NP (Noun sad) ))) (Punc .))) ) )\n",
      "(TOP (S2 (S (_So So) (S|<VP-Punc> (VP (VB be) (NP (PRP it) )) (Punc .))) ) )\n",
      "(TOP (S2 (S (VP (VB Come) (VP|<Pause-NP> (Pause ,) (NP (Proper Patsy) ))) (Punc .)) ) )\n",
      "(TOP (S2 (S (NP (Noun None) ) (S|<VP-Punc> (VP (MD shall) (VP (Noun pass) )) (Punc .))) ) )\n",
      "(TOP (S2 (FRAG (Qword What) (Qmark ?)) ) )\n",
      "(TOP (S2 (S (NP (Noun None) ) (S|<VP-Punc> (VP (MD shall) (VP (Noun pass) )) (Punc .))) ) )\n"
     ]
    },
    {
     "name": "stderr",
     "output_type": "stream",
     "text": [
      "#parsing: ['You', 'have', 'proved', 'yourself', 'worthy', ';', 'will', 'you', 'join', 'me', '?']\n",
      "#parsing: ['You', 'make', 'me', 'sad', '.']\n",
      "#parsing: ['So', 'be', 'it', '.']\n",
      "#parsing: ['Come', ',', 'Patsy', '.']\n",
      "#parsing: ['None', 'shall', 'pass', '.']\n",
      "#parsing: ['What', '?']\n",
      "#parsing: ['None', 'shall', 'pass', '.']\n",
      "#parsing: ['I', 'have', 'no', 'quarrel', 'with', 'you', ',', 'good', 'Sir', 'knight', ',', 'but', 'I', 'must', 'cross', 'this', 'bridge', '.']\n"
     ]
    },
    {
     "name": "stdout",
     "output_type": "stream",
     "text": [
      "(TOP (S2 (S (S (NP (PRP I) ) (VP (VB have) (VP|<NP-PP> (NP (Det no) (Noun quarrel)) (PP (Prep with) (NP (NP (PRP you) ) (NP|<Pause-NP> (Pause ,) (NP (Adj good) (NP|<Proper-Noun> (Proper Sir) (Noun knight))))))))) (S|<Pause-CC-S-Punc> (Pause ,) (S|<CC-S-Punc> (CC but) (S|<S-Punc> (S (NP (PRP I) ) (VP (MD must) (VP (Noun cross) (NP (Det this) (Noun bridge))))) (Punc .))))) ) )\n",
      "(TOP (S2 (S (ADVP (Adv Then) ) (S|<NP-VP-Punc> (NP (PRP you) ) (S|<VP-Punc> (VP (MD shall) (VP (Noun die) )) (Punc .)))) ) )\n"
     ]
    },
    {
     "name": "stderr",
     "output_type": "stream",
     "text": [
      "#parsing: ['Then', 'you', 'shall', 'die', '.']\n",
      "#parsing: ['I', 'command', 'you', 'as', 'King', 'of', 'the', 'Britons', 'to', 'stand', 'aside', '!']\n"
     ]
    },
    {
     "name": "stdout",
     "output_type": "stream",
     "text": [
      "(TOP (S1 (S1 (NP (PRP I) ) (VP (Noun command) (VP|<NP-ADJP-PP> (NP (PRP you) ) (VP|<ADJP-PP> (ADJP (CONJ as) (VBG King)) (PP (Prep of) (NP (Det the) (NNPS Britons))))))) (VP_Punc (VP (TO to) (VP (Noun stand) (PRT (Adv aside) ))) (Punc !))) )\n",
      "(TOP (S2 (S (NP (PRP I) ) (S|<VP-Punc> (VP (Noun move) (PP (Prep for) (NP (Det no) (Noun man)))) (Punc .))) ) )\n",
      "(TOP (S2 (S (_So So) (S|<VP-Punc> (VP (VB be) (NP (PRP it) )) (Punc !))) ) )\n",
      "(TOP (S2 (S (Adv Now) (S|<VP-Punc> (VP (Noun stand) (VP|<ADVP-Pause-NP> (ADVP (Adv aside) ) (VP|<Pause-NP> (Pause ,) (NP (Noun worthy) (Noun adversary))))) (Punc .))) ) )\n",
      "(TOP (S2 (S (VP (OTH ') (ADJP (ADJP (Noun Tis) ) (ADJP|<CC-Det-Noun> (CC but) (ADJP|<Det-Noun> (Det a) (Noun scratch))))) (Punc .)) ) )\n",
      "(TOP (S1 (NP (Det A) (NP|<Noun-Qmark> (Noun scratch) (Qmark ?))) ) )\n",
      "(TOP (S2 (S (NP (Poss_pron Your) (Noun arm)) (S|<VP-Punc> (VP (OTH 's) (ADVP (Prep off) )) (Punc !))) ) )\n",
      "(TOP (S2 (S (INTJ (Det No) ) (S|<Pause-NP-VP-Punc> (Pause ,) (S|<NP-VP-Punc> (NP (PRP it) ) (S|<VP-Punc> (VP (VBP is) (Adv n't)) (Punc .))))) ) )\n",
      "(TOP (S2 (SBARQ (ADVP (Adv Well) ) (SBARQ|<Pause-WHADVP-SQ-Qmark> (Pause ,) (SBARQ|<WHADVP-SQ-Qmark> (WHADVP (Qword what) ) (SBARQ|<SQ-Qmark> (SQ (OTH 's) (SQ|<NP-ADVP> (NP (Det that) ) (ADVP (Adv then) ))) (Qmark ?))))) ) )\n",
      "(TOP (S2 (S (NP (Noun I've) ) (S|<VP-Punc> (VP (VBD had) (ADJP (Adjc worse) )) (Punc .))) ) )\n",
      "(TOP (S2 (S (NP (PRP You) ) (S|<VP-Punc> (VP (Noun liar) ) (Punc !))) ) )\n",
      "(TOP (S1 (VP (VB Come) (PP (Prep on) (NP (PRP you) ))) (_VP (VP (Noun pansy) ) (Punc !))) )\n",
      "(TOP (S2 (S (NP (Noun Victory) ) (S|<VP-Punc> (VP (VBP is) (NP (Noun mine) )) (Punc !))) ) )\n"
     ]
    },
    {
     "name": "stderr",
     "output_type": "stream",
     "text": [
      "#parsing: ['I', 'move', 'for', 'no', 'man', '.']\n",
      "#parsing: ['So', 'be', 'it', '!']\n",
      "#parsing: ['Now', 'stand', 'aside', ',', 'worthy', 'adversary', '.']\n",
      "#parsing: [\"'\", 'Tis', 'but', 'a', 'scratch', '.']\n",
      "#parsing: ['A', 'scratch', '?']\n",
      "#parsing: ['Your', 'arm', \"'s\", 'off', '!']\n",
      "#parsing: ['No', ',', 'it', 'is', \"n't\", '.']\n",
      "#parsing: ['Well', ',', 'what', \"'s\", 'that', 'then', '?']\n",
      "#parsing: [\"I've\", 'had', 'worse', '.']\n",
      "#parsing: ['You', 'liar', '!']\n",
      "#parsing: ['Come', 'on', 'you', 'pansy', '!']\n",
      "#parsing: ['Victory', 'is', 'mine', '!']\n",
      "#parsing: ['We', 'thank', 'thee', 'Lord', ',', 'that', 'in', 'thy', 'merc', '-']\n"
     ]
    },
    {
     "name": "stdout",
     "output_type": "stream",
     "text": [
      "(TOP (S2 (S (NP (PRP We) ) (S|<VP-OTH> (VP (Noun thank) (VP|<NP-PP> (NP (NP (Noun thee) (Noun Lord)) (NP|<Pause-NP> (Pause ,) (NP (Det that) ))) (PP (Prep in) (NP (Noun thy) (Noun merc))))) (OTH -))) ) )\n",
      "(TOP (S2 (S (VP (VB Come) (VP|<PRT-ADVP> (PRT (Prep on) ) (ADVP (Adv then) ))) (Punc .)) ) )\n",
      "(TOP (S2 (FRAG (Qword What) (Qmark ?)) ) )\n",
      "(TOP (S2 (S (VP (VB Have) (PP (Prep at) (NP (PRP you) ))) (Punc !)) ) )\n",
      "(TOP (S2 (S (S (NP (PRP You) ) (VP (VBP are) (VP|<ADVP-ADJP-Pause-NP> (ADVP (Adv indeed) ) (VP|<ADJP-Pause-NP> (ADJP (Noun brave) ) (VP|<Pause-NP> (Pause ,) (NP (Proper Sir) (Noun knight))))))) (S|<Pause-CC-S-Punc> (Pause ,) (S|<CC-S-Punc> (CC but) (S|<S-Punc> (S (NP (Det the) (Noun fight)) (VP (VBP is) (NP (Noun mine) ))) (Punc .))))) ) )\n",
      "(TOP (S2 (FRAG (INTJ (UH Oh) ) (FRAG|<Pause-VP-Qmark> (Pause ,) (FRAG|<VP-Qmark> (VP (VBD had) (NP (NP (Adv enough) ) (NP|<Pause-NP> (Pause ,) (NP (Noun eh) )))) (Qmark ?)))) ) )\n"
     ]
    },
    {
     "name": "stderr",
     "output_type": "stream",
     "text": [
      "#parsing: ['Come', 'on', 'then', '.']\n",
      "#parsing: ['What', '?']\n",
      "#parsing: ['Have', 'at', 'you', '!']\n",
      "#parsing: ['You', 'are', 'indeed', 'brave', ',', 'Sir', 'knight', ',', 'but', 'the', 'fight', 'is', 'mine', '.']\n",
      "#parsing: ['Oh', ',', 'had', 'enough', ',', 'eh', '?']\n",
      "#parsing: ['Look', ',', 'you', 'stupid', 'bastard', ',', 'you', \"'ve\", 'got', 'no', 'arms', 'left', '.']\n"
     ]
    },
    {
     "name": "stdout",
     "output_type": "stream",
     "text": [
      "(TOP (S2 (S (VB Look) (S|<Pause-S-Pause-NP-VP-Punc> (Pause ,) (S|<S-Pause-NP-VP-Punc> (S (PRP you) (S|<Adj-Noun> (Adj stupid) (Noun bastard))) (S|<Pause-NP-VP-Punc> (Pause ,) (S|<NP-VP-Punc> (NP (PRP you) ) (S|<VP-Punc> (VP (OTH 've) (VP (VBD got) (S (NP (Det no) (Nouns arms)) (VP (Noun left) )))) (Punc .))))))) ) )\n",
      "(TOP (S2 (S (ADVP (UH Yes) ) (S|<NP-VP-Punc> (NP (PRP I) ) (S|<VP-Punc> (VP (VB have) ) (Punc .)))) ) )\n",
      "(TOP (S2 (S (VP (VB Look) ) (Punc !)) ) )\n",
      "(TOP (S1 (NP (Adv Just) (NP|<Det-Noun-Noun-Punc> (Det a) (NP|<Noun-Noun-Punc> (Noun flesh) (NP|<Noun-Punc> (Noun wound) (Punc .))))) ) )\n",
      "(TOP (S2 (S (INTJ (VB Look) ) (S|<Pause-VP-Punc> (Pause ,) (S|<VP-Punc> (VP (Noun stop) (NP (Det that) )) (Punc .)))) ) )\n",
      "(TOP (S1 (NP (Noun Chicken) (Punc !)) ) )\n",
      "(TOP (S1 (VP (VB Look) (VP|<Pause-NP> (Pause ,) (NP (PRP I) ))) (_VP (VP (OTH 'll) (VP (VB have) (NP (Poss_pron your) (Noun leg)))) (Punc .))) )\n",
      "(TOP (S2 (INTJ (Adv Right) (Punc !)) ) )\n",
      "(TOP (S2 (S (INTJ (Adv Right) ) (S|<Pause-NP-VP-Punc> (Pause ,) (S|<NP-VP-Punc> (NP (PRP I) ) (S|<VP-Punc> (VP (OTH 'll) (VP (VB do) (VP|<NP-PP> (NP (PRP you) ) (PP (Prep for) (NP (Det that) ))))) (Punc !))))) ) )\n",
      "(TOP (S2 (S (NP (PRP You) ) (S|<VP-Qmark> (VP (OTH 'll) (NP (Det what) )) (Qmark ?))) ) )\n",
      "(TOP (S2 (S (VP (VB Come) (VP|<OTH-INTJ> (OTH ') (INTJ (Adv ere) ))) (Punc !)) ) )\n",
      "(TOP (S2 (SBARQ (WHNP (Qword What) ) (SBARQ|<SQ-Qmark> (SQ (VBP are) (SQ|<NP-VP> (NP (PRP you) ) (VP (VBG going) (VP (TO to) (VP (VB do) (VP|<Pause-NP> (Pause ,) (NP (NP (Noun bleed) ) (PP (Prep on) (NP (PRP me) ))))))))) (Qmark ?))) ) )\n",
      "(TOP (S2 (S (VP (Noun I'm) (ADJP (Adj invincible) )) (Punc !)) ) )\n",
      "(TOP (S2 (S (VP (Noun You're) (NP (Det a) (Noun loony))) (Punc .)) ) )\n"
     ]
    },
    {
     "name": "stderr",
     "output_type": "stream",
     "text": [
      "#parsing: ['Yes', 'I', 'have', '.']\n",
      "#parsing: ['Look', '!']\n",
      "#parsing: ['Just', 'a', 'flesh', 'wound', '.']\n",
      "#parsing: ['Look', ',', 'stop', 'that', '.']\n",
      "#parsing: ['Chicken', '!']\n",
      "#parsing: ['Look', ',', 'I', \"'ll\", 'have', 'your', 'leg', '.']\n",
      "#parsing: ['Right', '!']\n",
      "#parsing: ['Right', ',', 'I', \"'ll\", 'do', 'you', 'for', 'that', '!']\n",
      "#parsing: ['You', \"'ll\", 'what', '?']\n",
      "#parsing: ['Come', \"'\", 'ere', '!']\n",
      "#parsing: ['What', 'are', 'you', 'going', 'to', 'do', ',', 'bleed', 'on', 'me', '?']\n",
      "#parsing: [\"I'm\", 'invincible', '!']\n",
      "#parsing: [\"You're\", 'a', 'loony', '.']\n",
      "#parsing: ['The', 'Black', 'Knight', 'always', 'triumphs', '!']\n"
     ]
    },
    {
     "name": "stdout",
     "output_type": "stream",
     "text": [
      "(TOP (S1 (NP (NP (Det The) (NP|<Noun-Proper> (Noun Black) (Proper Knight))) (NP|<ADJP-Punc> (ADJP (Adv always) (Noun triumphs)) (Punc !))) ) )\n",
      "(TOP (S2 (S (VP (VB Have) (PP (Prep at) (NP (PRP you) ))) (Punc !)) ) )\n",
      "(TOP (S2 (S (VP (VB Come) (VP|<PRT-ADVP> (PRT (Prep on) ) (ADVP (Adv then) ))) (Punc .)) ) )\n",
      "(TOP (S2 (S (NP (Det All) (Noun right)) (S|<Pause-NP-VP-Punc> (Pause ;) (S|<NP-VP-Punc> (NP (PRP we) ) (S|<VP-Punc> (VP (OTH 'll) (VP|<Noun-NP-ADVP> (Noun call) (VP|<NP-ADVP> (NP (PRP it) ) (ADVP (Det a) (Noun draw))))) (Punc .))))) ) )\n",
      "(TOP (S2 (S (VP (VB Come) (VP|<Pause-NP> (Pause ,) (NP (Proper Patsy) ))) (Punc .)) ) )\n",
      "(TOP (S2 (FRAG (INTJ (UH Oh) ) (FRAG|<Pause-INTJ-PRN-VP-Punc> (Pause ,) (FRAG|<INTJ-PRN-VP-Punc> (INTJ (Noun oh) ) (FRAG|<PRN-VP-Punc> (PRN (Pause ,) (PRN|<S-Pause> (S (NP (PRP I) ) (VP (VB see) )) (Pause ,))) (FRAG|<VP-Punc> (VP (VBG running) (VP|<ADVP-ADVP> (ADVP (Adv away) ) (ADVP (Adv then) ))) (Punc .)))))) ) )\n",
      "(TOP (S2 (S (NP (PRP You) ) (S|<VP-Punc> (VP (Adj yellow) (Nouns bastards)) (Punc !))) ) )\n"
     ]
    },
    {
     "name": "stderr",
     "output_type": "stream",
     "text": [
      "#parsing: ['Have', 'at', 'you', '!']\n",
      "#parsing: ['Come', 'on', 'then', '.']\n",
      "#parsing: ['All', 'right', ';', 'we', \"'ll\", 'call', 'it', 'a', 'draw', '.']\n",
      "#parsing: ['Come', ',', 'Patsy', '.']\n",
      "#parsing: ['Oh', ',', 'oh', ',', 'I', 'see', ',', 'running', 'away', 'then', '.']\n",
      "#parsing: ['You', 'yellow', 'bastards', '!']\n",
      "#parsing: ['Come', 'back', 'here', 'and', 'take', 'what', \"'s\", 'coming', 'to', 'you', '.']\n"
     ]
    },
    {
     "name": "stdout",
     "output_type": "stream",
     "text": [
      "(TOP (S1 (VP (VP (VB Come) (VP|<PRT-ADVP> (PRT (Adv back) ) (ADVP (Adv here) ))) (VP|<CC-VP> (CC and) (VP (VB take) (NP (Det what) )))) (_VP (VP (OTH 's) (VP (VBG coming) (PP (TO to) (NP (PRP you) )))) (Punc .))) )\n",
      "(TOP (S2 (S (NP (PRP I) ) (S|<VP-Punc> (VP (OTH 'll) (VP (Noun bite) (VP|<NP-PRT> (NP (Poss_pron your) (Nouns legs)) (PRT (Prep off) )))) (Punc !))) ) )\n",
      "(TOP (S1 (NP (Det A) (NP|<Noun-Punc> (Noun witch) (Punc !))) ) )\n",
      "(TOP (S2 (S (NP (Noun We've) ) (S|<VP-Punc> (VP (VBD got) (NP (Det a) (Noun witch))) (Punc !))) ) )\n",
      "(TOP (S1 (NP (Det A) (NP|<Noun-Punc> (Noun witch) (Punc !))) ) )\n",
      "(TOP (S1 (NP (PRP We) ) (VP (VB have) (SBAR (WHADVP (Noun found) ) (SQ (NP (Det a) (Noun witch)) (SQ|<Pause-MD-NP-VP-Qmark> (Pause ,) (SQ|<MD-NP-VP-Qmark> (MD might) (SQ|<NP-VP-Qmark> (NP (PRP we) ) (SQ|<VP-Qmark> (VP (Noun burn) (NP (PRP her) )) (Qmark ?))))))))) )\n",
      "(TOP (S2 (S (VP (Noun Burn) (NP (PRP her) )) (Punc !)) ) )\n",
      "(TOP (S1 (NP (Noun Burn) (Punc !)) ) )\n",
      "(TOP (S2 (SBARQ (WHNP (Qword How) ) (SBARQ|<SQ-Qmark> (SQ (VB do) (SQ|<NP-VP> (NP (PRP you) ) (VP (VB know) (S (NP (PRP she) ) (VP (VBP is) (NP (Det a) (Noun witch))))))) (Qmark ?))) ) )\n",
      "(TOP (S2 (S (NP (PRP She) ) (S|<VP-Punc> (VP (Nouns looks) (PP (Prep like) (NP (PRP one) ))) (Punc .))) ) )\n",
      "(TOP (S2 (S (VP (VB Bring) (VP|<NP-ADVP> (NP (PRP her) ) (ADVP (Adv forward) ))) (Punc .)) ) )\n",
      "(TOP (S2 (FRAG (Noun I'm) (FRAG|<ADV-NP-Punc> (ADV not) (FRAG|<NP-Punc> (NP (Det a) (Noun witch)) (Punc .)))) ) )\n"
     ]
    },
    {
     "name": "stderr",
     "output_type": "stream",
     "text": [
      "#parsing: ['I', \"'ll\", 'bite', 'your', 'legs', 'off', '!']\n",
      "#parsing: ['A', 'witch', '!']\n",
      "#parsing: [\"We've\", 'got', 'a', 'witch', '!']\n",
      "#parsing: ['A', 'witch', '!']\n",
      "#parsing: ['We', 'have', 'found', 'a', 'witch', ',', 'might', 'we', 'burn', 'her', '?']\n",
      "#parsing: ['Burn', 'her', '!']\n",
      "#parsing: ['Burn', '!']\n",
      "#parsing: ['How', 'do', 'you', 'know', 'she', 'is', 'a', 'witch', '?']\n",
      "#parsing: ['She', 'looks', 'like', 'one', '.']\n",
      "#parsing: ['Bring', 'her', 'forward', '.']\n",
      "#parsing: [\"I'm\", 'not', 'a', 'witch', '.']\n",
      "#parsing: ['But', 'you', 'are', 'dressed', 'as', 'one', '.']\n"
     ]
    },
    {
     "name": "stdout",
     "output_type": "stream",
     "text": [
      "(TOP (S2 (S (CC But) (S|<NP-VP-Punc> (NP (PRP you) ) (S|<VP-Punc> (VP (VBP are) (VP (VBN dressed) (PP (Prep as) (NP (PRP one) )))) (Punc .)))) ) )\n",
      "(TOP (S2 (S (NP (PRP They) ) (S|<VP-Punc> (VP (VBN dressed) (VP|<NP-PRT-PP> (NP (PRP me) ) (VP|<PRT-PP> (PRT (Adv up) ) (PP (Prep like) (NP (Det this) ))))) (Punc .))) ) )\n",
      "(TOP (S2 (S (INTJ (Det No) ) (S|<Pause-NP-VP-Punc> (Pause ,) (S|<NP-VP-Punc> (NP (PRP we) ) (S|<VP-Punc> (VP (VBD did) (VP|<Adv-Punc-INTJ> (Adv n't) (VP|<Punc-INTJ> (Punc ...) (INTJ (Det no) )))) (Punc .))))) ) )\n",
      "(TOP (S2 (S (CC And) (S|<S-Pause-S-Punc> (S (NP (Det this) ) (VP (VBP is) (VP|<Adv-NP> (Adv n't) (NP (Poss_pron my) (Adv nose))))) (S|<Pause-S-Punc> (Pause ,) (S|<S-Punc> (S (NP (PRP it) ) (VP (OTH 's) (NP (Det a) (NP|<Adj-PRP> (Adj false) (PRP one))))) (Punc .))))) ) )\n",
      "(TOP (S2 (INTJ (Adv Well) (Qmark ?)) ) )\n"
     ]
    },
    {
     "name": "stderr",
     "output_type": "stream",
     "text": [
      "#parsing: ['They', 'dressed', 'me', 'up', 'like', 'this', '.']\n",
      "#parsing: ['No', ',', 'we', 'did', \"n't\", '...', 'no', '.']\n",
      "#parsing: ['And', 'this', 'is', \"n't\", 'my', 'nose', ',', 'it', \"'s\", 'a', 'false', 'one', '.']\n",
      "#parsing: ['Well', '?']\n",
      "#parsing: ['Well', ',', 'we', 'did', 'do', 'the', 'nose', '.']\n"
     ]
    },
    {
     "name": "stdout",
     "output_type": "stream",
     "text": [
      "(TOP (S2 (S (INTJ (Adv Well) ) (S|<Pause-NP-VP-Punc> (Pause ,) (S|<NP-VP-Punc> (NP (PRP we) ) (S|<VP-Punc> (VP (VBD did) (VP (VB do) (NP (Det the) (Adv nose)))) (Punc .))))) ) )\n",
      "(TOP (S1 (NP (Det The) (NP|<Adv-Qmark> (Adv nose) (Qmark ?))) ) )\n",
      "(TOP (S2 (S (CC And) (S|<NP-Pause-CC-S-Punc> (NP (Det the) (Noun hat)) (S|<Pause-CC-S-Punc> (Pause --) (S|<CC-S-Punc> (CC but) (S|<S-Punc> (S (NP (PRP she) ) (VP (VBP is) (NP (Det a) (Noun witch)))) (Punc !)))))) ) )\n",
      "(TOP (S2 (S (VP (Noun Burn) (NP (PRP her) )) (Punc !)) ) )\n",
      "(TOP (S1 (NP (Noun Witch) (Punc !)) ) )\n",
      "(TOP (S2 (S (VP (Noun Burn) (NP (PRP her) )) (Punc !)) ) )\n",
      "(TOP (S2 (SQ (Noun Did) (SQ|<NP-VP-Qmark> (NP (PRP you) ) (SQ|<VP-Qmark> (VP (Noun dress) (VP|<NP-ADVP> (NP (PRP her) ) (ADVP (Adv up) (ADVP|<Prep-Det> (Prep like) (Det this))))) (Qmark ?)))) ) )\n",
      "(TOP (S2 (FRAG (INTJ (Det No) ) (FRAG|<Pause-INTJ-Punc> (Pause ,) (FRAG|<INTJ-Punc> (INTJ (Det no) ) (Punc ...)))) ) )\n",
      "(TOP (S2 (INTJ (INTJ (Det no) ) (INTJ|<Punc-INTJ-Punc> (Punc ...) (INTJ|<INTJ-Punc> (INTJ (Nouns yes) ) (Punc .)))) ) )\n",
      "(TOP (S2 (FRAG (INTJ (UH Yes) ) (FRAG|<Pause-INTJ-Pause-NP-Punc> (Pause ,) (FRAG|<INTJ-Pause-NP-Punc> (INTJ (Nouns yes) ) (FRAG|<Pause-NP-Punc> (Pause ,) (FRAG|<NP-Punc> (NP (NP (Det a) (Noun bit)) (NP|<Pause-NP> (Pause ,) (NP (Det a) (Noun bit)))) (Punc .)))))) ) )\n"
     ]
    },
    {
     "name": "stderr",
     "output_type": "stream",
     "text": [
      "#parsing: ['The', 'nose', '?']\n",
      "#parsing: ['And', 'the', 'hat', '--', 'but', 'she', 'is', 'a', 'witch', '!']\n",
      "#parsing: ['Burn', 'her', '!']\n",
      "#parsing: ['Witch', '!']\n",
      "#parsing: ['Burn', 'her', '!']\n",
      "#parsing: ['Did', 'you', 'dress', 'her', 'up', 'like', 'this', '?']\n",
      "#parsing: ['No', ',', 'no', '...']\n",
      "#parsing: ['no', '...', 'yes', '.']\n",
      "#parsing: ['Yes', ',', 'yes', ',', 'a', 'bit', ',', 'a', 'bit', '.']\n",
      "#parsing: ['She', 'has', 'got', 'a', 'wart', '.']\n"
     ]
    },
    {
     "name": "stdout",
     "output_type": "stream",
     "text": [
      "(TOP (S2 (S (NP (PRP She) ) (S|<VP-Punc> (VP (VerbT has) (VP (VBD got) (NP (Det a) (Noun wart)))) (Punc .))) ) )\n",
      "(TOP (S2 (SBARQ (WHNP (Qword What) ) (SBARQ|<SQ-Qmark> (SQ (VP (VerbT makes) (S (NP (PRP you) ) (VP (Noun think) (S (NP (PRP she) ) (VP (VBP is) (NP (Det a) (Noun witch))))))) ) (Qmark ?))) ) )\n",
      "(TOP (S2 (S (INTJ (Adv Well) ) (S|<Pause-NP-VP-Punc> (Pause ,) (S|<NP-VP-Punc> (NP (PRP she) ) (S|<VP-Punc> (VP (VBD turned) (VP|<NP-PP> (NP (PRP me) ) (PP (Prep into) (NP (Det a) (Noun newt))))) (Punc .))))) ) )\n",
      "(TOP (S1 (NP (Det A) (NP|<Noun-Qmark> (Noun newt) (Qmark ?))) ) )\n",
      "(TOP (S2 (S (NP (PRP I) ) (S|<VP-Punc> (VP (VBD got) (ADJP (RBR better) )) (Punc .))) ) )\n",
      "(TOP (S2 (S (VP (Noun Burn) (VP|<NP-ADVP> (NP (PRP her) ) (ADVP (Adv anyway) ))) (Punc !)) ) )\n",
      "(TOP (S1 (NP (Noun Burn) (Punc !)) ) )\n",
      "(TOP (S2 (S (VP (Noun Burn) (NP (PRP her) )) (Punc !)) ) )\n",
      "(TOP (S2 (ADJP (Adj Quiet) (ADJP|<Pause-Adj-Punc> (Pause ,) (ADJP|<Adj-Punc> (Adj quiet) (Punc .)))) ) )\n",
      "(TOP (S2 (ADJP (Adj Quiet) (Punc !)) ) )\n"
     ]
    },
    {
     "name": "stderr",
     "output_type": "stream",
     "text": [
      "#parsing: ['What', 'makes', 'you', 'think', 'she', 'is', 'a', 'witch', '?']\n",
      "#parsing: ['Well', ',', 'she', 'turned', 'me', 'into', 'a', 'newt', '.']\n",
      "#parsing: ['A', 'newt', '?']\n",
      "#parsing: ['I', 'got', 'better', '.']\n",
      "#parsing: ['Burn', 'her', 'anyway', '!']\n",
      "#parsing: ['Burn', '!']\n",
      "#parsing: ['Burn', 'her', '!']\n",
      "#parsing: ['Quiet', ',', 'quiet', '.']\n",
      "#parsing: ['Quiet', '!']\n",
      "#parsing: ['There', 'are', 'ways', 'of', 'telling', 'whether', 'she', 'is', 'a', 'witch', '.']\n"
     ]
    },
    {
     "name": "stdout",
     "output_type": "stream",
     "text": [
      "(TOP (S2 (S (Adv There) (S|<VP-Punc> (VP (VBP are) (SBAR (S (NP (NP (NP (Nouns ways) ) (PP (Prep of) (NP (VBG telling) ))) (PP (Prep whether) (NP (PRP she) ))) (VP (VBP is) (NP (Det a) (Noun witch)))) )) (Punc .))) ) )\n",
      "(TOP (S2 (SQ (VBP Are) (SQ|<ADVP-Qmark> (ADVP (Adv there) ) (Qmark ?))) ) )\n",
      "(TOP (S2 (SBARQ (WHNP (Qword What) ) (SBARQ|<SQ-Qmark> (SQ (VBP are) (NP (PRP they) )) (Qmark ?))) ) )\n",
      "(TOP (S2 (S (VP (VB Tell) (VP|<NP-Pause-WHNP-SQ> (NP (PRP me) ) (VP|<Pause-WHNP-SQ> (Pause ,) (VP|<WHNP-SQ> (WHNP (Wh_pro what) ) (SQ (VB do) (SQ|<NP-VP> (NP (PRP you) ) (VP (VB do) (PP (Prep with) (NP (Nouns witches) ))))))))) (Qmark ?)) ) )\n",
      "(TOP (S1 (NP (Noun Burn) (Punc !)) ) )\n",
      "(TOP (S2 (S (INTJ (Noun Burn) ) (S|<Pause-VP-Punc> (Pause ,) (S|<VP-Punc> (VP (Noun burn) (VP|<NP-ADVP> (NP (PRP them) ) (ADVP (Adv up) ))) (Punc !)))) ) )\n",
      "(TOP (S2 (SBARQ (CC And) (SBARQ|<WHNP-SQ-Qmark> (WHNP (Wh_pro what) ) (SBARQ|<SQ-Qmark> (SQ (VB do) (SQ|<NP-VP> (NP (PRP you) ) (VP (Noun burn) (VP|<ADVP-PP> (ADVP (Adv apart) ) (PP (Prep from) (NP (Nouns witches) )))))) (Qmark ?)))) ) )\n",
      "(TOP (S1 (NP (RBR More) (NP|<Nouns-Punc> (Nouns witches) (Punc !))) ) )\n",
      "(TOP (S1 (NP (Noun Wood) (Punc !)) ) )\n",
      "(TOP (S2 (SBARQ (ADVP (_So So) ) (SBARQ|<Pause-WHADVP-SQ-Qmark> (Pause ,) (SBARQ|<WHADVP-SQ-Qmark> (WHADVP (Qword why) ) (SBARQ|<SQ-Qmark> (SQ (VB do) (SQ|<NP-VP> (NP (Nouns witches) ) (VP (Noun burn) ))) (Qmark ?))))) ) )\n",
      "(TOP (S1 (NP (Noun B) (NP|<Pause-Punc> (Pause --) (Punc ...))) ) )\n"
     ]
    },
    {
     "name": "stderr",
     "output_type": "stream",
     "text": [
      "#parsing: ['Are', 'there', '?']\n",
      "#parsing: ['What', 'are', 'they', '?']\n",
      "#parsing: ['Tell', 'me', ',', 'what', 'do', 'you', 'do', 'with', 'witches', '?']\n",
      "#parsing: ['Burn', '!']\n",
      "#parsing: ['Burn', ',', 'burn', 'them', 'up', '!']\n",
      "#parsing: ['And', 'what', 'do', 'you', 'burn', 'apart', 'from', 'witches', '?']\n",
      "#parsing: ['More', 'witches', '!']\n",
      "#parsing: ['Wood', '!']\n",
      "#parsing: ['So', ',', 'why', 'do', 'witches', 'burn', '?']\n",
      "#parsing: ['B', '--', '...']\n",
      "#parsing: [\"'\", 'cause', 'they', \"'re\", 'made', 'of', 'wood', '...', '?']\n"
     ]
    },
    {
     "name": "stdout",
     "output_type": "stream",
     "text": [
      "(TOP (S2 (SQ (OTH ') (SQ|<ADVP-NP-VP-Punc-Qmark> (ADVP (Noun cause) ) (SQ|<NP-VP-Punc-Qmark> (NP (PRP they) ) (SQ|<VP-Punc-Qmark> (VP (OTH 're) (VP (VBN made) (PP (Prep of) (NP (Noun wood) )))) (SQ|<Punc-Qmark> (Punc ...) (Qmark ?)))))) ) )\n",
      "(TOP (S2 (ADJP (Adj Good) (Punc !)) ) )\n",
      "(TOP (S2 (FRAG (INTJ (UH Oh) (Noun yeah)) (FRAG|<Pause-INTJ-Punc> (Pause ,) (FRAG|<INTJ-Punc> (INTJ (Noun yeah) ) (Punc ...)))) ) )\n",
      "(TOP (S2 (SBARQ (ADVP (_So So) ) (SBARQ|<Pause-WHADVP-SQ-Qmark> (Pause ,) (SBARQ|<WHADVP-SQ-Qmark> (WHADVP (Qword how) ) (SBARQ|<SQ-Qmark> (SQ (VB do) (SQ|<NP-VP> (NP (PRP we) ) (VP (Noun tell) (SBAR (Prep whether) (S (NP (PRP she) ) (VP (VBP is) (VP (VBN made) (PP (Prep of) (NP (Noun wood) ))))))))) (Qmark ?))))) ) )\n",
      "(TOP (S2 (S (VP (VB Build) (VP|<NP-PP> (NP (Det a) (Noun bridge)) (PP (Prep out) (PP (Prep of) (NP (PRP her) ))))) (Punc .)) ) )\n"
     ]
    },
    {
     "name": "stderr",
     "output_type": "stream",
     "text": [
      "#parsing: ['Good', '!']\n",
      "#parsing: ['Oh', 'yeah', ',', 'yeah', '...']\n",
      "#parsing: ['So', ',', 'how', 'do', 'we', 'tell', 'whether', 'she', 'is', 'made', 'of', 'wood', '?']\n",
      "#parsing: ['Build', 'a', 'bridge', 'out', 'of', 'her', '.']\n",
      "#parsing: ['Aah', ',', 'but', 'can', 'you', 'not', 'also', 'build', 'bridges', 'out', 'of', 'stone', '?']\n"
     ]
    },
    {
     "name": "stdout",
     "output_type": "stream",
     "text": [
      "(TOP (S2 (SQ (INTJ (OTH Aah) ) (SQ|<Pause-CC-MD-NP-ADV-ADVP-VP-Qmark> (Pause ,) (SQ|<CC-MD-NP-ADV-ADVP-VP-Qmark> (CC but) (SQ|<MD-NP-ADV-ADVP-VP-Qmark> (MD can) (SQ|<NP-ADV-ADVP-VP-Qmark> (NP (PRP you) ) (SQ|<ADV-ADVP-VP-Qmark> (ADV not) (SQ|<ADVP-VP-Qmark> (ADVP (Adv also) ) (SQ|<VP-Qmark> (VP (Noun build) (VP|<NP-PRT-PP> (NP (Nouns bridges) ) (VP|<PRT-PP> (PRT (Prep out) ) (PP (Prep of) (NP (Noun stone) ))))) (Qmark ?))))))))) ) )\n",
      "(TOP (S2 (FRAG (INTJ (UH Oh) ) (FRAG|<Pause-INTJ-Punc> (Pause ,) (FRAG|<INTJ-Punc> (INTJ (Noun yeah) ) (Punc .)))) ) )\n",
      "(TOP (S2 (SQ (Nouns Does) (SQ|<NP-VP-Qmark> (NP (Noun wood) ) (SQ|<VP-Qmark> (VP (Noun sink) (PP (Prep in) (NP (Noun water) ))) (Qmark ?)))) ) )\n",
      "(TOP (S2 (FRAG (INTJ (Det No) ) (FRAG|<Pause-INTJ-Punc> (Pause ,) (FRAG|<INTJ-Punc> (INTJ (Det no) ) (Punc .)))) ) )\n",
      "(TOP (S2 (S (NP (PRP It) ) (S|<VP-Punc> (VP (Nouns floats) ) (Punc !))) ) )\n",
      "(TOP (S2 (S (VP (VB Throw) (VP|<NP-PP> (NP (PRP her) ) (PP (Prep into) (NP (Det the) (Noun pond))))) (Punc !)) ) )\n",
      "(TOP (S1 (NP (Det The) (NP|<Noun-Punc> (Noun pond) (Punc !))) ) )\n",
      "(TOP (S2 (SBARQ (WHNP (Qword What) ) (SBARQ|<ADVP-VP-Qmark> (ADVP (Adv also) ) (SBARQ|<VP-Qmark> (VP (Nouns floats) (PP (Prep in) (NP (Noun water) ))) (Qmark ?)))) ) )\n",
      "(TOP (S1 (NP (Noun Bread) (Punc !)) ) )\n",
      "(TOP (S1 (NP (Nouns Apples) (Punc !)) ) )\n",
      "(TOP (S1 (NP (ADJP (Adv Very) (Adj small)) (NP|<Nouns-Punc> (Nouns rocks) (Punc !))) ) )\n",
      "(TOP (S1 (NP (Noun Cider) (Punc !)) ) )\n",
      "(TOP (S1 (NP (Noun Great) (NP|<Noun-Punc> (Noun gravy) (Punc !))) ) )\n",
      "(TOP (S1 (NP (Nouns Cherries) (Punc !)) ) )\n",
      "(TOP (S1 (NP (Noun Mud) (Punc !)) ) )\n",
      "(TOP (S2 (FRAG (INTJ (Nouns Churches) ) (FRAG|<Pause-INTJ-Punc> (Pause --) (FRAG|<INTJ-Punc> (INTJ (Nouns churches) ) (Punc !)))) ) )\n",
      "(TOP (S2 (FRAG (INTJ (Noun Lead) ) (FRAG|<Pause-INTJ-Punc> (Pause --) (FRAG|<INTJ-Punc> (INTJ (Noun lead) ) (Punc !)))) ) )\n",
      "(TOP (S1 (NP (Det A) (NP|<Noun-Punc> (Noun duck) (Punc .))) ) )\n",
      "(TOP (S1 (NP (Noun Oooh) (Punc .)) ) )\n",
      "(TOP (S2 (INTJ (Adv Exactly) (Punc !)) ) )\n",
      "(TOP (S2 (FRAG (ADVP (_So So) ) (FRAG|<Pause-ADVP-Punc-Pause> (Pause ,) (FRAG|<ADVP-Punc-Pause> (ADVP (Adv logically) ) (FRAG|<Punc-Pause> (Punc ...) (Pause ,))))) ) )\n",
      "(TOP (S2 (X (Prep If) (Punc ...)) ) )\n",
      "(TOP (S1 (NP (Noun she.) (Punc .)) ) )\n"
     ]
    },
    {
     "name": "stderr",
     "output_type": "stream",
     "text": [
      "#parsing: ['Oh', ',', 'yeah', '.']\n",
      "#parsing: ['Does', 'wood', 'sink', 'in', 'water', '?']\n",
      "#parsing: ['No', ',', 'no', '.']\n",
      "#parsing: ['It', 'floats', '!']\n",
      "#parsing: ['Throw', 'her', 'into', 'the', 'pond', '!']\n",
      "#parsing: ['The', 'pond', '!']\n",
      "#parsing: ['What', 'also', 'floats', 'in', 'water', '?']\n",
      "#parsing: ['Bread', '!']\n",
      "#parsing: ['Apples', '!']\n",
      "#parsing: ['Very', 'small', 'rocks', '!']\n",
      "#parsing: ['Cider', '!']\n",
      "#parsing: ['Great', 'gravy', '!']\n",
      "#parsing: ['Cherries', '!']\n",
      "#parsing: ['Mud', '!']\n",
      "#parsing: ['Churches', '--', 'churches', '!']\n",
      "#parsing: ['Lead', '--', 'lead', '!']\n",
      "#parsing: ['A', 'duck', '.']\n",
      "#parsing: ['Oooh', '.']\n",
      "#parsing: ['Exactly', '!']\n",
      "#parsing: ['So', ',', 'logically', '...', ',']\n",
      "#parsing: ['If', '...']\n",
      "#parsing: ['she.', '.']\n",
      "#parsing: ['weighs', 'the', 'same', 'as', 'a', 'duck', ',', 'she', \"'s\", 'made', 'of', 'wood', '.']\n"
     ]
    },
    {
     "name": "stdout",
     "output_type": "stream",
     "text": [
      "(TOP (S1 (VP (Nouns weighs) (NP (NP (NP (Det the) (Adj same)) (PP (Prep as) (NP (Det a) (Noun duck)))) (NP|<Pause-NP> (Pause ,) (NP (PRP she) )))) (_VP (VP (OTH 's) (VP (VBN made) (PP (Prep of) (NP (Noun wood) )))) (Punc .))) )\n",
      "(TOP (S2 (FRAG (CC And) (FRAG|<ADVP-Pause-Qmark> (ADVP (Adv therefore) ) (FRAG|<Pause-Qmark> (Pause --) (Qmark ?)))) ) )\n",
      "(TOP (S1 (NP (Det A) (NP|<Noun-Punc> (Noun witch) (Punc !))) ) )\n",
      "(TOP (S2 (S (NP (PRP We) ) (S|<VP-Punc> (VP (MD shall) (VP (Noun use) (NP (Poss_pron my) (NP|<Adjc-Nouns> (Adjc larger) (Nouns scales))))) (Punc !))) ) )\n",
      "(TOP (S2 (S (INTJ (Adv Right) ) (S|<Pause-VP-Punc> (Pause ,) (S|<VP-Punc> (VP (VB remove) (NP (Det the) (Nouns supports))) (Punc !)))) ) )\n",
      "(TOP (S1 (NP (Det A) (NP|<Noun-Punc> (Noun witch) (Punc !))) ) )\n",
      "(TOP (S2 (S (NP (PRP It) ) (S|<VP-Punc> (VP (OTH 's) (NP (Det a) (NP|<Noun-Noun> (Noun fair) (Noun cop)))) (Punc .))) ) )\n",
      "(TOP (S2 (S (VP (Noun Burn) (NP (PRP her) )) (Punc !)) ) )\n",
      "(TOP (S1 (NP (Noun Burn) (Punc !)) ) )\n"
     ]
    },
    {
     "name": "stderr",
     "output_type": "stream",
     "text": [
      "#parsing: ['And', 'therefore', '--', '?']\n",
      "#parsing: ['A', 'witch', '!']\n",
      "#parsing: ['We', 'shall', 'use', 'my', 'larger', 'scales', '!']\n",
      "#parsing: ['Right', ',', 'remove', 'the', 'supports', '!']\n",
      "#parsing: ['A', 'witch', '!']\n",
      "#parsing: ['It', \"'s\", 'a', 'fair', 'cop', '.']\n",
      "#parsing: ['Burn', 'her', '!']\n",
      "#parsing: ['Burn', '!']\n",
      "#parsing: ['Who', 'are', 'you', 'who', 'are', 'so', 'wise', 'in', 'the', 'ways', 'of', 'science', '?']\n"
     ]
    },
    {
     "name": "stdout",
     "output_type": "stream",
     "text": [
      "(TOP (S2 (SBARQ (WHNP (Wh_pro Who) ) (SBARQ|<SQ-Qmark> (SQ (VBP are) (SQ|<NP-SBAR> (NP (PRP you) ) (SBAR (WHNP (Wh_pro who) ) (S (VP (VBP are) (VP|<ADJP-PP> (ADJP (CONJ so) (Noun wise)) (PP (Prep in) (NP (NP (Det the) (Nouns ways)) (PP (Prep of) (NP (Noun science) )))))) )))) (Qmark ?))) ) )\n",
      "(TOP (S2 (S (S (NP (PRP I) ) (VP (VBP am) (NP (Proper Arthur) ))) (S|<Pause-S-Punc> (Pause ,) (S|<S-Punc> (S (VP (VBG King) (PP (Prep of) (NP (Det the) (NNPS Britons)))) ) (Punc .)))) ) )\n",
      "(TOP (S1 (NP (Poss_pron My) (NP|<Noun-Punc> (Noun liege) (Punc !))) ) )\n"
     ]
    },
    {
     "name": "stderr",
     "output_type": "stream",
     "text": [
      "#parsing: ['I', 'am', 'Arthur', ',', 'King', 'of', 'the', 'Britons', '.']\n",
      "#parsing: ['My', 'liege', '!']\n",
      "#parsing: ['Good', 'Sir', 'knight', ',', 'will', 'you', 'come', 'with', 'me', 'to', 'Camelot', ',', 'and', 'join', 'us', 'at', 'the', 'Round', 'Table', '?']\n"
     ]
    },
    {
     "name": "stdout",
     "output_type": "stream",
     "text": [
      "(TOP (S2 (SQ (NP (Adj Good) (NP|<Proper-Noun> (Proper Sir) (Noun knight))) (SQ|<Pause-MD-NP-VP-Qmark> (Pause ,) (SQ|<MD-NP-VP-Qmark> (MD will) (SQ|<NP-VP-Qmark> (NP (PRP you) ) (SQ|<VP-Qmark> (VP (VP (VB come) (VP|<PP-PP> (PP (Prep with) (NP (PRP me) )) (PP (TO to) (NP (NNP Camelot) )))) (VP|<Pause-CC-VP> (Pause ,) (VP|<CC-VP> (CC and) (VP (Noun join) (VP|<NP-PP> (NP (PRP us) ) (PP (Prep at) (NP (Det the) (NP|<Noun-Noun> (Noun Round) (Noun Table))))))))) (Qmark ?)))))) ) )\n",
      "(TOP (S1 (NP (Poss_pron My) (NP|<Noun-Punc> (Noun liege) (Punc !))) ) )\n",
      "(TOP (S2 (S (NP (PRP I) ) (S|<VP-Punc> (VP (MD would) (VP (VB be) (VP (VBN honored) ))) (Punc .))) ) )\n",
      "(TOP (S2 (SBARQ (WHNP (Qword What) ) (SBARQ|<SQ-Qmark> (SQ (VBP is) (NP (Poss_pron your) (Noun name))) (Qmark ?))) ) )\n",
      "(TOP (S2 (FRAG (INTJ (Noun Bedemir) ) (FRAG|<Pause-NP-Punc> (Pause ,) (FRAG|<NP-Punc> (NP (Poss_pron my) (Noun leige)) (Punc .)))) ) )\n"
     ]
    },
    {
     "name": "stderr",
     "output_type": "stream",
     "text": [
      "#parsing: ['My', 'liege', '!']\n",
      "#parsing: ['I', 'would', 'be', 'honored', '.']\n",
      "#parsing: ['What', 'is', 'your', 'name', '?']\n",
      "#parsing: ['Bedemir', ',', 'my', 'leige', '.']\n",
      "#parsing: ['Then', 'I', 'dub', 'you', 'Sir', 'Bedemir', ',', 'Knight', 'of', 'the', 'Round', 'Table', '.']\n"
     ]
    },
    {
     "name": "stdout",
     "output_type": "stream",
     "text": [
      "(TOP (S2 (S (ADVP (Adv Then) ) (S|<NP-VP-Punc> (NP (PRP I) ) (S|<VP-Punc> (VP (Noun dub) (VP|<NP-NP> (NP (PRP you) ) (NP (NP (NP (Proper Sir) (Noun Bedemir)) (NP|<Pause-NP> (Pause ,) (NP (Proper Knight) ))) (PP (Prep of) (NP (Det the) (NP|<Noun-Noun> (Noun Round) (Noun Table))))))) (Punc .)))) ) )\n"
     ]
    },
    {
     "name": "stderr",
     "output_type": "stream",
     "text": [
      "#parsing: ['The', 'wise', 'Sir', 'Bedemir', 'was', 'the', 'first', 'to', 'join', 'King', 'Arthur', \"'s\", 'knights', ',', 'but', 'other', 'illustrious', 'names', 'were', 'soon', 'to', 'follow', ':', 'Sir', 'Launcelot', 'the', 'Brave', ';', 'Sir', 'Galahad', 'the', 'Pure', ';', 'and', 'Sir', 'Robin', 'the', 'Not', '-', 'quite', '-', 'so', '-', 'brave', '-', 'as', '-', 'Sir', '-', 'Launcelot', 'who', 'had', 'nearly', 'fought', 'the', 'Dragon', 'of', 'Agnor', ',', 'who', 'had', 'nearly', 'stood', 'up', 'to', 'the', 'vicious', 'Chicken', 'of', 'Bristol', 'and', 'who', 'had', 'personally', 'wet', 'himself', 'at', 'the', 'Battle', 'of', 'Badon', 'Hill', ';', 'and', 'the', 'aptly', 'named', 'Sir', 'Not', '-', 'appearing', '-', 'in', '-', 'this', '-', 'film', '.']\n"
     ]
    },
    {
     "name": "stdout",
     "output_type": "stream",
     "text": [
      "(TOP (S1 (NP (Det The) (NP|<Noun-Proper-Noun> (Noun wise) (NP|<Proper-Noun> (Proper Sir) (Noun Bedemir)))) (VP (VBD was) (S (S (NP (Det the) (Adv first)) (VP (TO to) (VP (Noun join) (VP|<NP-NP> (NP (VBG King) (NP|<Proper-OTH> (Proper Arthur) (OTH 's))) (NP (Nouns knights) ))))) (S|<Pause-CC-S-Punc> (Pause ,) (S|<CC-S-Punc> (CC but) (S|<S-Punc> (S (NP (Adj other) (NP|<Adj-Nouns> (Adj illustrious) (Nouns names))) (VP (VBD were) (VP|<ADVP-TO-VP> (ADVP (Adv soon) ) (VP|<TO-VP> (TO to) (VP (VB follow) (VP|<Pause-NP> (Pause :) (NP (NP (Proper Sir) (NP|<Noun-Det-VB> (Noun Launcelot) (NP|<Det-VB> (Det the) (VB Brave)))) (NP|<Pause-NP-Pause-CC-NP> (Pause ;) (NP|<NP-Pause-CC-NP> (NP (NP (Proper Sir) (Proper Galahad)) (NP (Det the) (Noun Pure))) (NP|<Pause-CC-NP> (Pause ;) (NP|<CC-NP> (CC and) (NP (NP (NP (Proper Sir) (Noun Robin)) (NP|<Det-Adv> (Det the) (Adv Not))) (NP|<PRN-Noun-SBAR> (PRN (OTH -) (PRN|<Adv-OTH-CONJ-PRN> (Adv quite) (PRN|<OTH-CONJ-PRN> (OTH -) (PRN|<CONJ-PRN> (CONJ so) (PRN (PRN (OTH -) (PRN|<ADJP-OTH> (ADJP (Noun brave) ) (OTH -))) (PRN|<Prep-PRN> (Prep as) (PRN (OTH -) (PRN|<Proper-OTH> (Proper Sir) (OTH -))))))))) (NP|<Noun-SBAR> (Noun Launcelot) (SBAR (SBAR (SBAR (WHNP (Wh_pro who) ) (S (VP (VBD had) (VP|<Adv-VP> (Adv nearly) (VP (Noun fought) (VP|<NP-PP> (NP (Det the) (Noun Dragon)) (PP (Prep of) (NP (Noun Agnor) )))))) )) (SBAR|<Pause-SBAR> (Pause ,) (SBAR (SBAR (WHNP (Wh_pro who) ) (S (VP (VBD had) (VP|<Adv-VP> (Adv nearly) (VP (Noun stood) (VP|<ADVP-PP> (ADVP (Adv up) ) (PP (TO to) (NP (NP (Det the) (NP|<Adj-Noun> (Adj vicious) (Noun Chicken))) (PP (Prep of) (NP (Proper Bristol) )))))))) )) (SBAR|<CC-SBAR> (CC and) (SBAR (WHNP (Wh_pro who) ) (S (VP (VBD had) (VP|<Adv-VP> (Adv personally) (VP (Noun wet) (VP|<NP-PP> (NP (NP (PRP himself) ) (PP (Prep at) (NP (Det the) (Proper Battle)))) (PP (Prep of) (NP (Noun Badon) (Noun Hill))))))) )))))) (SBAR|<Pause-CC-NP> (Pause ;) (SBAR|<CC-NP> (CC and) (NP (Det the) (NP|<ADVP-VBN-S> (ADVP (Adv aptly) ) (NP|<VBN-S> (VBN named) (S (NP (Proper Sir) (NP|<Adv-OTH-S> (Adv Not) (NP|<OTH-S> (OTH -) (S (VP (VBG appearing) (VP|<OTH-PP> (OTH -) (PP (Prep in) (PP|<OTH-NP> (OTH -) (NP (Det this) ))))) )))) (VP (OTH -) (NP (Noun film) ))))))))))))))))))))))) (Punc .))))))) )\n"
     ]
    },
    {
     "name": "stderr",
     "output_type": "stream",
     "text": [
      "#parsing: ['Together', 'they', 'formed', 'a', 'band', 'whose', 'names', 'and', 'deeds', 'were', 'to', 'be', 'retold', 'throughout', 'the', 'centuries', ',', 'the', 'Knights', 'of', 'the', 'Round', 'Table', '.']\n"
     ]
    },
    {
     "name": "stdout",
     "output_type": "stream",
     "text": [
      "(TOP (S2 (S (ADVP (Adv Together) ) (S|<NP-VP-Punc> (NP (PRP they) ) (S|<VP-Punc> (VP (VBN formed) (VP|<NP-PP> (NP (NP (Det a) (Noun band)) (SBAR (SBAR (WHNP (Wh_prop whose) (WHNP|<Nouns-CC-Nouns> (Nouns names) (WHNP|<CC-Nouns> (CC and) (Nouns deeds)))) (S (VP (VBD were) (VP (TO to) (VP (VB be) (VP|<NP-PP> (NP (Noun retold) ) (PP (Prep throughout) (NP (Det the) (Nouns centuries))))))) )) (SBAR|<Pause-NP> (Pause ,) (NP (Det the) (Nouns Knights))))) (PP (Prep of) (NP (Det the) (NP|<Noun-Noun> (Noun Round) (Noun Table)))))) (Punc .)))) ) )\n"
     ]
    },
    {
     "name": "stderr",
     "output_type": "stream",
     "text": [
      "#parsing: ['And', 'that', ',', 'my', 'liege', ',', 'is', 'how', 'we', 'know', 'the', 'Earth', 'to', 'be', 'banana', '-', 'shaped', '.']\n"
     ]
    },
    {
     "name": "stdout",
     "output_type": "stream",
     "text": [
      "(TOP (S2 (S (CC And) (S|<NP-Pause-NP-Pause-VP-Punc> (NP (Det that) ) (S|<Pause-NP-Pause-VP-Punc> (Pause ,) (S|<NP-Pause-VP-Punc> (NP (Poss_pron my) (Noun liege)) (S|<Pause-VP-Punc> (Pause ,) (S|<VP-Punc> (VP (VBP is) (SBAR (WHNP (Qword how) ) (S (NP (PRP we) ) (VP (VB know) (S (NP (Det the) (Noun Earth)) (VP (TO to) (VP (VB be) (S (NP (Noun banana) ) (VP (OTH -) (VP (VBD shaped) )))))))))) (Punc .))))))) ) )\n",
      "(TOP (S2 (S (NP (Det This) (NP|<Adj-VBG> (Adj new) (VBG learning))) (S|<VP-Punc> (VP (Nouns amazes) (NP (NP (PRP me) ) (NP|<Pause-NP> (Pause ,) (NP (Proper Sir) (Noun Bedemir))))) (Punc .))) ) )\n",
      "(TOP (S1 (VP (Noun Explain) (VP|<ADVP-SBAR> (ADVP (ADV again) ) (SBAR (WHNP (Qword how) ) (S (NP (Noun sheeps') (Nouns bladders)) (S|<VP-Punc> (VP (MD may) (VP (VB be) (VP (VBN employed) (PP (TO to) (NP (Noun prevent) (Nouns earthquakes)))))) (Punc .)))))) ) )\n",
      "(TOP (S2 (FRAG (INTJ (UH Oh) ) (FRAG|<Pause-ADVP-Pause-INTJ-Punc> (Pause ,) (FRAG|<ADVP-Pause-INTJ-Punc> (ADVP (Adv certainly) ) (FRAG|<Pause-INTJ-Punc> (Pause ,) (FRAG|<INTJ-Punc> (INTJ (Noun sir) ) (Punc .)))))) ) )\n",
      "(TOP (S2 (S (VP (VB Look) (VP|<Pause-NP> (Pause ,) (NP (Poss_pron my) (Noun liege)))) (Punc !)) ) )\n",
      "(TOP (S1 (NP (NNP Camelot) (Punc !)) ) )\n",
      "(TOP (S2 (S (NP (PRP It) ) (S|<VP-Punc> (VP (OTH 's) (VP|<ADVP-NP> (ADVP (Adv only) ) (NP (Det a) (Noun model)))) (Punc .))) ) )\n",
      "(TOP (S1 (NP (Noun Shhh) (Punc !)) ) )\n"
     ]
    },
    {
     "name": "stderr",
     "output_type": "stream",
     "text": [
      "#parsing: ['This', 'new', 'learning', 'amazes', 'me', ',', 'Sir', 'Bedemir', '.']\n",
      "#parsing: ['Explain', 'again', 'how', \"sheeps'\", 'bladders', 'may', 'be', 'employed', 'to', 'prevent', 'earthquakes', '.']\n",
      "#parsing: ['Oh', ',', 'certainly', ',', 'sir', '.']\n",
      "#parsing: ['Look', ',', 'my', 'liege', '!']\n",
      "#parsing: ['Camelot', '!']\n",
      "#parsing: ['It', \"'s\", 'only', 'a', 'model', '.']\n",
      "#parsing: ['Shhh', '!']\n",
      "#parsing: ['Knights', ',', 'I', 'bid', 'you', 'welcome', 'to', 'your', 'new', 'home', '.']\n"
     ]
    },
    {
     "name": "stdout",
     "output_type": "stream",
     "text": [
      "(TOP (S2 (S (INTJ (Nouns Knights) ) (S|<Pause-NP-VP-Punc> (Pause ,) (S|<NP-VP-Punc> (NP (PRP I) ) (S|<VP-Punc> (VP (Noun bid) (VP|<NP-ADJP-PP> (NP (PRP you) ) (VP|<ADJP-PP> (ADJP (Noun welcome) ) (PP (TO to) (NP (Poss_pron your) (NP|<Adj-Noun> (Adj new) (Noun home))))))) (Punc .))))) ) )\n",
      "(TOP (S1 (VP (VB Let) (NP (PRP us) )) (_VP (VP (VBP ride) ) (Punc ...))) )\n",
      "(TOP (S1 (PP (TO to) (NP (NNP Camelot) (Punc .))) ) )\n",
      "(TOP (S1 (NP (Noun We're) ) (VP (Nouns knights) (PP (Prep of) (NP (Det the) (NP|<Noun-Noun> (Noun round) (Noun table)))))) )\n",
      "(TOP (S1 (NP (PRP We) ) (VP (Noun dance) (SBAR (WHNP (Wh_pro when) ) (S (NP (Noun e'er) ) (VP (Noun we're) (ADJP (Adj able) )))))) )\n",
      "(TOP (S1 (NP (PRP We) ) (VP (VP (VB do) (NP (Nouns routines) )) (VP|<CC-VP> (CC and) (VP (Noun parlour) (NP (Nouns scenes) ))))) )\n",
      "(TOP (S1 (PP (Prep With) (NP (NP (Noun footwork) ) (NP|<ADJP-Punc> (ADJP (ADJP (Noun impecc) ) (ADJP|<OTH-ADJP> (OTH -) (ADJP (Adj Able) ))) (Punc .)))) ) )\n",
      "(TOP (S1 (NP (PRP We) ) (VP (Noun dine) (VP|<ADVP-ADVP-PP> (ADVP (Adv well) ) (VP|<ADVP-PP> (ADVP (Adv here) ) (PP (Prep in) (NP (NNP Camelot) )))))) )\n",
      "(TOP (S1 (NP (PRP We) ) (VP (VP (Noun eat) (NP (Noun ham) (NP|<CC-Noun> (CC and) (Noun jam)))) (VP|<CC-VP> (CC and) (VP (Noun spam) (NP (Det a) (Noun lot)))))) )\n",
      "(TOP (S1 (NP (Noun We're) ) (VP (Nouns knights) (PP (Prep of) (NP (Det the) (NP|<Noun-Noun> (Noun Round) (Noun Table)))))) )\n"
     ]
    },
    {
     "name": "stderr",
     "output_type": "stream",
     "text": [
      "#parsing: ['Let', 'us', 'ride', '...']\n",
      "#parsing: ['to', 'Camelot', '.']\n",
      "#parsing: [\"We're\", 'knights', 'of', 'the', 'round', 'table']\n",
      "#parsing: ['We', 'dance', 'when', \"e'er\", \"we're\", 'able']\n",
      "#parsing: ['We', 'do', 'routines', 'and', 'parlour', 'scenes']\n",
      "#parsing: ['With', 'footwork', 'impecc', '-', 'Able', '.']\n",
      "#parsing: ['We', 'dine', 'well', 'here', 'in', 'Camelot']\n",
      "#parsing: ['We', 'eat', 'ham', 'and', 'jam', 'and', 'spam', 'a', 'lot']\n",
      "#parsing: [\"We're\", 'knights', 'of', 'the', 'Round', 'Table']\n",
      "#parsing: ['Our', 'shows', 'are', 'for', '-', 'mid', '-', 'able']\n"
     ]
    },
    {
     "name": "stdout",
     "output_type": "stream",
     "text": [
      "(TOP (S1 (NP (Poss_pron Our) (Nouns shows)) (VP (VBP are) (PP (Prep for) (PP|<OTH-Noun-OTH-Adj> (OTH -) (PP|<Noun-OTH-Adj> (Noun mid) (PP|<OTH-Adj> (OTH -) (Adj able))))))) )\n",
      "(TOP (S1 (PP (Prep Though) (NP (NP (Adj many) (NP|<Nouns-Noun> (Nouns times) (Noun we're))) (VP (VBN given) (NP (Nouns rhymes) )))) ) )\n",
      "(TOP (S1 (NP (Det That) ) (VP (VBP are) (ADJP (ADJP (Adv quite) (VBG unsing)) (ADJP|<OTH-ADJP> (OTH -) (ADJP (Adj able) ))))) )\n",
      "(TOP (S2 (S (NP (PRP We) ) (S|<ADV-CONJ-Noun-PP> (ADV not) (S|<CONJ-Noun-PP> (CONJ so) (S|<Noun-PP> (Noun fat) (PP (Prep in) (NP (NNP Camelot) )))))) ) )\n",
      "(TOP (S1 (NP (PRP We) ) (VP (VBG sing) (VP|<PP-NP> (PP (Prep from) (NP (Det the) (Noun diaphragm))) (NP (Det a) (Noun lot))))) )\n",
      "(TOP (S2 (S (INTJ (UH Oh) ) (VP (Noun we're) (ADJP (Adj tough) (ADJP|<CC-Adj> (CC and) (Adj able))))) ) )\n",
      "(TOP (S2 (ADJP (Adv Quite) (Adj indefatigable)) ) )\n",
      "(TOP (S1 (VP (Noun Between) (VP|<NP-NP> (NP (Poss_pron our) (Nouns quests)) (NP (PRP we) ))) (_VP (VP (Noun sequin) (NP (Nouns vests) )) )) )\n",
      "(TOP (S2 (FRAG (CC And) (VP (Noun impersonate) (ADJP (Noun Clark) (Adj Gable)))) ) )\n",
      "(TOP (S1 (NP (PRP It) ) (VP (OTH 's) (VP|<ADJP-PP> (ADJP (NP (Det a) (Noun bit)) (ADJP|<Adv-Noun> (Adv too) (Noun loud))) (PP (Prep in) (NP (NNP Camelot) ))))) )\n"
     ]
    },
    {
     "name": "stderr",
     "output_type": "stream",
     "text": [
      "#parsing: ['Though', 'many', 'times', \"we're\", 'given', 'rhymes']\n",
      "#parsing: ['That', 'are', 'quite', 'unsing', '-', 'able']\n",
      "#parsing: ['We', 'not', 'so', 'fat', 'in', 'Camelot']\n",
      "#parsing: ['We', 'sing', 'from', 'the', 'diaphragm', 'a', 'lot']\n",
      "#parsing: ['Oh', \"we're\", 'tough', 'and', 'able']\n",
      "#parsing: ['Quite', 'indefatigable']\n",
      "#parsing: ['Between', 'our', 'quests', 'we', 'sequin', 'vests']\n",
      "#parsing: ['And', 'impersonate', 'Clark', 'Gable']\n",
      "#parsing: ['It', \"'s\", 'a', 'bit', 'too', 'loud', 'in', 'Camelot']\n",
      "#parsing: ['I', 'have', 'to', 'push', 'the', 'pram', 'a', 'lot', '.']\n"
     ]
    },
    {
     "name": "stdout",
     "output_type": "stream",
     "text": [
      "(TOP (S2 (S (NP (PRP I) ) (S|<VP-Punc> (VP (VB have) (VP (TO to) (VP (Noun push) (VP|<NP-NP> (NP (Det the) (Noun pram)) (NP (Det a) (Noun lot)))))) (Punc .))) ) )\n"
     ]
    },
    {
     "name": "stderr",
     "output_type": "stream",
     "text": [
      "#parsing: ['Well', ',', 'on', 'second', 'thought', ',', 'let', \"'s\", 'not', 'go', 'to', 'Camelot', '--', 'it', 'is', 'a', 'silly', 'place', '.']\n"
     ]
    },
    {
     "name": "stdout",
     "output_type": "stream",
     "text": [
      "(TOP (S2 (S (S (INTJ (Adv Well) ) (S|<Pause-PP-Pause-VP> (Pause ,) (S|<PP-Pause-VP> (PP (Prep on) (NP (Adj second) (Noun thought))) (S|<Pause-VP> (Pause ,) (VP (VB let) (VP (OTH 's) (VP|<ADVP-VP> (ADVP (ADV not) ) (VP (VB go) (PP (TO to) (NP (NNP Camelot) )))))))))) (S|<Pause-S-Punc> (Pause --) (S|<S-Punc> (S (NP (PRP it) ) (VP (VBP is) (NP (Det a) (NP|<Adv-Noun> (Adv silly) (Noun place))))) (Punc .)))) ) )\n",
      "(TOP (S2 (INTJ (Adv Right) (Punc .)) ) )\n",
      "(TOP (S1 (_Proper (Proper Arthur) (Punc !)) ) )\n",
      "(TOP (S1 (S1 (_Proper (Proper Arthur) (Pause ,)) ) (VP_Punc (VP (VBG King) (PP (Prep of) (NP (Det the) (NNPS Britons)))) (Punc !))) )\n",
      "(TOP (S2 (S (INTJ (UH Oh) ) (S|<Pause-VP-Punc> (Pause ,) (S|<VP-Punc> (VP (VB do) (VP|<Adv-VP> (Adv n't) (VP (Noun grovel) ))) (Punc !)))) ) )\n"
     ]
    },
    {
     "name": "stderr",
     "output_type": "stream",
     "text": [
      "#parsing: ['Right', '.']\n",
      "#parsing: ['Arthur', '!']\n",
      "#parsing: ['Arthur', ',', 'King', 'of', 'the', 'Britons', '!']\n",
      "#parsing: ['Oh', ',', 'do', \"n't\", 'grovel', '!']\n",
      "#parsing: ['If', 'there', \"'s\", 'one', 'thing', 'I', \"can't\", 'stand', ',', 'it', \"'s\", 'people', 'groveling', '.']\n"
     ]
    },
    {
     "name": "stdout",
     "output_type": "stream",
     "text": [
      "(TOP (S2 (S (SBAR (CONJ If) (SBAR|<Adv-S> (Adv there) (S (VP (OTH 's) (ADJP (Number one) (Noun thing))) ))) (S|<NP-VP> (NP (PRP I) ) (VP (Noun can't) (S (INTJ (Noun stand) ) (S|<Pause-NP-VP-Punc> (Pause ,) (S|<NP-VP-Punc> (NP (PRP it) ) (S|<VP-Punc> (VP (OTH 's) (VP (Nouns people) (NP (VBG groveling) ))) (Punc .)))))))) ) )\n",
      "(TOP (S2 (INTJ (Noun Sorry) (Pause --)) ) )\n",
      "(TOP (S2 (S (CC And) (S|<VP-Punc> (VP (VB do) (VP|<Adv-VP> (Adv n't) (VP (VB apologize) ))) (Punc .))) ) )\n"
     ]
    },
    {
     "name": "stderr",
     "output_type": "stream",
     "text": [
      "#parsing: ['Sorry', '--']\n",
      "#parsing: ['And', 'do', \"n't\", 'apologize', '.']\n",
      "#parsing: ['Every', 'time', 'I', 'try', 'to', 'talk', 'to', 'someone', 'it', \"'s\", '\"', 'sorry', 'this', '\"', 'and', '\"', 'forgive', 'me', 'that', '\"', 'and', '\"', \"I'm\", 'not', 'worthy', '\"', '.']\n"
     ]
    },
    {
     "name": "stdout",
     "output_type": "stream",
     "text": [
      "(TOP (S1 (NP (Det Every) (Noun time)) (VP (S (NP (PRP I) ) (VP (Noun try) (VP (TO to) (VP (Noun talk) (VP (TO to) (VP (Noun someone) (NP (PRP it) ))))))) (VP|<OTH-NP> (OTH 's) (NP (OTH \") (NP|<Noun-NP-OTH-CC-OTH-VP-OTH-CC-S> (Noun sorry) (NP|<NP-OTH-CC-OTH-VP-OTH-CC-S> (NP (Det this) ) (NP|<OTH-CC-OTH-VP-OTH-CC-S> (OTH \") (NP|<CC-OTH-VP-OTH-CC-S> (CC and) (NP|<OTH-VP-OTH-CC-S> (OTH \") (NP|<VP-OTH-CC-S> (VP (Adj forgive) (VP|<NP-NP> (NP (PRP me) ) (NP (Det that) ))) (NP|<OTH-CC-S> (OTH \") (NP|<CC-S> (CC and) (S (VP (OTH \") (VP (Noun I'm) (ADJP (ADJP (ADV not) (Noun worthy)) (OTH \")))) (Punc .)))))))))))))) )\n",
      "(TOP (S2 (SBARQ (WHNP (Qword What) ) (SBARQ|<SQ-Punc-Qmark> (SQ (VBP are) (SQ|<NP-VP> (NP (PRP you) ) (VP (VBG doing) (ADVP (Adv now) )))) (SBARQ|<Punc-Qmark> (Punc !) (Qmark ?)))) ) )\n",
      "(TOP (S2 (S (NP (Noun I'm) ) (S|<VP-Punc> (VP (VBG averting) (NP (NP (Poss_pron my) (Nouns eyes)) (NP|<Pause-NP> (Pause ,) (NP (Noun oh) (Noun Lord))))) (Punc .))) ) )\n",
      "(TOP (S2 (S (INTJ (Adv Well) ) (S|<Pause-VP-Punc> (Pause ,) (S|<VP-Punc> (VP (VB do) (ADVP (Adv n't) )) (Punc .)))) ) )\n"
     ]
    },
    {
     "name": "stderr",
     "output_type": "stream",
     "text": [
      "#parsing: ['What', 'are', 'you', 'doing', 'now', '!', '?']\n",
      "#parsing: [\"I'm\", 'averting', 'my', 'eyes', ',', 'oh', 'Lord', '.']\n",
      "#parsing: ['Well', ',', 'do', \"n't\", '.']\n",
      "#parsing: ['It', \"'s\", 'like', 'those', 'miserable', 'Psalms', '--', 'they', \"'re\", 'so', 'depressing', '.']\n"
     ]
    },
    {
     "name": "stdout",
     "output_type": "stream",
     "text": [
      "(TOP (S2 (S (S (NP (PRP It) ) (VP (OTH 's) (PP (Prep like) (NP (Det those) (Adj_Nbar (Adj miserable) (Nbar (Nouns Psalms) )))))) (S|<Pause-S-Punc> (Pause --) (S|<S-Punc> (S (NP (PRP they) ) (VP (OTH 're) (ADJP (CONJ so) (VBG depressing)))) (Punc .)))) ) )\n",
      "(TOP (S2 (S (Adv Now) (S|<VP-Punc> (VP (Noun knock) (VP|<NP-PRT> (NP (PRP it) ) (PRT (Prep off) ))) (Punc !))) ) )\n",
      "(TOP (S2 (FRAG (INTJ (UH Yes) ) (FRAG|<Pause-INTJ-Punc> (Pause ,) (FRAG|<INTJ-Punc> (INTJ (Noun Lord) ) (Punc .)))) ) )\n",
      "(TOP (S2 (INTJ (Adv Right) (Punc !)) ) )\n"
     ]
    },
    {
     "name": "stderr",
     "output_type": "stream",
     "text": [
      "#parsing: ['Now', 'knock', 'it', 'off', '!']\n",
      "#parsing: ['Yes', ',', 'Lord', '.']\n",
      "#parsing: ['Right', '!']\n",
      "#parsing: ['Arthur', ',', 'King', 'of', 'the', 'Britons', '--', 'your', 'Knights', 'of', 'the', 'Round', 'Table', 'shall', 'have', 'a', 'task', 'to', 'make', 'them', 'an', 'example', 'in', 'these', 'dark', 'times', '.']\n"
     ]
    },
    {
     "name": "stdout",
     "output_type": "stream",
     "text": [
      "(TOP (S2 (S (NP (Proper Arthur) ) (S|<Pause-S-Pause-S-Punc> (Pause ,) (S|<S-Pause-S-Punc> (S (VP (VBG King) (PP (Prep of) (NP (Det the) (NNPS Britons)))) ) (S|<Pause-S-Punc> (Pause --) (S|<S-Punc> (S (NP (NP (Poss_pron your) (Nouns Knights)) (PP (Prep of) (NP (Det the) (NP|<Noun-Noun> (Noun Round) (Noun Table))))) (VP (MD shall) (VP (VB have) (S (NP (Det a) (Noun task)) (VP (TO to) (VP (VB make) (VP|<NP-NP> (NP (PRP them) ) (NP (Det an) (NP|<ADJP-Nouns> (ADJP (Noun example) (PP (Prep in) (NP (Det these) (Noun dark)))) (Nouns times)))))))))) (Punc .)))))) ) )\n",
      "(TOP (S2 (FRAG (NP (Adj Good) (Noun idea)) (FRAG|<Pause-INTJ-Punc> (Pause ,) (FRAG|<INTJ-Punc> (INTJ (Noun oh) (Noun Lord)) (Punc !)))) ) )\n",
      "(TOP (S2 (FRAG (OTH ') (FRAG|<Noun-NP-Punc> (Noun Course) (FRAG|<NP-Punc> (NP (NP (PRP it) ) (NP|<OTH-NP> (OTH 's) (NP (Det a) (NP|<Adj-Noun> (Adj good) (Noun idea))))) (Punc !)))) ) )\n",
      "(TOP (S1 (NP (Noun Behold) (Punc !)) ) )\n",
      "(TOP (S2 (S (NP (Proper Arthur) ) (S|<Pause-NP-VP-Punc> (Pause ,) (S|<NP-VP-Punc> (NP (Det this) ) (S|<VP-Punc> (VP (VBP is) (NP (Det the) (NP|<Proper-Noun> (Proper Holy) (Noun Grail)))) (Punc .))))) ) )\n"
     ]
    },
    {
     "name": "stderr",
     "output_type": "stream",
     "text": [
      "#parsing: ['Good', 'idea', ',', 'oh', 'Lord', '!']\n",
      "#parsing: [\"'\", 'Course', 'it', \"'s\", 'a', 'good', 'idea', '!']\n",
      "#parsing: ['Behold', '!']\n",
      "#parsing: ['Arthur', ',', 'this', 'is', 'the', 'Holy', 'Grail', '.']\n",
      "#parsing: ['Look', 'well', ',', 'Arthur', ',', 'for', 'it', 'is', 'your', 'sacred', 'task', 'to', 'seek', 'this', 'Grail', '.']\n"
     ]
    },
    {
     "name": "stdout",
     "output_type": "stream",
     "text": [
      "(TOP (S1 (VP (VP (VB Look) (VP|<ADVP-Pause-NP-Pause> (ADVP (Adv well) ) (VP|<Pause-NP-Pause> (Pause ,) (VP|<NP-Pause> (NP (Proper Arthur) ) (Pause ,))))) (SBAR (Prep for) (S (NP (PRP it) ) (VP (VBP is) (NP (Poss_pron your) (NP|<Adj-Noun> (Adj sacred) (Noun task))))))) (_VP (VP (TO to) (VP (Noun seek) (NP (Det this) (Noun Grail)))) (Punc .))) )\n",
      "(TOP (S1 (NP (Det That) ) (VP (VBP is) (NP (NP (Poss_pron your) (Noun purpose)) (NP|<Pause-NP-Pause-NP-Pause> (Pause ,) (NP|<NP-Pause-NP-Pause> (NP (Proper Arthur) ) (NP|<Pause-NP-Pause> (Pause --) (NP|<NP-Pause> (NP (NP (Det the) (AdjS Quest)) (PP (Prep for) (NP (Det the) (NP|<Proper-Noun> (Proper Holy) (Noun Grail))))) (Pause .)))))))) )\n",
      "(TOP (S1 (NP (Det A) (NP|<Noun-Punc> (Noun blessing) (Punc !))) ) )\n",
      "(TOP (S2 (S (NP (Det A) ) (S|<VP-Punc> (VP (Noun blessing) (PP (Prep from) (NP (Det the) (Noun Lord)))) (Punc !))) ) )\n",
      "(TOP (S2 (S (NP (Proper God) ) (S|<VP-Punc> (VP (VB be) (VP (VBN praised) )) (Punc !))) ) )\n",
      "(TOP (S1 (NP (Noun Halt) (Punc !)) ) )\n",
      "(TOP (S1 (NP (Noun Hallo) (Punc !)) ) )\n",
      "(TOP (S1 (NP (OTH ') (NP|<Noun-Punc> (Noun Allo) (Punc !))) ) )\n",
      "(TOP (S2 (SBARQ (WHNP (Wh_pro Who) ) (SBARQ|<SQ-Qmark> (SQ (VBP is) (NP (Noun zis) )) (Qmark ?))) ) )\n"
     ]
    },
    {
     "name": "stderr",
     "output_type": "stream",
     "text": [
      "#parsing: ['That', 'is', 'your', 'purpose', ',', 'Arthur', '--', 'the', 'Quest', 'for', 'the', 'Holy', 'Grail', '.']\n",
      "#parsing: ['A', 'blessing', '!']\n",
      "#parsing: ['A', 'blessing', 'from', 'the', 'Lord', '!']\n",
      "#parsing: ['God', 'be', 'praised', '!']\n",
      "#parsing: ['Halt', '!']\n",
      "#parsing: ['Hallo', '!']\n",
      "#parsing: [\"'\", 'Allo', '!']\n",
      "#parsing: ['Who', 'is', 'zis', '?']\n",
      "#parsing: ['It', 'is', 'King', 'Arthur', ',', 'and', 'these', 'are', 'the', 'Knights', 'of', 'the', 'Round', 'Table', '.']\n"
     ]
    },
    {
     "name": "stdout",
     "output_type": "stream",
     "text": [
      "(TOP (S2 (S (S (NP (PRP It) ) (VP (VBP is) (NP (VBG King) (Proper Arthur)))) (S|<Pause-CC-S-Punc> (Pause ,) (S|<CC-S-Punc> (CC and) (S|<S-Punc> (S (NP (Det these) ) (VP (VBP are) (NP (NP (Det the) (Nouns Knights)) (PP (Prep of) (NP (Det the) (NP|<Noun-Noun> (Noun Round) (Noun Table))))))) (Punc .))))) ) )\n",
      "(TOP (S2 (SBARQ (WHNP (Wh_pro Who) ) (SBARQ|<SQ-Qmark> (SQ (OTH 's) (SQ|<NP-SQ> (NP (Noun castle) ) (SQ (VBP is) (NP (Det this) )))) (Qmark ?))) ) )\n"
     ]
    },
    {
     "name": "stderr",
     "output_type": "stream",
     "text": [
      "#parsing: ['Who', \"'s\", 'castle', 'is', 'this', '?']\n",
      "#parsing: ['This', 'is', 'the', 'castle', 'of', 'Our', 'Master', 'Ruiz', \"'\", 'de', 'lu', 'la', 'Ramper', '(', 'sp', '?', ')']\n"
     ]
    },
    {
     "name": "stdout",
     "output_type": "stream",
     "text": [
      "(TOP (S1 (NP (Det This) ) (VP (VBP is) (NP (NP (NP (Det the) (Noun castle)) (NP|<PP-OTH-Nouns-Noun-Noun-Noun> (PP (Prep of) (PP|<Poss_pron-Noun-Noun> (Poss_pron Our) (PP|<Noun-Noun> (Noun Master) (Noun Ruiz)))) (NP|<OTH-Nouns-Noun-Noun-Noun> (OTH ') (NP|<Nouns-Noun-Noun-Noun> (Nouns de) (NP|<Noun-Noun-Noun> (Noun lu) (NP|<Noun-Noun> (Noun la) (Noun Ramper))))))) (PRN (OTH () (PRN|<S-OTH> (S (VP (Noun sp) ) (Qmark ?)) (OTH ))))))) )\n"
     ]
    },
    {
     "name": "stderr",
     "output_type": "stream",
     "text": [
      "#parsing: ['Go', 'and', 'tell', 'your', 'master', 'that', 'we', 'have', 'been', 'charged', 'by', 'God', 'with', 'a', 'sacred', 'quest', '.']\n"
     ]
    },
    {
     "name": "stdout",
     "output_type": "stream",
     "text": [
      "(TOP (S1 (VP (VP (VB Go) ) (VP|<CC-VP> (CC and) (VP (Noun tell) (VP|<NP-SBAR> (NP (Poss_pron your) (Noun master)) (SBAR (Det that) (S (NP (PRP we) ) (S|<VP-Punc> (VP (VB have) (VP (VBN been) (VP (VBN charged) (PP (Prep by) (NP (NP (Proper God) ) (PP (Prep with) (NP (Det a) (NP|<Adj-Noun> (Adj sacred) (Noun quest))))))))) (Punc .)))))))) ) )\n"
     ]
    },
    {
     "name": "stderr",
     "output_type": "stream",
     "text": [
      "#parsing: ['If', 'he', 'will', 'give', 'us', 'food', 'and', 'shelter', 'for', 'the', 'night', 'he', 'can', 'join', 'us', 'in', 'our', 'quest', 'for', 'the', 'Holy', 'Grail', '.']\n"
     ]
    },
    {
     "name": "stdout",
     "output_type": "stream",
     "text": [
      "(TOP (S1 (PP (Prep If) (NP (NP (PRP he) ) (VP (MD will) (VP (VB give) (S (NP (PRP us) ) (VP (Noun food) (S (CC and) (S|<ADVP-PP-NP-VP-Punc> (ADVP (Noun shelter) ) (S|<PP-NP-VP-Punc> (PP (Prep for) (NP (Det the) (Noun night))) (S|<NP-VP-Punc> (NP (PRP he) ) (S|<VP-Punc> (VP (MD can) (VP (Noun join) (VP|<NP-PP> (NP (NP (PRP us) ) (PP (Prep in) (NP (Poss_pron our) (Noun quest)))) (PP (Prep for) (NP (Det the) (NP|<Proper-Noun> (Proper Holy) (Noun Grail))))))) (Punc .)))))))))))) ) )\n"
     ]
    },
    {
     "name": "stderr",
     "output_type": "stream",
     "text": [
      "#parsing: ['Well', ',', 'I', \"'ll\", 'ask', 'him', ',', 'but', 'I', 'do', \"n't\", 'think', 'he', \"'ll\", 'be', 'very', 'keen', '...']\n"
     ]
    },
    {
     "name": "stdout",
     "output_type": "stream",
     "text": [
      "(TOP (S2 (S (S (INTJ (Adv Well) ) (S|<Pause-NP-VP> (Pause ,) (S|<NP-VP> (NP (PRP I) ) (VP (OTH 'll) (VP (Noun ask) (NP (PRP him) )))))) (S|<Pause-CC-S-Punc> (Pause ,) (S|<CC-S-Punc> (CC but) (S|<S-Punc> (S (NP (PRP I) ) (VP (VB do) (VP|<Adv-VP> (Adv n't) (VP (Noun think) (S (NP (PRP he) ) (VP (OTH 'll) (VP (VB be) (VP|<Adv-VP> (Adv very) (VP (Noun keen) ))))))))) (Punc ...))))) ) )\n",
      "(TOP (S2 (S (INTJ (Noun Uh) ) (S|<Pause-NP-VP-Qmark> (Pause ,) (S|<NP-VP-Qmark> (NP (PRP he) ) (S|<VP-Qmark> (VP (OTH 's) (VP|<ADVP-VP> (ADVP (ADV already) ) (VP (VBD got) (S (NP (NP (PRP one) ) (NP|<Pause-NP> (Pause ,) (NP (PRP you) ))) (VP (VB see) ))))) (Qmark ?))))) ) )\n",
      "(TOP (S2 (FRAG (Qword What) (Qmark ?)) ) )\n",
      "(TOP (S1 (NP (PRP He) ) (VP (VerbT says) (S (NP (PRP they) ) (S|<VP-Punc> (VP (OTH 've) (VP|<ADVP-VP> (ADVP (ADV already) ) (VP (VBD got) (NP (PRP one) )))) (Punc !))))) )\n",
      "(TOP (S2 (SQ (VBP Are) (SQ|<NP-VP-Qmark> (NP (PRP you) ) (SQ|<VP-Qmark> (VP (Noun sure) (S (NP (PRP he) ) (VP (OTH 's) (VP (VBD got) (NP (PRP one) ))))) (Qmark ?)))) ) )\n"
     ]
    },
    {
     "name": "stderr",
     "output_type": "stream",
     "text": [
      "#parsing: ['Uh', ',', 'he', \"'s\", 'already', 'got', 'one', ',', 'you', 'see', '?']\n",
      "#parsing: ['What', '?']\n",
      "#parsing: ['He', 'says', 'they', \"'ve\", 'already', 'got', 'one', '!']\n",
      "#parsing: ['Are', 'you', 'sure', 'he', \"'s\", 'got', 'one', '?']\n",
      "#parsing: ['Oh', ',', 'yes', ',', 'it', \"'s\", 'very', 'nice', '-', 'a', 'I', 'told', 'him', 'we', 'already', 'got', 'one', '.']\n"
     ]
    },
    {
     "name": "stdout",
     "output_type": "stream",
     "text": [
      "(TOP (S2 (S (INTJ (UH Oh) ) (S|<Pause-INTJ-Pause-NP-VP-Punc> (Pause ,) (S|<INTJ-Pause-NP-VP-Punc> (INTJ (Nouns yes) ) (S|<Pause-NP-VP-Punc> (Pause ,) (S|<NP-VP-Punc> (NP (PRP it) ) (S|<VP-Punc> (VP (OTH 's) (VP|<ADVP-VP> (ADVP (Adv very) (Adj nice)) (VP (OTH -) (SBAR (Det a) (S (NP (PRP I) ) (VP (Noun told) (VP|<NP-S> (NP (PRP him) ) (S (NP (PRP we) ) (S|<ADV-VP> (ADV already) (VP (VBD got) (NP (PRP one) ))))))))))) (Punc .))))))) ) )\n",
      "(TOP (S2 (SQ (INTJ (INTJ (Adv Well) ) (INTJ|<Pause-NP> (Pause ,) (NP (Noun um) ))) (SQ|<Pause-MD-NP-VP-Qmark> (Pause ,) (SQ|<MD-NP-VP-Qmark> (MD can) (SQ|<NP-VP-Qmark> (NP (PRP we) ) (SQ|<VP-Qmark> (VP (VP (VB come) (ADVP (Adv up) )) (VP|<CC-VP> (CC and) (VP (VB have) (NP (Det a) (Noun look))))) (Qmark ?)))))) ) )\n",
      "(TOP (S2 (FRAG (Prep Of) (FRAG|<S-Punc> (S (VP (Noun course) (ADVP (ADV not) )) ) (Punc !))) ) )\n",
      "(TOP (S2 (S (NP (PRP You) ) (S|<VP-Punc> (VP (VBP are) (NP (NP (Adj English) (Nouns types)) (NP|<OTH-NP> (OTH -) (NP (Det a) )))) (Punc !))) ) )\n",
      "(TOP (S2 (SBARQ (ADVP (Adv Well) ) (SBARQ|<Pause-WHADVP-SQ-Qmark> (Pause ,) (SBARQ|<WHADVP-SQ-Qmark> (WHADVP (Qword what) ) (SBARQ|<SQ-Qmark> (SQ (VBP are) (NP (NP (PRP you) ) (ADJP (Adv then) ))) (Qmark ?))))) ) )\n",
      "(TOP (S2 (S (VP (Noun I'm) (ADJP (Adj French) )) (Punc !)) ) )\n"
     ]
    },
    {
     "name": "stderr",
     "output_type": "stream",
     "text": [
      "#parsing: ['Well', ',', 'um', ',', 'can', 'we', 'come', 'up', 'and', 'have', 'a', 'look', '?']\n",
      "#parsing: ['Of', 'course', 'not', '!']\n",
      "#parsing: ['You', 'are', 'English', 'types', '-', 'a', '!']\n",
      "#parsing: ['Well', ',', 'what', 'are', 'you', 'then', '?']\n",
      "#parsing: [\"I'm\", 'French', '!']\n",
      "#parsing: ['Why', 'do', 'think', 'I', 'have', 'this', 'outrageous', 'accent', ',', 'you', 'silly', 'king', '!']\n"
     ]
    },
    {
     "name": "stdout",
     "output_type": "stream",
     "text": [
      "(TOP (S2 (S (SBAR (WHNP (Qword Why) ) (S (VP (VB do) (VP (Noun think) (NP (PRP I) ))) )) (S|<VP-Punc> (VP (VB have) (ADJP (NP (NP (Det this) (NP|<Adj-Noun> (Adj outrageous) (Noun accent))) (NP|<Pause-NP> (Pause ,) (NP (PRP you) ))) (ADJP|<Adv-Noun> (Adv silly) (Noun king)))) (Punc !))) ) )\n",
      "(TOP (S2 (SBARQ (WHNP (Qword What) ) (SBARQ|<SQ-Qmark> (SQ (VBP are) (SQ|<NP-VP> (NP (PRP you) ) (VP (VBG doing) (PP (Prep in) (NP (NNP England) ))))) (Qmark ?))) ) )\n",
      "(TOP (S2 (S (VP (Noun Mind) (NP (Poss_pron your) (NP|<Adj-Noun> (Adj own) (Noun business)))) (Punc !)) ) )\n"
     ]
    },
    {
     "name": "stderr",
     "output_type": "stream",
     "text": [
      "#parsing: ['What', 'are', 'you', 'doing', 'in', 'England', '?']\n",
      "#parsing: ['Mind', 'your', 'own', 'business', '!']\n",
      "#parsing: ['If', 'you', 'will', 'not', 'show', 'us', 'the', 'Grail', ',', 'we', 'shall', 'take', 'your', 'castle', 'by', 'force', '!']\n"
     ]
    },
    {
     "name": "stdout",
     "output_type": "stream",
     "text": [
      "(TOP (S2 (S (SBAR (Prep If) (S (NP (PRP you) ) (VP (MD will) (VP|<ADV-VP> (ADV not) (VP (Noun show) (VP|<NP-NP> (NP (PRP us) ) (NP (Det the) (Noun Grail)))))))) (S|<Pause-NP-VP-Punc> (Pause ,) (S|<NP-VP-Punc> (NP (PRP we) ) (S|<VP-Punc> (VP (MD shall) (VP (VB take) (VP|<NP-PP> (NP (Poss_pron your) (Noun castle)) (PP (Prep by) (NP (Noun force) ))))) (Punc !))))) ) )\n",
      "(TOP (S2 (S (S (NP (PRP You) ) (VP (VB do) (VP|<Adv-VP> (Adv n't) (VP (Nouns frighten) (NP (PRP us) ))))) (S|<Pause-S-Punc> (Pause ,) (S|<S-Punc> (S (NP (Adj English) (Noun pig)) (VP (OTH -) (NP (Nouns dogs) ))) (Punc !)))) ) )\n"
     ]
    },
    {
     "name": "stderr",
     "output_type": "stream",
     "text": [
      "#parsing: ['You', 'do', \"n't\", 'frighten', 'us', ',', 'English', 'pig', '-', 'dogs', '!']\n",
      "#parsing: ['Go', 'and', 'boil', 'your', 'bottoms', ',', 'sons', 'of', 'a', 'silly', 'person', '.']\n"
     ]
    },
    {
     "name": "stdout",
     "output_type": "stream",
     "text": [
      "(TOP (S1 (VP (VP (VB Go) ) (VP|<CC-VP> (CC and) (VP (Noun boil) (VP|<NP-Pause-S> (NP (Poss_pron your) (Nouns bottoms)) (VP|<Pause-S> (Pause ,) (S (VP (Nouns sons) (PP (Prep of) (NP (Det a) (NP|<Adv-Noun> (Adv silly) (Noun person))))) (Punc .))))))) ) )\n"
     ]
    },
    {
     "name": "stderr",
     "output_type": "stream",
     "text": [
      "#parsing: ['I', 'blow', 'my', 'nose', 'at', 'you', ',', 'so', '-', 'called', 'Arthur', '-', 'king', ',', 'you', 'and', 'all', 'your', 'silly', 'English', 'kaniggets', '.']\n"
     ]
    },
    {
     "name": "stdout",
     "output_type": "stream",
     "text": [
      "(TOP (S1 (NP (PRP I) ) (VP (VP (Noun blow) (VP|<NP-PP> (NP (Poss_pron my) (Adv nose)) (PP (Prep at) (NP (PRP you) )))) (VP|<Pause-CC-VP> (Pause ,) (VP|<CC-VP> (CC so) (VP (OTH -) (SBAR (SBAR (SBAR (S (VP (VBN called) (S (NP (Proper Arthur) ) (VP (OTH -) (NP (Noun king) )))) ) ) (SBAR|<Pause-NP> (Pause ,) (NP (PRP you) ))) (SBAR|<CC-SBAR> (CC and) (SBAR (Det all) (S (NP (Poss_pron your) (Adv silly)) (S|<VP-Punc> (VP (Adj English) (Nouns kaniggets)) (Punc .))))))))))) )\n",
      "(TOP (S1 (NP (Noun Thppppt) (Punc !)) ) )\n",
      "(TOP (S2 (SBAR (WHNP (Qword What) ) (S (NP (Det a) (Noun strange)) (S|<VP-Punc> (VP (Noun person) ) (Punc .)))) ) )\n",
      "(TOP (S2 (S (Adv Now) (S|<VP-Punc> (VP (Noun look) (VP|<ADVP-Pause-NP> (ADVP (Adv here) ) (VP|<Pause-NP> (Pause ,) (NP (Poss_pron my) (NP|<Adj-Noun> (Adj good) (Noun man)))))) (Punc !))) ) )\n"
     ]
    },
    {
     "name": "stderr",
     "output_type": "stream",
     "text": [
      "#parsing: ['Thppppt', '!']\n",
      "#parsing: ['What', 'a', 'strange', 'person', '.']\n",
      "#parsing: ['Now', 'look', 'here', ',', 'my', 'good', 'man', '!']\n",
      "#parsing: ['I', 'do', \"n't\", 'want', 'to', 'talk', 'to', 'you', 'no', 'more', ',', 'you', 'empty', 'headed', 'animal', 'food', 'trough', 'whopper', '!']\n"
     ]
    },
    {
     "name": "stdout",
     "output_type": "stream",
     "text": [
      "(TOP (S1 (NP (PRP I) ) (VP (VB do) (VP|<Adv-VP> (Adv n't) (VP (Noun want) (VP (TO to) (VP (Noun talk) (PP (TO to) (NP (NP (PRP you) ) (SBAR (Det no) (S (NP (RBR more) ) (S|<Pause-NP-VP-Punc> (Pause ,) (S|<NP-VP-Punc> (NP (PRP you) ) (S|<VP-Punc> (VP (Adj empty) (VP|<NP-NP> (NP (VBN headed) (NP|<Noun-Noun> (Noun animal) (Noun food))) (NP (Noun trough) (Noun whopper)))) (Punc !)))))))))))))) )\n",
      "(TOP (S2 (S (NP (PRP I) ) (S|<VP-Punc> (VP (Noun fart) (PP (Prep in) (NP (Poss_pron your) (NP|<Adj-Noun> (Adj general) (Noun direction))))) (Punc !))) ) )\n"
     ]
    },
    {
     "name": "stderr",
     "output_type": "stream",
     "text": [
      "#parsing: ['I', 'fart', 'in', 'your', 'general', 'direction', '!']\n",
      "#parsing: ['You', 'mother', 'was', 'a', 'hamster', 'and', 'your', 'father', 'smelt', 'of', 'eldeberries', '.']\n"
     ]
    },
    {
     "name": "stdout",
     "output_type": "stream",
     "text": [
      "(TOP (S2 (S (S (NP (PRP You) ) (VP (Noun mother) (VP (VBD was) (NP (Det a) (Noun hamster))))) (S|<CC-S-Punc> (CC and) (S|<S-Punc> (S (NP (Poss_pron your) (Noun father)) (VP (Noun smelt) (PP (Prep of) (NP (Nouns eldeberries) )))) (Punc .)))) ) )\n",
      "(TOP (S2 (S (VP (Noun Is) (VP|<ADVP-VP> (ADVP (Adv there) ) (VP (Noun someone) (VP|<ADVP-ADVP-PP> (ADVP (Adv else) ) (VP|<ADVP-PP> (ADVP (Adv up) ) (PP (Adv there) (NP (NP (PRP we) ) (VP (MD could) (VP (Noun talk) (PP (TO to) )))))))))) (Qmark ?)) ) )\n"
     ]
    },
    {
     "name": "stderr",
     "output_type": "stream",
     "text": [
      "#parsing: ['Is', 'there', 'someone', 'else', 'up', 'there', 'we', 'could', 'talk', 'to', '?']\n",
      "#parsing: ['No', ',', 'now', 'go', 'away', 'or', 'I', 'shall', 'taunt', 'you', 'a', 'second', 'time', '-', 'a', '!']\n"
     ]
    },
    {
     "name": "stdout",
     "output_type": "stream",
     "text": [
      "(TOP (S2 (SINV (NP (Det No) ) (SINV|<Pause-ADVP-VP-NP-Punc> (Pause ,) (SINV|<ADVP-VP-NP-Punc> (ADVP (Adv now) ) (SINV|<VP-NP-Punc> (VP (VB go) (S (NP (NP (Adv away) ) (NP|<CC_or-NP> (CC_or or) (NP (PRP I) ))) (VP (MD shall) (VP (Noun taunt) (NP (PRP you) ))))) (SINV|<NP-Punc> (NP (NP (Det a) (NP|<Adj-Noun> (Adj second) (Noun time))) (NP|<OTH-NP> (OTH -) (NP (Det a) ))) (Punc !)))))) ) )\n",
      "(TOP (S2 (S (INTJ (Adv Now) ) (S|<Pause-NP-VP-Punc> (Pause ,) (S|<NP-VP-Punc> (NP (Det this) ) (S|<VP-Punc> (VP (VBP is) (NP (Poss_pron your) (NP|<Adj-Noun> (Adj last) (Noun chance)))) (Punc .))))) ) )\n",
      "(TOP (S2 (S (NP (Noun I've) ) (S|<VP-Punc> (VP (VBN been) (VP|<NP-PP> (NP (RBR more) ) (PP (Prep than) (NP (Adj reasonable) )))) (Punc .))) ) )\n",
      "(TOP (S2 (SQ (OTH () (SQ|<NP-SQ> (NP (Noun Fetchez) ) (SQ (Noun la) (SQ|<NP-VP-Qmark> (NP (Noun vache) (Punc .)) (SQ|<VP-Qmark> (VP (OTH )) (NP (Noun wha) )) (Qmark ?)))))) ) )\n",
      "(TOP (S1 (VP (OTH () (VP (Noun Fetchez) (NP (Noun la) (NP|<Noun-Punc> (Noun vache) (Punc !))))) (_VP (VP (OTH )) ) )) )\n"
     ]
    },
    {
     "name": "stderr",
     "output_type": "stream",
     "text": [
      "#parsing: ['Now', ',', 'this', 'is', 'your', 'last', 'chance', '.']\n",
      "#parsing: [\"I've\", 'been', 'more', 'than', 'reasonable', '.']\n",
      "#parsing: ['(', 'Fetchez', 'la', 'vache', '.', ')', 'wha', '?']\n",
      "#parsing: ['(', 'Fetchez', 'la', 'vache', '!', ')']\n",
      "#parsing: ['If', 'you', 'do', 'not', 'agree', 'to', 'my', 'commands', ',', 'then', 'I', 'shall', '--']\n"
     ]
    },
    {
     "name": "stdout",
     "output_type": "stream",
     "text": [
      "(TOP (S1 (PP (Prep If) (NP (NP (NP (NP (PRP you) ) (VP (VB do) (VP|<ADJP-PP> (ADJP (ADV not) (Noun agree)) (PP (TO to) (NP (Poss_pron my) (Nouns commands)))))) (NP|<Pause-INTJ> (Pause ,) (INTJ (Adv then) ))) (SBAR (S (NP (PRP I) ) (S|<VP-Pause> (VP (MD shall) ) (Pause --))) ))) ) )\n",
      "(TOP (S1 (NP (Noun Jesus) (NP|<Noun-Punc> (Noun Christ) (Punc !))) ) )\n",
      "(TOP (S2 (INTJ (Adv Right) (Punc !)) ) )\n",
      "(TOP (S1 (NP (Noun Charge) (Punc !)) ) )\n",
      "(TOP (S2 (S (INTJ (OTH Ah) ) (S|<Pause-NP-VP-Punc> (Pause ,) (S|<NP-VP-Punc> (NP (Det this) (PRP one)) (S|<VP-Punc> (VP (VBP is) (PP (Prep for) (NP (Poss_pron your) (Noun mother)))) (Punc !))))) ) )\n",
      "(TOP (S2 (S (VP (VB Run) (ADVP (Adv away) )) (Punc !)) ) )\n",
      "(TOP (S1 (NP (Noun Thpppt) (Punc !)) ) )\n",
      "(TOP (S1 (NP (Nouns Fiends) (Punc !)) ) )\n",
      "(TOP (S2 (S (NP (PRP I) ) (S|<VP-Punc> (VP (OTH 'll) (VP|<Noun-NP-ADVP> (Noun tear) (VP|<NP-ADVP> (NP (PRP them) ) (ADVP (Adv apart) )))) (Punc !))) ) )\n",
      "(TOP (S2 (FRAG (NP (Det No) (Nbar (Det no) )) (FRAG|<Pause-INTJ-Punc> (Pause ,) (FRAG|<INTJ-Punc> (INTJ (Det no) ) (Punc .)))) ) )\n",
      "(TOP (S1 (_Proper (Proper Sir) (Punc !)) ) )\n",
      "(TOP (S2 (FRAG (S (NP (PRP I) ) (VP (VB have) (NP (Det a) (Noun plan)))) (FRAG|<Pause-INTJ-Punc> (Pause ,) (FRAG|<INTJ-Punc> (INTJ (Noun sir) ) (Punc .)))) ) )\n",
      "(TOP (S2 (SBARQ (WHADVP (Noun ce) ) (SBARQ|<SQ-Qmark> (SQ (Noun labon) (SQ|<NP-VP> (NP (Det a) (Noun bunny)) (VP (VB do) (NP (Noun wha) )))) (Qmark ?))) ) )\n",
      "(TOP (S2 (S (VP (Noun un) (NP (Noun cadeau) )) (Qmark ?)) ) )\n",
      "(TOP (S1 (NP (Det a) (NP|<Noun-Punc> (Noun present) (Punc !))) ) )\n",
      "(TOP (S2 (FRAG (INTJ (Noun oh) ) (FRAG|<Pause-INTJ-Punc> (Pause ,) (FRAG|<INTJ-Punc> (INTJ (Noun un) (Noun cadeau)) (Punc .)))) ) )\n",
      "(TOP (S2 (S (NP (Noun oui) (Noun oui)) (S|<VP-Punc> (VP (Noun hurry) ) (Punc !))) ) )\n",
      "(TOP (S2 (S (VP (Noun wha) (NP (OTH -) )) (Qmark ?)) ) )\n",
      "(TOP (S1 (VP (VB let) (VP|<OTH-INTJ> (OTH 's) (INTJ (VB go) (Punc !)))) ) )\n",
      "(TOP (S2 (SBARQ (WHNP (Qword What) ) (SBARQ|<SQ-Qmark> (SQ (VP (Nouns happens) (NP (Adv now) )) ) (Qmark ?))) ) )"
     ]
    },
    {
     "name": "stderr",
     "output_type": "stream",
     "text": [
      "#parsing: ['Jesus', 'Christ', '!']\n",
      "#parsing: ['Right', '!']\n",
      "#parsing: ['Charge', '!']\n",
      "#parsing: ['Ah', ',', 'this', 'one', 'is', 'for', 'your', 'mother', '!']\n",
      "#parsing: ['Run', 'away', '!']\n",
      "#parsing: ['Thpppt', '!']\n",
      "#parsing: ['Fiends', '!']\n",
      "#parsing: ['I', \"'ll\", 'tear', 'them', 'apart', '!']\n",
      "#parsing: ['No', 'no', ',', 'no', '.']\n",
      "#parsing: ['Sir', '!']\n",
      "#parsing: ['I', 'have', 'a', 'plan', ',', 'sir', '.']\n",
      "#parsing: ['ce', 'labon', 'a', 'bunny', 'do', 'wha', '?']\n",
      "#parsing: ['un', 'cadeau', '?']\n",
      "#parsing: ['a', 'present', '!']\n",
      "#parsing: ['oh', ',', 'un', 'cadeau', '.']\n",
      "#parsing: ['oui', 'oui', 'hurry', '!']\n",
      "#parsing: ['wha', '-', '?']\n",
      "#parsing: ['let', \"'s\", 'go', '!']\n",
      "#parsing: ['What', 'happens', 'now', '?']\n"
     ]
    },
    {
     "name": "stdout",
     "output_type": "stream",
     "text": [
      "\n",
      "(TOP (S2 (FRAG (INTJ (Adv Well) ) (FRAG|<Pause-INTJ-PRN-VP-Punc> (Pause ,) (FRAG|<INTJ-PRN-VP-Punc> (INTJ (Adv now) ) (FRAG|<PRN-VP-Punc> (PRN (Pause ,) (PRN|<S-Pause> (S (NP (NP (Noun uh) ) (NP|<Pause-NP-Pause-CC-NP> (Pause ,) (NP|<NP-Pause-CC-NP> (NP (NP (NP (Noun Launcelot) ) (NP|<Pause-NP-Pause-CC-NP> (Pause ,) (NP|<NP-Pause-CC-NP> (NP (Proper Galahad) ) (NP|<Pause-CC-NP> (Pause ,) (NP|<CC-NP> (CC and) (NP (PRP I) (Noun wait))))))) (PP (Prep until) (NP (Noun nightfall) ))) (NP|<Pause-CC-NP> (Pause ,) (NP|<CC-NP> (CC and) (NP (Adv then) )))))) (VP (Noun leap) (PP (Prep out) (PP (Prep of) (NP (Det the) (Noun rabbit)))))) (Pause ,))) (FRAG|<VP-Punc> (VP (VBG taking) (SBAR (SBAR (S (NP (Det the) (Adj French)) (PP (PP (Prep by) (NP (Noun surprise) )) (PP|<Pause-ADV-PP> (Pause --) (PP|<ADV-PP> (ADV not) (PP (Adv only) (PP (Prep by) (NP (Noun surprise) ))))))) ) (SBAR|<Pause-CC-NP> (Pause ,) (SBAR|<CC-NP> (CC but) (NP (NP (Adv totally) ) (ADJP (Adj unarmed) )))))) (Punc !)))))) ) )\n",
      "(TOP (S2 (SBARQ (WHNP (Wh_pro Who) ) (SBARQ|<SQ-Qmark> (SQ (VP (Nouns leaps) (PP (Prep out) )) ) (Qmark ?))) ) )\n",
      "(TOP (S2 (FRAG (INTJ (Noun Uh) ) (FRAG|<Pause-NP-Punc> (Pause ,) (FRAG|<NP-Punc> (NP (NP (Noun Launcelot) ) (NP|<Pause-NP-Pause-CC-NP> (Pause ,) (NP|<NP-Pause-CC-NP> (NP (Proper Galahad) ) (NP|<Pause-CC-NP> (Pause ,) (NP|<CC-NP> (CC and) (NP (PRP I) )))))) (Punc .)))) ) )\n"
     ]
    },
    {
     "name": "stderr",
     "output_type": "stream",
     "text": [
      "#parsing: ['Well', ',', 'now', ',', 'uh', ',', 'Launcelot', ',', 'Galahad', ',', 'and', 'I', 'wait', 'until', 'nightfall', ',', 'and', 'then', 'leap', 'out', 'of', 'the', 'rabbit', ',', 'taking', 'the', 'French', 'by', 'surprise', '--', 'not', 'only', 'by', 'surprise', ',', 'but', 'totally', 'unarmed', '!']\n",
      "#parsing: ['Who', 'leaps', 'out', '?']\n",
      "#parsing: ['Uh', ',', 'Launcelot', ',', 'Galahad', ',', 'and', 'I', '.']\n",
      "#parsing: ['Uh', ',', 'leap', 'out', 'of', 'the', 'rabbit', ',', 'uh', 'and', 'uh', '...', '.']\n"
     ]
    },
    {
     "name": "stdout",
     "output_type": "stream",
     "text": [
      "(TOP (S2 (S (INTJ (Noun Uh) ) (S|<Pause-VP-Punc> (Pause ,) (S|<VP-Punc> (VP (Noun leap) (PP (Prep out) (PP (Prep of) (NP (NP (Det the) (Noun rabbit)) (NP|<Pause-NP-Punc> (Pause ,) (NP|<NP-Punc> (NP (Noun uh) (NP|<CC-Noun> (CC and) (Noun uh))) (Punc ...))))))) (Punc .)))) ) )\n",
      "(TOP (S2 (UH Oh) (_Punc (Punc ...) (_Punc (Punc .) ))) )\n",
      "(TOP (S2 (S (INTJ (Noun Um) ) (S|<Pause-NP-VP> (Pause ,) (S|<NP-VP> (NP (Noun l) ) (VP (OTH -) (SBAR (SBAR (S (VP (Noun look) ) ) ) (SBAR|<Pause-SBAR> (Pause ,) (SBAR (CONJ if) (S (NP (PRP we) ) (S|<VP-Pause> (VP (Noun built) (NP (Det this) (NP|<Adj-Noun-Noun> (Adj large) (NP|<Noun-Noun> (Noun wooden) (Noun badger))))) (Pause --)))))))))) ) )\n",
      "(TOP (S2 (S (VP (VB Run) (ADVP (Adv away) )) (Punc !)) ) )\n",
      "(TOP (S2 (FRAG (INTJ (UH Oh) ) (FRAG|<Pause-NP-Punc> (Pause ,) (FRAG|<NP-Punc> (NP (Noun haw) (NP|<Noun-Noun> (Noun haw) (Noun haw))) (Punc .)))) ) )\n"
     ]
    },
    {
     "name": "stderr",
     "output_type": "stream",
     "text": [
      "#parsing: ['Oh', '...', '.']\n",
      "#parsing: ['Um', ',', 'l', '-', 'look', ',', 'if', 'we', 'built', 'this', 'large', 'wooden', 'badger', '--']\n",
      "#parsing: ['Run', 'away', '!']\n",
      "#parsing: ['Oh', ',', 'haw', 'haw', 'haw', '.']\n",
      "#parsing: ['Pictures', 'for', 'Schools', ',', 'take', '8', '.']\n"
     ]
    },
    {
     "name": "stdout",
     "output_type": "stream",
     "text": [
      "(TOP (S2 (S (NP (NP (Nouns Pictures) ) (NP|<PP-Pause> (PP (Prep for) (NP (Nouns Schools) )) (Pause ,))) (S|<VP-Punc> (VP (VB take) (NP (Number 8) )) (Punc .))) ) )\n",
      "(TOP (S1 (NP (Noun Action) (Punc !)) ) )\n",
      "(TOP (S1 (VP (Noun Defeat) (PP (Prep at) (NP (Det the) (Noun castle)))) (_VP (VP (VerbT seems) (VP (TO to) (VP (VB have) (VP|<Adv-VP> (Adv utterly) (VP (VBN disheartened) (NP (VBG King) (Proper Arthur))))))) (Punc .))) )\n"
     ]
    },
    {
     "name": "stderr",
     "output_type": "stream",
     "text": [
      "#parsing: ['Action', '!']\n",
      "#parsing: ['Defeat', 'at', 'the', 'castle', 'seems', 'to', 'have', 'utterly', 'disheartened', 'King', 'Arthur', '.']\n",
      "#parsing: ['The', 'ferocity', 'of', 'the', 'French', 'taunting', 'took', 'him', 'completely', 'by', 'surprise', ',', 'and', 'Arthur', 'became', 'convinced', 'that', 'a', 'new', 'strategy', 'was', 'required', 'if', 'the', 'quest', 'for', 'the', 'Holy', 'Grail', 'were', 'to', 'be', 'brought', 'to', 'a', 'successful', 'conclusion', '.']\n"
     ]
    },
    {
     "name": "stdout",
     "output_type": "stream",
     "text": [
      "(TOP (S2 (S (S (NP (NP (Det The) (Noun ferocity)) (PP (Prep of) (NP (Det the) (NP|<Adj-VBG> (Adj French) (VBG taunting))))) (VP (VBD took) (VP|<NP-PP> (NP (PRP him) ) (PP (Adv completely) (PP (Prep by) (NP (Noun surprise) )))))) (S|<Pause-CC-S-Punc> (Pause ,) (S|<CC-S-Punc> (CC and) (S|<S-Punc> (S (NP (Proper Arthur) ) (VP (VBD became) (VP (VBN convinced) (VP|<NP-NP> (NP (Det that) ) (NP (NP (NP (Det a) (NP|<Adj-Noun> (Adj new) (Noun strategy))) (VP (VBD was) (VP (VBN required) ))) (SBAR (CONJ if) (S (NP (NP (Det the) (Noun quest)) (PP (Prep for) (NP (Det the) (NP|<Proper-Noun> (Proper Holy) (Noun Grail))))) (VP (VBD were) (VP (TO to) (VP (VB be) (VP|<NP-PP> (NP (Noun brought) ) (PP (TO to) (NP (Det a) (NP|<Adj-Noun> (Adj successful) (Noun conclusion))))))))))))))) (Punc .))))) ) )\n"
     ]
    },
    {
     "name": "stderr",
     "output_type": "stream",
     "text": [
      "#parsing: ['Arthur', ',', 'having', 'consulted', 'his', 'closest', 'knights', ',', 'decided', 'that', 'they', 'should', 'separate', ',', 'and', 'search', 'for', 'the', 'Grail', 'individually', '.']\n"
     ]
    },
    {
     "name": "stdout",
     "output_type": "stream",
     "text": [
      "(TOP (S2 (S (NP (Proper Arthur) ) (S|<Pause-NP-VP-Punc> (Pause ,) (S|<NP-VP-Punc> (NP (VBG having) ) (S|<VP-Punc> (VP (VBN consulted) (VP|<NP-ADVP> (NP (NP (NP (Poss_pron his) (Noun closest)) (Nouns knights)) (NP|<Pause-VP> (Pause ,) (VP (VP (VBD decided) (NP (NP (NP (Det that) (PRP they)) (VP (MD should) )) (ADJP (Adj separate) ))) (VP|<Pause-CC-VP> (Pause ,) (VP|<CC-VP> (CC and) (VP (Noun search) (PP (Prep for) (NP (Det the) (Noun Grail))))))))) (ADVP (Adv individually) ))) (Punc .))))) ) )\n",
      "(TOP (S2 (S (INTJ (Adv Now) ) (S|<Pause-NP-VP> (Pause ,) (S|<NP-VP> (NP (Det this) ) (VP (VBP is) (SBAR (WHNP (Wh_pro what) ) (S (NP (PRP they) ) (S|<VP-Pause> (VP (VBD did) ) (Pause --)))))))) ) )\n",
      "(TOP (S1 (NP (Noun Greg) (Punc !)) ) )\n",
      "(TOP (S2 (S (NP (Det The) ) (S|<VP-Punc> (VP (Noun Tale) (PP (Prep of) (NP (NP (Proper Sir) ) (NP|<ADJP-Punc> (ADJP (Noun Robin) ) (Punc ...))))) (Punc .))) ) )\n",
      "(TOP (S2 (S (_So So) (S|<NP-VP-Punc> (NP (NP (Det each) ) (PP (Prep of) (NP (Det the) (Nouns knights)))) (S|<VP-Punc> (VP (VBD went) (S (NP (Poss_pron their) ) (VP (Adj separate) (Nouns ways)))) (Punc .)))) ) )\n"
     ]
    },
    {
     "name": "stderr",
     "output_type": "stream",
     "text": [
      "#parsing: ['Now', ',', 'this', 'is', 'what', 'they', 'did', '--']\n",
      "#parsing: ['Greg', '!']\n",
      "#parsing: ['The', 'Tale', 'of', 'Sir', 'Robin', '...', '.']\n",
      "#parsing: ['So', 'each', 'of', 'the', 'knights', 'went', 'their', 'separate', 'ways', '.']\n",
      "#parsing: ['Sir', 'Robin', 'rode', 'north', ',', 'through', 'the', 'dark', 'forest', 'of', 'Ewing', ',', 'accompanied', 'by', 'his', 'favorite', 'minstrels', '.']\n"
     ]
    },
    {
     "name": "stdout",
     "output_type": "stream",
     "text": [
      "(TOP (S2 (S (NP (Proper Sir) (Noun Robin)) (S|<VP-Punc> (VP (VBD rode) (S (INTJ (Noun north) ) (S|<Pause-PP-Pause-VP> (Pause ,) (S|<PP-Pause-VP> (PP (Prep through) (NP (NP (Det the) (NP|<Noun-Noun> (Noun dark) (Noun forest))) (PP (Prep of) (NP (VBG Ewing) )))) (S|<Pause-VP> (Pause ,) (VP (VBN accompanied) (PP (Prep by) (NP (NP (Poss_pron his) (Noun favorite)) (Nouns minstrels))))))))) (Punc .))) ) )\n",
      "(TOP (S2 (S (VP (ADVP (Adv Bravely) ) (VP|<Noun-NP-PP> (Noun bold) (VP|<NP-PP> (NP (NP (Proper Sir) ) (NP|<ADVP-Pause-VBD-NP> (ADVP (Noun Robin) ) (NP|<Pause-VBD-NP> (Pause ,) (NP|<VBD-NP> (VBD rode) (NP (Noun forth) ))))) (PP (Prep from) (NP (NNP Camelot) ))))) (Punc .)) ) )\n"
     ]
    },
    {
     "name": "stderr",
     "output_type": "stream",
     "text": [
      "#parsing: ['Bravely', 'bold', 'Sir', 'Robin', ',', 'rode', 'forth', 'from', 'Camelot', '.']\n",
      "#parsing: ['He', 'was', 'not', 'afraid', 'to', 'die', ',', 'o', 'Brave', 'Sir', 'Robin', '.']\n"
     ]
    },
    {
     "name": "stdout",
     "output_type": "stream",
     "text": [
      "(TOP (S1 (NP (PRP He) ) (VP (VBD was) (VP|<ADVP-S> (ADVP (ADV not) ) (S (NP (Noun afraid) ) (S|<VP-Punc> (VP (TO to) (VP (Noun die) (VP|<Pause-S> (Pause ,) (S (NP (Noun o) ) (VP (VB Brave) (NP (Proper Sir) (Noun Robin))))))) (Punc .)))))) )\n",
      "(TOP (S1 (NP (PRP He) ) (VP (VBD was) (VP|<ADVP-S> (ADVP (ADV not) ) (S (ADVP (Prep at) ) (S|<NP-VP-Punc> (NP (Det all) (Noun afraid)) (S|<VP-Punc> (VP (TO to) (VP (VB be) (VP (VBN killed) (PP (Prep in) (NP (Adj nasty) (Nouns ways)))))) (Punc .))))))) )\n"
     ]
    },
    {
     "name": "stderr",
     "output_type": "stream",
     "text": [
      "#parsing: ['He', 'was', 'not', 'at', 'all', 'afraid', 'to', 'be', 'killed', 'in', 'nasty', 'ways', '.']\n",
      "#parsing: ['Brave', ',', 'brave', ',', 'brave', ',', 'brave', 'Sir', 'Robin', '!']\n"
     ]
    },
    {
     "name": "stdout",
     "output_type": "stream",
     "text": [
      "(TOP (S2 (FRAG (INTJ (VB Brave) ) (FRAG|<Pause-INTJ-PRN-VP-Punc> (Pause ,) (FRAG|<INTJ-PRN-VP-Punc> (INTJ (Noun brave) ) (FRAG|<PRN-VP-Punc> (PRN (Pause ,) (PRN|<S-Pause> (S (VP (Noun brave) ) ) (Pause ,))) (FRAG|<VP-Punc> (VP (Noun brave) (NP (Proper Sir) (Noun Robin))) (Punc !)))))) ) )\n",
      "(TOP (S1 (NP (PRP He) ) (VP (VBD was) (VP|<ADVP-S> (ADVP (ADV not) ) (S (S (Prep in) (S (NP (Det the) (AdjS_Nbar (AdjS least) (Nbar (Noun bit) ))) (VP (VP (VBN scared) (VP (TO to) (VP (VB be) (VP (VBN mashed) (PP (Prep into) (NP (Det a) (Noun pulp))))))) (VP|<Pause-CC-VP> (Pause ,) (VP|<CC-VP> (CC Or) (VP (TO to) (VP (VB have) (S (NP (Poss_pron his) (Nouns eyes)) (VP (VBN gouged) (PP (Prep out) )))))))))) (S|<Pause-CC-S-Punc> (Pause ,) (S|<CC-S-Punc> (CC and) (S|<S-Punc> (S (NP (Poss_pron his) (Nouns elbows)) (VP (Noun broken) )) (Punc .)))))))) )\n"
     ]
    },
    {
     "name": "stderr",
     "output_type": "stream",
     "text": [
      "#parsing: ['He', 'was', 'not', 'in', 'the', 'least', 'bit', 'scared', 'to', 'be', 'mashed', 'into', 'a', 'pulp', ',', 'Or', 'to', 'have', 'his', 'eyes', 'gouged', 'out', ',', 'and', 'his', 'elbows', 'broken', '.']\n",
      "#parsing: ['To', 'have', 'his', 'kneecaps', 'split', ',', 'and', 'his', 'body', 'burned', 'away', ',', 'And', 'his', 'limbs', 'all', 'hacked', 'and', 'mangled', ',', 'brave', 'Sir', 'Robin', '!']\n"
     ]
    },
    {
     "name": "stdout",
     "output_type": "stream",
     "text": [
      "(TOP (S1 (VP (TO To) (VP (VB have) (NP (Poss_pron his) (Nouns kneecaps)))) (_VP (VP (Noun split) (VP|<Pause-S> (Pause ,) (S (CC and) (S|<S-Pause-S-Punc> (S (SBAR (SBAR (S (NP (Poss_pron his) (Noun body)) (S|<VBN-NP> (VBN burned) (NP (Adv away) ))) ) (SBAR|<Pause-CC-NP> (Pause ,) (SBAR|<CC-NP> (CC And) (NP (Poss_pron his) (Nouns limbs))))) (S|<NP-VP> (NP (Det all) ) (VP (VP (VBN hacked) ) (VP|<CC-VP> (CC and) (VP (VBN mangled) ))))) (S|<Pause-S-Punc> (Pause ,) (S|<S-Punc> (S (VP (Noun brave) (NP (Proper Sir) (Noun Robin))) ) (Punc !))))))) )) )\n"
     ]
    },
    {
     "name": "stderr",
     "output_type": "stream",
     "text": [
      "#parsing: ['His', 'head', 'smashed', 'in', 'and', 'his', 'heart', 'cut', 'out', ',', 'And', 'his', 'liver', 'removed', 'and', 'his', 'bowels', 'unplugged', ',', 'And', 'his', 'nostrils', 'ripped', 'and', 'his', 'bottom', 'burned', 'off', ',', 'And', 'his', 'penis', '--']\n"
     ]
    },
    {
     "name": "stdout",
     "output_type": "stream",
     "text": [
      "(TOP (S2 (S (NP (Poss_pron His) (Noun head)) (S|<VP-Pause> (VP (VBN smashed) (PP (Prep in) (SBAR (SBAR (SBAR (SBAR (SBAR (SBAR (S (NP (CC and) (NP (Poss_pron his) (Noun heart))) (VP (Noun cut) (PRT (Prep out) ))) ) (SBAR|<Pause-CC-NP> (Pause ,) (SBAR|<CC-NP> (CC And) (NP (NP (Poss_pron his) (Noun liver)) (VP (VBN removed) ))))) (SBAR|<CC-SBAR> (CC and) (SBAR (S (NP (Poss_pron his) (Nouns bowels)) (ADJP (Adj unplugged) )) ))) (SBAR|<Pause-CC-NP> (Pause ,) (SBAR|<CC-NP> (CC And) (NP (NP (Poss_pron his) (Nouns nostrils)) (ADJP (Noun ripped) ))))) (SBAR|<CC-SBAR> (CC and) (SBAR (S (NP (Poss_pron his) (Noun bottom)) (VP (VBN burned) (PP (Prep off) ))) ))) (SBAR|<Pause-CC-NP> (Pause ,) (SBAR|<CC-NP> (CC And) (NP (Poss_pron his) (Noun penis))))))) (Pause --))) ) )\n"
     ]
    },
    {
     "name": "stderr",
     "output_type": "stream",
     "text": [
      "#parsing: ['That', \"'s\", '--', 'that', \"'s\", ',', 'uh', ',', 'that', \"'s\", 'enough', 'music', 'for', 'now', ',', 'lads', '.']\n"
     ]
    },
    {
     "name": "stdout",
     "output_type": "stream",
     "text": [
      "(TOP (S2 (S (SBAR (SBAR (Det That) (S (INTJ (OTH 's) ) (S|<Pause-NP-VP> (Pause --) (S|<NP-VP> (NP (Det that) ) (VP (OTH 's) ))))) (SBAR|<Pause-NP> (Pause ,) (NP (Noun uh) ))) (S|<Pause-NP-VP-Punc> (Pause ,) (S|<NP-VP-Punc> (NP (Det that) ) (S|<VP-Punc> (VP (OTH 's) (VP|<ADVP-VP> (ADVP (Adv enough) ) (VP (Noun music) (PP (Prep for) (NP (NP (Adv now) ) (NP|<Pause-NP> (Pause ,) (NP (Nouns lads) ))))))) (Punc .))))) ) )\n",
      "(TOP (S1 (VP (Nouns Looks) (PP (Prep like) (NP (Adv there) ))) (_VP (VP (OTH 's) (NP (Noun dirty) (NP|<Noun-Noun> (Noun work) (Noun afoot)))) (Punc .))) )\n"
     ]
    },
    {
     "name": "stderr",
     "output_type": "stream",
     "text": [
      "#parsing: ['Looks', 'like', 'there', \"'s\", 'dirty', 'work', 'afoot', '.']\n",
      "#parsing: ['Anarcho', '-', 'syndicalism', 'is', 'a', 'way', 'of', 'preserving', 'freedom', '.']\n"
     ]
    },
    {
     "name": "stdout",
     "output_type": "stream",
     "text": [
      "(TOP (S1 (VP (Noun Anarcho) (VP|<OTH-NP-VP> (OTH -) (VP|<NP-VP> (NP (Noun syndicalism) ) (VP (VBP is) (NP (NP (Det a) (Noun way)) (PP (Prep of) (NP (VBG preserving) ))))))) (_VP (VP (Noun freedom) ) (Punc .))) )\n",
      "(TOP (S2 (S (INTJ (INTJ (UH Oh) ) (INTJ|<Pause-NP> (Pause ,) (NP (Proper Dennis) ))) (S|<Pause-VP-Punc> (Pause ,) (S|<VP-Punc> (VP (Noun forget) (PP (Prep about) (NP (Noun freedom) ))) (Punc .)))) ) )\n",
      "(TOP (S2 (S (ADVP (Adv Now) ) (S|<NP-VP-Punc> (NP (Noun I've) ) (S|<VP-Punc> (VP (VBD dropped) (NP (Poss_pron my) (Noun mud))) (Punc .)))) ) )\n",
      "(TOP (S1 (NP (Noun Halt) (Punc !)) ) )\n",
      "(TOP (S2 (SBARQ (WHNP (Wh_pro Who) ) (SBARQ|<SQ-Qmark> (SQ (VP (Noun art) (NP (Noun thou) )) ) (Qmark ?))) ) )\n",
      "(TOP (S1 (NP (PRP He) ) (VP (VBP is) (VP (Noun brave) (VP|<NP-Pause-S> (NP (Proper Sir) (Noun Robin)) (VP|<Pause-S> (Pause ,) (S (VP (Noun brave) (NP (NP (Proper Sir) (Noun Robin)) (NP|<Pause-NP-Pause> (Pause ,) (NP|<NP-Pause> (NP (Wh_pro who) ) (Pause --))))) )))))) )\n",
      "(TOP (S2 (INTJ (Noun Shut) (INTJ|<ADVP-Punc> (ADVP (Adv up) ) (Punc !))) ) )\n"
     ]
    },
    {
     "name": "stderr",
     "output_type": "stream",
     "text": [
      "#parsing: ['Oh', ',', 'Dennis', ',', 'forget', 'about', 'freedom', '.']\n",
      "#parsing: ['Now', \"I've\", 'dropped', 'my', 'mud', '.']\n",
      "#parsing: ['Halt', '!']\n",
      "#parsing: ['Who', 'art', 'thou', '?']\n",
      "#parsing: ['He', 'is', 'brave', 'Sir', 'Robin', ',', 'brave', 'Sir', 'Robin', ',', 'who', '--']\n",
      "#parsing: ['Shut', 'up', '!']\n",
      "#parsing: ['Um', ',', 'n', '-', 'n', '-', 'nobody', 'really', ',', \"I'm\", 'j', '-', 'just', 'um', ',', 'just', 'passing', 'through', '.']\n"
     ]
    },
    {
     "name": "stdout",
     "output_type": "stream",
     "text": [
      "(TOP (S2 (FRAG (INTJ (Noun Um) ) (FRAG|<Pause-INTJ-PRN-VP-Punc> (Pause ,) (FRAG|<INTJ-PRN-VP-Punc> (INTJ (Noun n) ) (FRAG|<PRN-VP-Punc> (PRN (OTH -) (PRN|<ADJP-OTH> (ADJP (Noun n) ) (OTH -))) (FRAG|<VP-Punc> (VP (VP (Noun nobody) (VP|<ADVP-Pause-NP> (ADVP (Adv really) ) (VP|<Pause-NP> (Pause ,) (NP (Noun I'm) )))) (VP|<Noun-VP> (Noun j) (VP (OTH -) (VP|<ADVP-VP> (ADVP (Adv just) ) (VP (Noun um) (VP|<Pause-S> (Pause ,) (S (NP (Adv just) ) (VP (Noun passing) (PRT (Prep through) ))))))))) (Punc .)))))) ) )\n",
      "(TOP (S2 (SBARQ (WHNP (Qword What) ) (SBARQ|<SQ-Qmark> (SQ (VB do) (SQ|<NP-VP> (NP (PRP you) ) (VP (Noun want) ))) (Qmark ?))) ) )\n",
      "(TOP (S2 (TO To) (_Noun (Noun fight) (_Pause (Pause ,) (_CC (CC and) (_Pause (Pause --) ))))) )\n",
      "(TOP (S2 (INTJ (Noun Shut) (INTJ|<ADVP-Punc> (ADVP (Adv up) ) (Punc !))) ) )\n"
     ]
    },
    {
     "name": "stderr",
     "output_type": "stream",
     "text": [
      "#parsing: ['What', 'do', 'you', 'want', '?']\n",
      "#parsing: ['To', 'fight', ',', 'and', '--']\n",
      "#parsing: ['Shut', 'up', '!']\n",
      "#parsing: ['Um', ',', 'oo', ',', 'n', '-', 'nothing', ',', 'nothing', 'really', '--', 'I', ',', 'uh', ',', 'j', '-', 'j', '-', 'ust', 'to', 'um', ',', 'just', 'to', 'p', '-', 'pass', 'through', ',', 'good', 'Sir', 'knight', '.']\n"
     ]
    },
    {
     "name": "stdout",
     "output_type": "stream",
     "text": [
      "(TOP (S2 (FRAG (INTJ (INTJ (Noun Um) ) (INTJ|<Pause-NP> (Pause ,) (NP (Noun oo) ))) (FRAG|<Pause-INTJ-PRN-VP-Punc> (Pause ,) (FRAG|<INTJ-PRN-VP-Punc> (INTJ (Noun n) ) (FRAG|<PRN-VP-Punc> (PRN (OTH -) (PRN|<S-OTH> (S (INTJ (INTJ (INTJ (Noun nothing) ) (INTJ|<Pause-NP-ADVP> (Pause ,) (INTJ|<NP-ADVP> (NP (Noun nothing) ) (ADVP (Adv really) )))) (INTJ|<Pause-NP-ADVP> (Pause --) (INTJ|<NP-ADVP> (NP (NP (PRP I) ) (NP|<Pause-NP-Pause-NP-Pause> (Pause ,) (NP|<NP-Pause-NP-Pause> (NP (Noun uh) ) (NP|<Pause-NP-Pause> (Pause ,) (NP|<NP-Pause> (NP (NP (Noun j) ) (NP|<PRN-Noun-SBAR> (PRN (OTH -) (PRN|<ADJP-OTH> (ADJP (Noun j) ) (OTH -))) (NP|<Noun-SBAR> (Noun ust) (SBAR (S (VP (TO to) (VP (Noun um) )) ) )))) (Pause ,)))))) (ADVP (Adv just) )))) (VP (TO to) (VP (Noun p) ))) (OTH -))) (FRAG|<VP-Punc> (VP (Noun pass) (VP|<ADVP-Pause-NP> (ADVP (Prep through) ) (VP|<Pause-NP> (Pause ,) (NP (Adj good) (NP|<Proper-Noun> (Proper Sir) (Noun knight)))))) (Punc .)))))) ) )\n",
      "(TOP (S2 (S (VP (Noun I'm) (VP|<NP-ADVP> (NP (Noun afraid) ) (ADVP (ADV not) ))) (Punc !)) ) )\n",
      "(TOP (S2 (S (VP (OTH Ah) ) (Punc .)) ) )\n"
     ]
    },
    {
     "name": "stderr",
     "output_type": "stream",
     "text": [
      "#parsing: [\"I'm\", 'afraid', 'not', '!']\n",
      "#parsing: ['Ah', '.']\n",
      "#parsing: ['W', '-', 'well', ',', 'actually', 'I', 'am', 'a', 'Knight', 'of', 'the', 'Round', 'Table', '.']\n"
     ]
    },
    {
     "name": "stdout",
     "output_type": "stream",
     "text": [
      "(TOP (S1 (NP (Noun W) ) (VP (OTH -) (SBAR (S (INTJ (Adv well) ) (S|<Pause-ADVP-NP-VP-Punc> (Pause ,) (S|<ADVP-NP-VP-Punc> (ADVP (Adv actually) ) (S|<NP-VP-Punc> (NP (PRP I) ) (S|<VP-Punc> (VP (VBP am) (NP (NP (Det a) (Proper Knight)) (PP (Prep of) (NP (Det the) (NP|<Noun-Noun> (Noun Round) (Noun Table)))))) (Punc .)))))) ))) )\n",
      "(TOP (S2 (S (VP (Noun You're) (VP|<NP-PP> (NP (Det a) (Proper Knight)) (PP (Prep of) (NP (Det the) (NP|<Noun-Noun> (Noun Round) (Noun Table)))))) (Qmark ?)) ) )\n",
      "(TOP (S2 (S (NP (PRP I) ) (S|<VP-Punc> (VP (VBP am) ) (Punc .))) ) )\n",
      "(TOP (S2 (S (PP (Prep In) (NP (Det that) (Noun case))) (S|<NP-VP> (NP (PRP I) ) (VP (MD shall) (VP (VB have) (S (VP (TO to) (VP (Noun kill) (NP (PRP you) ))) (Punc .)))))) ) )\n",
      "(TOP (S2 (S (VP (Noun Shall) (NP (PRP I) )) (Qmark ?)) ) )\n",
      "(TOP (S2 (UH Oh) (_Pause (Pause ,) (_PRP (PRP I) (_Aux (Aux do) (_Adv (Adv n't) (_Noun (Noun think) (_CC (CC so) (_Punc (Punc .) )))))))) )\n",
      "(TOP (S2 (SBARQ (ADVP (Adv Well) ) (SBARQ|<Pause-WHADVP-SQ-Qmark> (Pause ,) (SBARQ|<WHADVP-SQ-Qmark> (WHADVP (Qword what) ) (SBARQ|<SQ-Qmark> (SQ (VB do) (SQ|<NP-VP> (NP (PRP I) ) (VP (Noun think) ))) (Qmark ?))))) ) )\n"
     ]
    },
    {
     "name": "stderr",
     "output_type": "stream",
     "text": [
      "#parsing: [\"You're\", 'a', 'Knight', 'of', 'the', 'Round', 'Table', '?']\n",
      "#parsing: ['I', 'am', '.']\n",
      "#parsing: ['In', 'that', 'case', 'I', 'shall', 'have', 'to', 'kill', 'you', '.']\n",
      "#parsing: ['Shall', 'I', '?']\n",
      "#parsing: ['Oh', ',', 'I', 'do', \"n't\", 'think', 'so', '.']\n",
      "#parsing: ['Well', ',', 'what', 'do', 'I', 'think', '?']\n",
      "#parsing: ['I', 'think', 'kill', 'him', '.']\n"
     ]
    },
    {
     "name": "stdout",
     "output_type": "stream",
     "text": [
      "(TOP (S2 (S (NP (PRP I) ) (S|<VP-Punc> (VP (Noun think) (VP (Noun kill) (NP (PRP him) ))) (Punc .))) ) )\n",
      "(TOP (S2 (S (Adv Well) (S|<VP-Punc> (VP (VB let) (VP (OTH 's) (VP (VB be) (VP|<ADJP-PP> (ADJP (Adj nice) ) (PP (TO to) (NP (PRP him) )))))) (Punc .))) ) )\n",
      "(TOP (S2 (INTJ (UH Oh) (INTJ (Noun shut) (INTJ|<ADVP-Punc> (ADVP (Adv up) ) (Punc .)))) ) )\n",
      "(TOP (S2 (Adv Perhaps) (_OTH (OTH -) )) )\n",
      "(TOP (S2 (CC And) (_PRP (PRP you) (_Punc (Punc .) ))) )\n"
     ]
    },
    {
     "name": "stderr",
     "output_type": "stream",
     "text": [
      "#parsing: ['Well', 'let', \"'s\", 'be', 'nice', 'to', 'him', '.']\n",
      "#parsing: ['Oh', 'shut', 'up', '.']\n",
      "#parsing: ['Perhaps', '-']\n",
      "#parsing: ['And', 'you', '.']\n",
      "#parsing: ['Oh', 'quick', 'get', 'the', 'sword', 'out', 'I', 'want', 'to', 'cut', 'his', 'head', 'off', '!']\n"
     ]
    },
    {
     "name": "stdout",
     "output_type": "stream",
     "text": [
      "(TOP (S2 (S (INTJ (UH Oh) (Noun quick)) (VP (VB get) (VP|<NP-PP-S> (NP (Det the) (Noun sword)) (VP|<PP-S> (PP (Prep out) (NP (PRP I) )) (S (NP (Noun want) ) (S|<VP-Punc> (VP (TO to) (VP (Noun cut) (VP|<NP-PRT> (NP (Poss_pron his) (Noun head)) (PRT (Prep off) )))) (Punc !))))))) ) )\n",
      "(TOP (S2 (S (INTJ (UH Oh) ) (S|<Pause-VP-Punc> (Pause ,) (S|<VP-Punc> (VP (Noun cut) (VP|<NP-PRT> (NP (Poss_pron your) (NP|<Adj-Noun> (Adj own) (Noun head))) (PRT (Prep off) ))) (Punc !)))) ) )\n",
      "(TOP (S2 (S (INTJ (UH Yes) ) (S|<Pause-VP-Punc> (Pause ,) (S|<VP-Punc> (VP (VB do) (VP|<NP-NP> (NP (PRP us) ) (NP (Det all) (NP|<Det-Noun> (Det a) (Noun favor))))) (Punc !)))) ) )\n",
      "(TOP (S2 (FRAG (Qword What) (Qmark ?)) ) )\n",
      "(TOP (S2 (S (VP (VBG Yapping) (PP (Prep on) (NP (Det all) (NP|<Det-Noun> (Det the) (Noun time))))) (Punc .)) ) )\n",
      "(TOP (S2 (S (VP (Noun You're) (ADJP (Adj lucky) )) (Punc .)) ) )\n",
      "(TOP (S2 (FRAG (Noun You're) (FRAG|<ADV-NP-Punc> (ADV not) (FRAG|<NP-Punc> (NP (NP (Adj next) ) (PP (TO to) (NP (PRP him) ))) (Punc .)))) ) )\n",
      "(TOP (S2 (SBARQ (WHNP (Qword What) ) (SBARQ|<SQ-Qmark> (SQ (VB do) (SQ|<NP-VP> (NP (PRP you) ) (VP (Noun mean) ))) (Qmark ?))) ) )\n",
      "(TOP (S2 (S (NP (PRP You) ) (S|<VP-Punc> (VP (Noun snore) ) (Punc .))) ) )\n"
     ]
    },
    {
     "name": "stderr",
     "output_type": "stream",
     "text": [
      "#parsing: ['Oh', ',', 'cut', 'your', 'own', 'head', 'off', '!']\n",
      "#parsing: ['Yes', ',', 'do', 'us', 'all', 'a', 'favor', '!']\n",
      "#parsing: ['What', '?']\n",
      "#parsing: ['Yapping', 'on', 'all', 'the', 'time', '.']\n",
      "#parsing: [\"You're\", 'lucky', '.']\n",
      "#parsing: [\"You're\", 'not', 'next', 'to', 'him', '.']\n",
      "#parsing: ['What', 'do', 'you', 'mean', '?']\n",
      "#parsing: ['You', 'snore', '.']\n",
      "#parsing: ['Oh', 'I', 'do', \"n't\", '--', 'anyway', ',', 'you', \"'ve\", 'got', 'bad', 'breath', '.']\n"
     ]
    },
    {
     "name": "stdout",
     "output_type": "stream",
     "text": [
      "(TOP (S2 (S (ADVP (UH Oh) ) (S|<NP-VP-Punc> (NP (PRP I) ) (S|<VP-Punc> (VP (VP (VB do) (ADVP (Adv n't) )) (VP|<Pause-S> (Pause --) (S (INTJ (Adv anyway) ) (S|<Pause-NP-VP> (Pause ,) (S|<NP-VP> (NP (PRP you) ) (VP (OTH 've) (VP (VBD got) (NP (Adj bad) (Noun breath))))))))) (Punc .)))) ) )\n",
      "(TOP (S2 (S (ADVP (Adv Well) ) (S|<NP-VP-Punc> (NP (NP (Poss_pron its) ) (SBAR (Adv only) (SBAR|<CONJ-S> (CONJ because) (S (NP (PRP you) ) (VP (VB do) (ADVP (Adv n't) )))))) (S|<VP-Punc> (VP (Noun brush) (NP (Poss_pron my) (Nouns teeth))) (Punc .)))) ) )\n",
      "(TOP (S2 (S (ADVP (UH Oh) ) (S|<NP-VP-Punc> (NP (Noun stop) ) (S|<VP-Punc> (VP (VP (Noun bitching) ) (VP|<CC-VP> (CC and) (VP (VB let) (VP (OTH 's) (VP (VB go) (VP (VB have) (NP (Noun tea) ))))))) (Punc .)))) ) )\n",
      "(TOP (S1 (NP (NP (Det All) (Noun right)) (NP|<Pause-NP-Pause-NP-Pause> (Pause ,) (NP|<NP-Pause-NP-Pause> (NP (Det all) (Noun right)) (NP|<Pause-NP-Pause> (Pause ,) (NP|<NP-Pause> (NP (Det all) (Noun right)) (Pause .)))))) ) )\n"
     ]
    },
    {
     "name": "stderr",
     "output_type": "stream",
     "text": [
      "#parsing: ['Well', 'its', 'only', 'because', 'you', 'do', \"n't\", 'brush', 'my', 'teeth', '.']\n",
      "#parsing: ['Oh', 'stop', 'bitching', 'and', 'let', \"'s\", 'go', 'have', 'tea', '.']\n",
      "#parsing: ['All', 'right', ',', 'all', 'right', ',', 'all', 'right', '.']\n",
      "#parsing: ['We', \"'ll\", 'kill', 'him', 'first', 'and', 'then', 'have', 'tea', 'and', 'biscuits', '.']\n"
     ]
    },
    {
     "name": "stdout",
     "output_type": "stream",
     "text": [
      "(TOP (S2 (S (S (NP (PRP We) ) (VP (OTH 'll) (VP|<Noun-NP-ADVP> (Noun kill) (VP|<NP-ADVP> (NP (PRP him) ) (ADVP (Adv first) ))))) (S|<CC-S-Punc> (CC and) (S|<S-Punc> (S (NP (Adv then) ) (VP (VB have) (NP (NP (Noun tea) ) (NP|<CC-NP> (CC and) (NP (Nouns biscuits) ))))) (Punc .)))) ) )\n",
      "(TOP (S2 (INTJ (UH Yes) (Punc .)) ) )\n",
      "(TOP (S2 (UH Oh) (_Pause (Pause ,) (_CC (CC but) (_ADV (ADV not) (_Nouns (Nouns biscuits) (Punc .)))))) )\n",
      "-cross entropy: -9.666825363823383\n"
     ]
    },
    {
     "name": "stderr",
     "output_type": "stream",
     "text": [
      "#parsing: ['Yes', '.']\n",
      "#parsing: ['Oh', ',', 'but', 'not', 'biscuits', '.']\n",
      "#-cross entropy (bits/word): -9.66683\n"
     ]
    }
   ],
   "source": [
    "parse_gram = Pcfg([\"S1.gr\",\"S2.gr\",\"Vocab.gr\"])\n",
    "parser = CkyParse(parse_gram, beamsize=0.00001)\n",
    "ce, trees = parser.parse_file('devset.txt')\n",
    "print(\"-cross entropy: {}\".format(ce))"
   ]
  }
 ],
 "metadata": {
  "kernelspec": {
   "display_name": "Python 3",
   "language": "python",
   "name": "python3"
  },
  "language_info": {
   "codemirror_mode": {
    "name": "ipython",
    "version": 3
   },
   "file_extension": ".py",
   "mimetype": "text/x-python",
   "name": "python",
   "nbconvert_exporter": "python",
   "pygments_lexer": "ipython3",
   "version": "3.6.6"
  }
 },
 "nbformat": 4,
 "nbformat_minor": 2
}
